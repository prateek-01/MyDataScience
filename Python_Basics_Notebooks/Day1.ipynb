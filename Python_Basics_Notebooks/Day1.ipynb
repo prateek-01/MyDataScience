{
 "metadata": {
  "kernelspec": {
   "display_name": "Python 2",
   "language": "python",
   "name": "python2"
  },
  "language_info": {
   "codemirror_mode": {
    "name": "ipython",
    "version": 2
   },
   "file_extension": ".py",
   "mimetype": "text/x-python",
   "name": "python",
   "nbconvert_exporter": "python",
   "pygments_lexer": "ipython2",
   "version": "2.7.10"
  },
  "name": "",
  "signature": "sha256:ce25a1c9573d5c26c91006a110886eec8cd0197f5b807754e4b1bb6adeb370a3"
 },
 "nbformat": 3,
 "nbformat_minor": 0,
 "worksheets": [
  {
   "cells": [
    {
     "cell_type": "markdown",
     "metadata": {},
     "source": [
      "**Python Session 1**\n",
      "\n",
      "**Course Plan**\n",
      "\n",
      "+ We will learn Python from basics and will cover advanced concepts\n",
      "+ Language constructs, programming in Python, data cleaning and manipulation, data analysis, plotting, web scraping, textual analysis.\n",
      "+ First session will focus on building blocks of the language\n",
      "+ Completely hands-on approach\n",
      "+ Analogies to SAS, R, STATA wherever applicable"
     ]
    },
    {
     "cell_type": "markdown",
     "metadata": {},
     "source": [
      "**What is Python**\n",
      "\n",
      "+ High level, general purpose programming language\n",
      "+ First introduced in 1991\n",
      "+ Dynamic, interpreted language\n",
      "+ Language of choice of web programming, and scripting purposes\n",
      "+ Great tool for scientific computing community, explosive growth in the scientific computing and data analytics capabilities\n",
      "+ Fairly large scientific community and is used in a variety of settings such as financial research, algorithms development, options and derivatives pricing, financial modeling, trading systems, network analysis, and machine learning.\n",
      "+ No type declarations thus making coding short\n",
      "\n",
      "**Why Python?**\n",
      "\n",
      "+ Simple to understand, easy to learn\n",
      "+ Object oriented structure makes programming very easy\n",
      "+ Platform independent \n",
      "+ Open source and has support from a huge scientific community that contributes actively to Python development\n",
      "+ A number of libraries for research tasks and the capabilities are growing by the day\n",
      "+ De facto choice for textual data analytics"
     ]
    },
    {
     "cell_type": "markdown",
     "metadata": {},
     "source": [
      "**Important Packages**\n",
      "\n",
      "+ NumPy: Numerical Python (NumPy) is the foundation package. Other packages and libraries are built on top of NumPy. \n",
      "+ pandas: Provides data structures and processing capabilities similar to ones found in R and Excel. Also provides time series capabilities.\n",
      "+ SciPy: Collection of packages to tackle a number of computing problems in data analytics, statistics, and linear algebra.\n",
      "+ matplotlib: Plotting library. Allows to plot a number of 2D graphs and will serve as primary graphics library.\n",
      "+ IPython: Interactive Python shell that allows quick prototyping of code. \n",
      "+ Statsmodels: Allows data analysis, statistical model estimation, statistical tests, and regressions, and function plotting. \n",
      "+ BeautifulSoup: Python library for crawling the web. Allows you to pull data from HTML and XML pages. \n",
      "+ Scikits: A number of packages for running simulations, machine learning, data mining, optimization, and time series models. \n",
      "+ RPy: Integrates Python with R, allows calling of R commands from Python code"
     ]
    },
    {
     "cell_type": "markdown",
     "metadata": {},
     "source": [
      "**Installation**\n",
      "\n",
      "+ Many Python distributions available. We will use Enthought Canopy.\n",
      "+ Built specifically for scientific community. \n",
      "+ Collection of more that 14000 packages, and an excellent development environment.\n",
      "+ Academic license available for researchers\n",
      "+ Register on: https://www.enthought.com/accounts/register/\n",
      "+ Download Canopy Full Installer: https://www.enthought.com/downloads/\n",
      "+ Install downloaded file.\n",
      "+ To check if Python installed correctly, go to Command Prompt and type \u2018python\u2019\n",
      "\n",
      "**Enthought Canopy**\n",
      "\n",
      "Three major components:\n",
      "\n",
      "+ Text editor and integrated Ipython console\n",
      "+ GUI based package manager\n",
      "+ Canopy documentation\n"
     ]
    },
    {
     "cell_type": "markdown",
     "metadata": {},
     "source": [
      "**Programming in Python**\n",
      "\n",
      "Two basic modes:\n",
      "\n",
      "+ Interactive: Quick way of writing and testing code. Interactive in nature and gives results on the fly.\n",
      "+ Interactive mode is recommended when some idea/result is to be quickly tested.\n",
      "+ Script: Write complete code just like in any other language. Run all or some part of the code.\n",
      "+ Code can be stored in scripts and run at a later time. \n",
      "+ Python scripts end with a .py extension\n",
      "\n",
      "**IPython notebook**\n",
      "\n",
      "IPython is a software package in Python that serves as a research notebook. IPython has a seamless interface using which you can write notes as well as perform data analysis in the same file. The data analysis part allows you to write the code and run it from within the notebook itself. The results also are displayed in the notebook. Among other things, IPython provides:\n",
      "\n",
      "1. An interactive shell\n",
      "2. Notebook that is browser based. The notebook supports text, code, expressions, graphs and interactive data visualization, embed images and videos, and also links to web pages on the Internet. \n",
      "3. Tools for parallel computing.\n",
      "4. Import external code and run it.\n",
      "5. Export the notebook in a number of formats.\n",
      "\n",
      "**Downloading and installing IPython notebook**\n",
      "\n",
      "Ipython notebook can be installed (if it is not already installed) on using Enthought Canopy. To install IPython notebook, go to Package Manager and search IPython. A list of options will come up detailing if IPython is already installed or if there is a newer version available. Click on Install. Once IPython is installed, it can be launched from Enthough Canopy.\n",
      "\n",
      "**Creating an IPython notebook**\n",
      "\n",
      "In order to create an IPython notebook, choose File -> New -> IPython notebook. \n",
      "\n",
      "Hitting Alt-Enter creates a new cell. A cell is nothing but a placeholder where you can write some text or execute code."
     ]
    },
    {
     "cell_type": "code",
     "collapsed": false,
     "input": [
      "print \"An example of code execution in IPython\"\n",
      "23*543"
     ],
     "language": "python",
     "metadata": {},
     "outputs": [
      {
       "output_type": "stream",
       "stream": "stdout",
       "text": [
        "An example of code execution in IPython\n"
       ]
      },
      {
       "metadata": {},
       "output_type": "pyout",
       "prompt_number": 2,
       "text": [
        "12489"
       ]
      }
     ],
     "prompt_number": 2
    },
    {
     "cell_type": "markdown",
     "metadata": {},
     "source": [
      "In order to find help on some concept, make use of ? If you want to find a function or make use of wildcard entry, make use of followed by ? A quickref command gives you a quick reference to the most commonly used commands in Python."
     ]
    },
    {
     "cell_type": "code",
     "collapsed": false,
     "input": [
      "import collections\n",
      "collections.namedtuple?"
     ],
     "language": "python",
     "metadata": {},
     "outputs": [],
     "prompt_number": 3
    },
    {
     "cell_type": "code",
     "collapsed": false,
     "input": [
      "import numpy as np\n",
      "np.*mean*?\n",
      "np.arange"
     ],
     "language": "python",
     "metadata": {},
     "outputs": [
      {
       "metadata": {},
       "output_type": "pyout",
       "prompt_number": 4,
       "text": [
        "<function numpy.core.multiarray.arange>"
       ]
      }
     ],
     "prompt_number": 4
    },
    {
     "cell_type": "markdown",
     "metadata": {},
     "source": [
      "#Important\n",
      "Tab is a very handy feature in Python. It gives you a list of all the functions and commands that are associated with a package (such as NumPy). For example, if you type np. and then press tab, a dropdown will come up with the list of all the functions associate with np. By using this, you do not have to rememeber the functions specifics and can just use tab completion."
     ]
    },
    {
     "cell_type": "markdown",
     "metadata": {},
     "source": [
      "If you want to know the histroy of commands, make use of history command. This feature also allows you to extract code from a IPython notebook to a separate file. "
     ]
    },
    {
     "cell_type": "code",
     "collapsed": false,
     "input": [
      "history"
     ],
     "language": "python",
     "metadata": {},
     "outputs": [
      {
       "output_type": "stream",
       "stream": "stdout",
       "text": [
        "type(a)\n",
        "a + str(len(a))\n",
        "print \"An example of code execution in IPython\"\n",
        "23*543\n",
        "import collections\n",
        "collections.namedtuple?\n",
        "import numpy as np\n",
        "np.*mean*?\n",
        "np.arange\n",
        "history\n"
       ]
      }
     ],
     "prompt_number": 5
    },
    {
     "cell_type": "markdown",
     "metadata": {},
     "source": [
      "**Running external code files in IPython**\n",
      "\n",
      "If you want to run external code files in Python, make use of %run command followed by the path of the file. IPython shell will execute the code and will display the results."
     ]
    },
    {
     "cell_type": "code",
     "collapsed": false,
     "input": [
      "%run \"D:\\fibonacci.py\""
     ],
     "language": "python",
     "metadata": {},
     "outputs": [
      {
       "output_type": "stream",
       "stream": "stderr",
       "text": [
        "ERROR: File `u'D:\\\\fibonacci.py'` not found.\n"
       ]
      }
     ],
     "prompt_number": 6
    },
    {
     "cell_type": "markdown",
     "metadata": {},
     "source": [
      "**Syntax Formalities**\n",
      "\n",
      "+ Python is case sensitive\n",
      "+ Python makes use of whitespace for code structuring and marking logical breaks in the code (In contrast to other programming languages that use braces)\n",
      "+ End of line marks end of a statement, so does not require a semicolon at end of each statement\n",
      "+ Whitespace at the beginning of the line is important. This is called indentation.\n",
      "+ Leading whitespace (spaces and tabs) at the beginning of the logical line is used to determine the indentation level of the logical line.\n",
      "+ Statements which go together must have the same indentation. Each such set of statements is called a block."
     ]
    },
    {
     "cell_type": "code",
     "collapsed": false,
     "input": [
      "i = 5\n",
      "a =7 \n",
      "i ='text'\n",
      "print ('Value is ', i) # Error! Notice a single space at the start of the li\n",
      "print ('I repeat, the value is ', i)"
     ],
     "language": "python",
     "metadata": {},
     "outputs": [
      {
       "output_type": "stream",
       "stream": "stdout",
       "text": [
        "('Value is ', 'text')\n",
        "('I repeat, the value is ', 'text')\n"
       ]
      }
     ],
     "prompt_number": 7
    },
    {
     "cell_type": "markdown",
     "metadata": {},
     "source": [
      "**Comments** \n",
      "\n",
      "One line comments are denoted by (#) at the start of line\n",
      "Multiple line comments start with ''' and end with '''"
     ]
    },
    {
     "cell_type": "code",
     "collapsed": false,
     "input": [
      "# this is a single line comment\n",
      "'''\n",
      "print(\"We are in a comment\")\n",
      "print (\"We are still in a comment\")\n",
      "'''\n",
      "print(\"We are out of the comment\")"
     ],
     "language": "python",
     "metadata": {},
     "outputs": [
      {
       "output_type": "stream",
       "stream": "stdout",
       "text": [
        "We are out of the comment\n"
       ]
      }
     ],
     "prompt_number": 8
    },
    {
     "cell_type": "code",
     "collapsed": false,
     "input": [
      "#Example of indentation\n",
      "'''\n",
      "for x in alist:\n",
      "    if x < anumber:\n",
      "            print(x)\n",
      "    else:\n",
      "        print(-x)\n",
      "        \n",
      "is similar to\n",
      "\n",
      "for x in alist \n",
      "{if x < anumber  {\n",
      "        print(x)\n",
      "    }\n",
      "    else\n",
      "    {\n",
      "        print(-x)\n",
      "    }\n",
      "}\n",
      "'''"
     ],
     "language": "python",
     "metadata": {},
     "outputs": [
      {
       "metadata": {},
       "output_type": "pyout",
       "prompt_number": 9,
       "text": [
        "'\\nfor x in alist:\\n    if x < anumber:\\n            print(x)\\n    else:\\n        print(-x)\\n        \\nis similar to\\n\\nfor x in alist \\n{if x < anumber  {\\n        print(x)\\n    }\\n    else\\n    {\\n        print(-x)\\n    }\\n}\\n'"
       ]
      }
     ],
     "prompt_number": 9
    },
    {
     "cell_type": "code",
     "collapsed": false,
     "input": [
      "if x < 5:\n",
      "    print x\n",
      "print 5"
     ],
     "language": "python",
     "metadata": {},
     "outputs": [
      {
       "ename": "NameError",
       "evalue": "name 'x' is not defined",
       "output_type": "pyerr",
       "traceback": [
        "\u001b[1;31m---------------------------------------------------------------------------\u001b[0m\n\u001b[1;31mNameError\u001b[0m                                 Traceback (most recent call last)",
        "\u001b[1;32m<ipython-input-10-2d6f986371a0>\u001b[0m in \u001b[0;36m<module>\u001b[1;34m()\u001b[0m\n\u001b[1;32m----> 1\u001b[1;33m \u001b[1;32mif\u001b[0m \u001b[0mx\u001b[0m \u001b[1;33m<\u001b[0m \u001b[1;36m5\u001b[0m\u001b[1;33m:\u001b[0m\u001b[1;33m\u001b[0m\u001b[0m\n\u001b[0m\u001b[0;32m      2\u001b[0m     \u001b[1;32mprint\u001b[0m \u001b[0mx\u001b[0m\u001b[1;33m\u001b[0m\u001b[0m\n\u001b[0;32m      3\u001b[0m \u001b[1;32mprint\u001b[0m \u001b[1;36m5\u001b[0m\u001b[1;33m\u001b[0m\u001b[0m\n",
        "\u001b[1;31mNameError\u001b[0m: name 'x' is not defined"
       ]
      }
     ],
     "prompt_number": 10
    },
    {
     "cell_type": "code",
     "collapsed": false,
     "input": [
      "x = 21\n",
      "y =25\n",
      "print x\n",
      "if x<10:\n",
      "    print x\n",
      "    \n",
      "    print y"
     ],
     "language": "python",
     "metadata": {},
     "outputs": []
    },
    {
     "cell_type": "markdown",
     "metadata": {},
     "source": [
      "**Variables and Data Structures**\n",
      "\n",
      "+ Built-in data types:\n",
      "Integer, Floating point, String, Boolean Values, Date and Time\n",
      "\n",
      "+ Additional data structures:\n",
      "Tuples, Lists, Dictionary\n",
      "\n",
      "+ A variable is a name that refers to a value.\n",
      "+ No need to specify type to a variable; Python automatically assigns.\n"
     ]
    },
    {
     "cell_type": "code",
     "collapsed": false,
     "input": [
      "counter = 100          # An integer assignment\n",
      "miles   = 1000.0       # A floating point\n",
      "name    = 'Ajay'        # A string\n",
      "\n",
      "print counter\n",
      "print miles\n",
      "print name\n",
      "\n",
      "a = 11111\n",
      "b = 2.0\n",
      "c = \"0\"\n",
      "d = \"2\"\n",
      "print(b + a)\n",
      "print(c  + d)"
     ],
     "language": "python",
     "metadata": {},
     "outputs": []
    },
    {
     "cell_type": "markdown",
     "metadata": {},
     "source": [
      "**Strings**\n",
      "\n",
      "+ Built-in string class named \"str\" with many handy features\n",
      "+ In addition to numerical data processing, Python has very strong string processing capabilities. \n",
      "+ Subsets of strings can be taken using the slice operator ( [ ] and [ : ] ) with indexes starting at 0 in the beginning of the string and working their way from -1 at the end.\n",
      "+ The plus ( + ) sign is the string concatenation operator and the asterisk ( * ) is the repetition operator.\n",
      "+ Strings in Python are immutable. Unlike other datasets such as lists, you cannot manipulate individual string values. In order to do so, you have to take subsets of strings and form a new string. \n",
      "+ A string can be converted to a numerical type and vice versa (wherever applicable). Many a times, raw data, although numeric, is coded in string format. This feature provides a clean way to make sure all of the data is in numeric form.\n",
      "+ Strings are sequence of characters and can be tokenized.\n",
      "+ Strings and numbers can also be formatted.\n",
      "\n"
     ]
    },
    {
     "cell_type": "code",
     "collapsed": false,
     "input": [
      "Note ->Variable definition gets precedence over Keyword , like in 'str'\n",
      "str = 'Hello World'  #String is stored as an array   \n",
      "print str    # prints complete string\n",
      "print str[0]  # prints first character of string\n",
      "print str[2:5]   #prints characters starting from 3rd to 5th \n",
      "print str[2:]    #prints string starting from 3rd character\n",
      "print str*2    #prints string two times\n",
      "print str + \"TEST\"   # prints concatenated string"
     ],
     "language": "python",
     "metadata": {},
     "outputs": []
    },
    {
     "cell_type": "code",
     "collapsed": false,
     "input": [
      "str =\"hello\"\n",
      "print(str[-1])\n",
      "\n",
      "a = 'this is a string'\n",
      "b = a.replace('string','longer string')\n",
      "print a \n",
      "print b\n",
      "\n",
      "a = '20'\n",
      "anum = int(a)\n",
      "print anum + anum\n",
      "\n",
      "\n",
      "#a = \"hi\"   #No default conversion to ASCII values\n",
      "#anum = int(a)\n",
      "#print anum\n",
      "\n"
     ],
     "language": "python",
     "metadata": {},
     "outputs": []
    },
    {
     "cell_type": "code",
     "collapsed": false,
     "input": [
      "a = \"hi\"\n",
      "print a\n",
      "print len(a)\n"
     ],
     "language": "python",
     "metadata": {},
     "outputs": []
    },
    {
     "cell_type": "code",
     "collapsed": false,
     "input": [
      "a + len(a) "
     ],
     "language": "python",
     "metadata": {},
     "outputs": [
      {
       "ename": "TypeError",
       "evalue": "object of type 'int' has no len()",
       "output_type": "pyerr",
       "traceback": [
        "\u001b[1;31m---------------------------------------------------------------------------\u001b[0m\n\u001b[1;31mTypeError\u001b[0m                                 Traceback (most recent call last)",
        "\u001b[1;32m<ipython-input-11-014c265d8bee>\u001b[0m in \u001b[0;36m<module>\u001b[1;34m()\u001b[0m\n\u001b[1;32m----> 1\u001b[1;33m \u001b[0ma\u001b[0m \u001b[1;33m+\u001b[0m \u001b[0mlen\u001b[0m\u001b[1;33m(\u001b[0m\u001b[0ma\u001b[0m\u001b[1;33m)\u001b[0m\u001b[1;33m\u001b[0m\u001b[0m\n\u001b[0m",
        "\u001b[1;31mTypeError\u001b[0m: object of type 'int' has no len()"
       ]
      }
     ],
     "prompt_number": 11
    },
    {
     "cell_type": "code",
     "collapsed": false,
     "input": [
      "\n",
      "a + len(str(a))\n"
     ],
     "language": "python",
     "metadata": {},
     "outputs": [
      {
       "metadata": {},
       "output_type": "pyout",
       "prompt_number": 15,
       "text": [
        "8"
       ]
      }
     ],
     "prompt_number": 15
    },
    {
     "cell_type": "code",
     "collapsed": false,
     "input": [
      "string1 = \"This is python\"\n",
      "print type(string1)\n",
      "strlist = list(string1)\n",
      "print(strlist)\n",
      "print(type(strlist))\n",
      "\n",
      "format1 = '%.2f %s is $%d'    #NEW CONCEPT\n",
      "format1 %(4.5560,'Argentine Pesos',1)"
     ],
     "language": "python",
     "metadata": {},
     "outputs": [
      {
       "output_type": "stream",
       "stream": "stdout",
       "text": [
        "<type 'str'>\n",
        "['T', 'h', 'i', 's', ' ', 'i', 's', ' ', 'p', 'y', 't', 'h', 'o', 'n']\n",
        "<type 'list'>\n"
       ]
      },
      {
       "metadata": {},
       "output_type": "pyout",
       "prompt_number": 16,
       "text": [
        "'4.56 Argentine Pesos is $1'"
       ]
      }
     ],
     "prompt_number": 16
    },
    {
     "cell_type": "code",
     "collapsed": false,
     "input": [
      "print string1.count('s')\n",
      "\n",
      "list1 =  string1.split(' ')\n",
      "print type(string1),type(list1) #splits by space and stores into a list\n",
      "\n",
      "print string1.upper()\n",
      "print string1.lower()\n",
      "print string1.swapcase()"
     ],
     "language": "python",
     "metadata": {},
     "outputs": [
      {
       "output_type": "stream",
       "stream": "stdout",
       "text": [
        "2\n",
        "<type 'str'> <type 'list'>\n",
        "THIS IS PYTHON\n",
        "this is python\n",
        "tHIS IS PYTHON\n"
       ]
      }
     ],
     "prompt_number": 17
    },
    {
     "cell_type": "code",
     "collapsed": false,
     "input": [
      "str1 = \"    This is a bright, sunny day      \"\n",
      "print str1.strip()\n",
      "print str1.lstrip()\n",
      "print str1.rstrip()\n",
      "print \":\".join(str1)\n",
      "print len(str1)"
     ],
     "language": "python",
     "metadata": {},
     "outputs": [
      {
       "output_type": "stream",
       "stream": "stdout",
       "text": [
        "This is a bright, sunny day\n",
        "This is a bright, sunny day      \n",
        "    This is a bright, sunny day\n",
        " : : : :T:h:i:s: :i:s: :a: :b:r:i:g:h:t:,: :s:u:n:n:y: :d:a:y: : : : : : \n",
        "37\n"
       ]
      }
     ],
     "prompt_number": 18
    },
    {
     "cell_type": "code",
     "collapsed": false,
     "input": [
      "#in operator(same as in R)\n",
      "\n",
      "school = 'ISB'\n",
      "print ('S' in school)\n",
      "'L' in school"
     ],
     "language": "python",
     "metadata": {},
     "outputs": [
      {
       "output_type": "stream",
       "stream": "stdout",
       "text": [
        "True\n"
       ]
      },
      {
       "metadata": {},
       "output_type": "pyout",
       "prompt_number": 53,
       "text": [
        "False"
       ]
      }
     ],
     "prompt_number": 53
    },
    {
     "cell_type": "code",
     "collapsed": false,
     "input": [
      "x='X-DSPAM-Confidence:   0.9032'\n",
      "pos = x.find(':')\n",
      "num=float(x[pos+1:])\n",
      "print num, type(num)"
     ],
     "language": "python",
     "metadata": {},
     "outputs": [
      {
       "output_type": "stream",
       "stream": "stdout",
       "text": [
        "0.9032 <type 'float'>\n"
       ]
      }
     ],
     "prompt_number": 21
    },
    {
     "cell_type": "code",
     "collapsed": false,
     "input": [
      "#Let us do some exercises\n",
      "#1\n",
      "#Given below string, get first 10 characters, and last 10 characters.\n",
      "#Now join them to form a new string\n",
      "str = 'Hey how are you doing. We are doing good'\n",
      "new_str = str[:10]+str[-10:]\n",
      "print new_str"
     ],
     "language": "python",
     "metadata": {},
     "outputs": [
      {
       "output_type": "stream",
       "stream": "stdout",
       "text": [
        "Hey how ardoing good\n"
       ]
      }
     ],
     "prompt_number": 23
    },
    {
     "cell_type": "code",
     "collapsed": false,
     "input": [
      "#Consider two strings x and y\n",
      "x = 'Confusing'\n",
      "y = 'Strings'\n",
      "#Swap first three characters of each string and join them by an _\n",
      "z = x[:3]\n",
      "new_string = \n",
      "print z+"
     ],
     "language": "python",
     "metadata": {},
     "outputs": [
      {
       "output_type": "stream",
       "stream": "stdout",
       "text": [
        "Co\n"
       ]
      }
     ],
     "prompt_number": 24
    },
    {
     "cell_type": "markdown",
     "metadata": {},
     "source": [
      "**Lists**\n",
      "\n",
      "+ Lists, along with dictionary, are perhaps most important data types.\n",
      "+ A list contains items separated by commas and enclosed within square brackets ([]).\n",
      "+ All the items belonging to a list can be of different data type.\n",
      "+ Lists are similar to arrays in C language.\n",
      "+ The plus ( + ) sign is the list concatenation operator, and the asterisk ( * ) is the repetition operator.\n"
     ]
    },
    {
     "cell_type": "code",
     "collapsed": false,
     "input": [
      "list = [ 'abcd', 786 , 2.23, 'ISB', 70.2 ]\n",
      "tinylist = [123, 'ISB']\n",
      "\n",
      "print list          # Prints complete list\n",
      "print list[0]       # Prints first element of the list\n",
      "print list[1:3]     # Prints elements starting from 2nd till 3rd \n",
      "print list[2:]      # Prints elements starting from 3rd element\n",
      "print tinylist * 2  # Prints list two times\n",
      "print list + tinylist # Prints concatenated lists\n",
      "print len(list)"
     ],
     "language": "python",
     "metadata": {},
     "outputs": [
      {
       "output_type": "stream",
       "stream": "stdout",
       "text": [
        "['abcd', 786, 2.23, 'ISB', 70.2]\n",
        "abcd\n",
        "[786, 2.23]\n",
        "[2.23, 'ISB', 70.2]\n",
        "[123, 'ISB', 123, 'ISB']\n",
        "['abcd', 786, 2.23, 'ISB', 70.2, 123, 'ISB']\n",
        "5\n"
       ]
      }
     ],
     "prompt_number": 25
    },
    {
     "cell_type": "code",
     "collapsed": false,
     "input": [
      "alist = [ 'abcd', 786 , 2.23, 'ISB', 70.2 ]\n",
      "blist = alist\n",
      "alist = alist*2\n",
      "print alist"
     ],
     "language": "python",
     "metadata": {},
     "outputs": [
      {
       "output_type": "stream",
       "stream": "stdout",
       "text": [
        "['abcd', 786, 2.23, 'ISB', 70.2, 'abcd', 786, 2.23, 'ISB', 70.2]\n"
       ]
      }
     ],
     "prompt_number": 26
    },
    {
     "cell_type": "code",
     "collapsed": false,
     "input": [
      "#Check the behavior\n",
      "print blist"
     ],
     "language": "python",
     "metadata": {},
     "outputs": [
      {
       "output_type": "stream",
       "stream": "stdout",
       "text": [
        "['abcd', 786, 2.23, 'ISB', 70.2]\n"
       ]
      }
     ],
     "prompt_number": 27
    },
    {
     "cell_type": "code",
     "collapsed": false,
     "input": [
      "blist = alist\n",
      "print blist"
     ],
     "language": "python",
     "metadata": {},
     "outputs": [
      {
       "output_type": "stream",
       "stream": "stdout",
       "text": [
        "['abcd', 786, 2.23, 'ISB', 70.2, 'abcd', 786, 2.23, 'ISB', 70.2]\n"
       ]
      }
     ],
     "prompt_number": 28
    },
    {
     "cell_type": "code",
     "collapsed": false,
     "input": [
      "list = ['Ajay', 'Vijay', 'Ramesh']\n",
      "list.append('Sujay')         \n",
      "list.insert(0, 'NewGuy')       \n",
      "list.extend(['Guy1', 'Guy2']) \n",
      "print list  \n",
      "print list.index('Guy1') \n",
      "list.remove('Guy1')\n",
      "list.pop(1)\n",
      "print list"
     ],
     "language": "python",
     "metadata": {},
     "outputs": [
      {
       "output_type": "stream",
       "stream": "stdout",
       "text": [
        "['NewGuy', 'Ajay', 'Vijay', 'Ramesh', 'Sujay', 'Guy1', 'Guy2']\n",
        "5\n",
        "['NewGuy', 'Vijay', 'Ramesh', 'Sujay', 'Guy2']\n"
       ]
      }
     ],
     "prompt_number": 29
    },
    {
     "cell_type": "code",
     "collapsed": false,
     "input": [
      "#Sorting\n",
      "numberlist = [1, 5, 23, 1 ,54,2, 54,23, 54,76, 76,34,87]\n",
      "numberlist.sort()\n",
      "print(numberlist)\n",
      "print len(numberlist)\n",
      "print max(numberlist)\n",
      "print min(numberlist)"
     ],
     "language": "python",
     "metadata": {},
     "outputs": [
      {
       "output_type": "stream",
       "stream": "stdout",
       "text": [
        "[1, 1, 2, 5, 23, 23, 34, 54, 54, 54, 76, 76, 87]\n",
        "13\n",
        "87\n",
        "1\n"
       ]
      }
     ],
     "prompt_number": 30
    },
    {
     "cell_type": "code",
     "collapsed": false,
     "input": [
      "string = ['abcd', 'efg', 'hijk', 'lmn']\n",
      "print sorted(string, key=len)"
     ],
     "language": "python",
     "metadata": {},
     "outputs": [
      {
       "output_type": "stream",
       "stream": "stdout",
       "text": [
        "['efg', 'lmn', 'abcd', 'hijk']\n"
       ]
      }
     ],
     "prompt_number": 31
    },
    {
     "cell_type": "code",
     "collapsed": false,
     "input": [
      "#You can even pass your own function\n",
      "string = ['abcg', 'eff', 'hijd', 'lmi']\n",
      "\n",
      "def func1(l):\n",
      "    return l[-1]\n",
      "\n",
      "print sorted(string, key=func1)"
     ],
     "language": "python",
     "metadata": {},
     "outputs": [
      {
       "output_type": "stream",
       "stream": "stdout",
       "text": [
        "['hijd', 'eff', 'abcg', 'lmi']\n"
       ]
      }
     ],
     "prompt_number": 35
    },
    {
     "cell_type": "markdown",
     "metadata": {},
     "source": [
      "**Dictionary**\n",
      "\n",
      "+ One of the most important built-in data structure.\n",
      "+ Python's dictionaries are kind of hash tables.\n",
      "+ They work like associative arrays and consist of key-value pairs. \n",
      "+ A dictionary key can be almost any Python type, but are usually numbers or strings. \n",
      "+ Values, on the other hand, can be any arbitrary Python object.\n",
      "+ Dictionaries are enclosed by curly braces ( { } ) and values can be assigned and accessed using square braces ( [] ).\n"
     ]
    },
    {
     "cell_type": "code",
     "collapsed": false,
     "input": [
      "dict = {}\n",
      "dict['one'] = \"This is one\"\n",
      "dict[2]     = \"This is two\"\n",
      "print dict\n",
      "\n",
      "tinydict = {'name': 'isb','code':6734, 'dept': 'sales'}\n",
      "\n",
      "print dict['one']       # Prints value for 'one' key\n",
      "print dict[2]           # Prints value for 2 key\n",
      "print tinydict          # Prints complete dictionary\n",
      "print tinydict.keys()   # Prints all the keys   \n",
      "\n",
      "#Notion of indices in dict is irrrelevant, therefore the keys are\n",
      "#sorted randomly(on the basis of hashmap behind the scenes)\n",
      "\n",
      "\n",
      "\n",
      "\n",
      "print tinydict.values() # Prints all the values\n"
     ],
     "language": "python",
     "metadata": {},
     "outputs": [
      {
       "output_type": "stream",
       "stream": "stdout",
       "text": [
        "{2: 'This is two', 'one': 'This is one'}\n",
        "This is one\n",
        "This is two\n",
        "{'dept': 'sales', 'code': 6734, 'name': 'isb'}\n",
        "['dept', 'code', 'name']\n",
        "['sales', 6734, 'isb']\n"
       ]
      }
     ],
     "prompt_number": 36
    },
    {
     "cell_type": "markdown",
     "metadata": {},
     "source": [
      "**Data type conversion**\n",
      "\n",
      "+ Data from one type can be converted into another type using conversion operators.\n",
      "+ Comes in handy when data is not coded in proper format (number coded as string, date coded as string)\n",
      "+ int(variable) - converts variable to integer \n",
      "+ str(variable) - converts variable to string \n",
      "+ float(variable) - converts variable to float (number with decimal) \n"
     ]
    },
    {
     "cell_type": "markdown",
     "metadata": {},
     "source": [
      "**Operators**\n",
      "\n",
      "+ + (plus) : Adds two objects \n",
      "+ - (minus) Gives the subtraction of one number from the other; if the first operand is absent it is assumed to be zero.\n",
      "+ * (multiply) Gives the multiplication of the two numbers or returns the string repeated that many times.\n",
      "+ ** (power) Returns x to the power of y\n",
      "+ / (divide) Divide x by y\n",
      "+ // (floor division) Returns the floor of the quotient\n",
      "+ % (modulo) Returns the remainder of the division\n",
      "+ < (less than) Returns whether x is less than y. All comparison operators return True or False. Note the capitalization of these names.\n",
      "+ > (greater than) Returns whether x is greater than y\n",
      "+ <= (less than or equal to) Returns whether x is less than or equal to y\n",
      "+ >= (greater than or equal to) Returns whether x is greater than or equal to y\n",
      "+ == (equal to) Compares if the objects are equal\n",
      "+ != (not equal to) Compares if the objects are not equal\n",
      "+ not (boolean NOT) If x is True, it returns False. If x is False, it returns True.\n",
      "+ and (boolean AND) x and y returns False if x is False, else it returns evaluation of y\n",
      "+ or (boolean OR) If x is True, it returns True, else it returns evaluation of y"
     ]
    },
    {
     "cell_type": "code",
     "collapsed": false,
     "input": [
      "a = 6\n",
      "b = 7\n",
      "c = 42\n",
      "print 1, a == 6\n",
      "print 2, a == 7\n",
      "print 3, a == 6 and b == 7\n",
      "print 4, a == 7 and b == 7\n",
      "print 5, not a == 7 and b == 7\n",
      "print 6, a == 7 or b == 7\n",
      "print 7, a == 7 or b == 6\n",
      "print 8, not (a == 7 and b == 6)\n",
      "print 9, not a == 7 and b == 6\n"
     ],
     "language": "python",
     "metadata": {},
     "outputs": [
      {
       "output_type": "stream",
       "stream": "stdout",
       "text": [
        "1 True\n",
        "2 False\n",
        "3 True\n",
        "4 False\n",
        "5 True\n",
        "6 True\n",
        "7 False\n",
        "8 True\n",
        "9 False\n"
       ]
      }
     ],
     "prompt_number": 37
    },
    {
     "cell_type": "markdown",
     "metadata": {},
     "source": [
      "**Conditional Statements**\n",
      "\n",
      "**If-statement**\n",
      "\n",
      "The if statement is used to check a condition: if the condition is true, we run a block of statements (called the if-block), else we process another block of statements (called the else-block). The else clause is optional."
     ]
    },
    {
     "cell_type": "code",
     "collapsed": false,
     "input": [
      "a = 20\n",
      "if a >= 22:\n",
      "\n",
      "   print(\"if\")\n",
      "elif a >= 20:\n",
      "   print(\"elif\")\n",
      "elif a%10 ==0:\n",
      "    print(\"elif_2\")\n",
      "else:\n",
      "   print(\"else\")\n"
     ],
     "language": "python",
     "metadata": {},
     "outputs": [
      {
       "output_type": "stream",
       "stream": "stdout",
       "text": [
        "elif\n"
       ]
      }
     ],
     "prompt_number": 43
    },
    {
     "cell_type": "code",
     "collapsed": false,
     "input": [
      "#Testing for an element in list\n",
      "list = ['Ajay', 'Vijay', 'Ramesh']\n",
      "if 'Vijay' in list:\n",
      "    print 'Found Vijay'"
     ],
     "language": "python",
     "metadata": {},
     "outputs": [
      {
       "output_type": "stream",
       "stream": "stdout",
       "text": [
        "Found Vijay\n"
       ]
      }
     ],
     "prompt_number": 44
    },
    {
     "cell_type": "markdown",
     "metadata": {},
     "source": [
      "**While-statement**\n",
      "\n",
      "The while statement allows you to repeatedly execute a block of statements as long as a condition is true. A while statement is an example of what is called a looping statement. A while statement can have an optional else clause."
     ]
    },
    {
     "cell_type": "code",
     "collapsed": false,
     "input": [
      "count = 0\n",
      "while (count < 9):\n",
      "   print 'The count is:', count\n",
      "   count = count + 1\n",
      "\n",
      "print \"End of while loop!\"\n"
     ],
     "language": "python",
     "metadata": {},
     "outputs": []
    },
    {
     "cell_type": "markdown",
     "metadata": {},
     "source": [
      "**For-statement**\n",
      "\n",
      "The for..in statement is another looping statement which iterates over a sequence of objects i.e. go through each item in a sequence. A sequence is just an ordered collection of items."
     ]
    },
    {
     "cell_type": "code",
     "collapsed": false,
     "input": [
      "for i in range(1,5,2):\n",
      "    print (i)\n",
      "#else:\n",
      "#   print \"The for loop is over\""
     ],
     "language": "python",
     "metadata": {},
     "outputs": [
      {
       "output_type": "stream",
       "stream": "stdout",
       "text": [
        "1\n",
        "3\n"
       ]
      }
     ],
     "prompt_number": 45
    },
    {
     "cell_type": "code",
     "collapsed": false,
     "input": [
      "#Traversing a list\n",
      "#What is the output\n",
      "numbers = [2, 3, 5]\n",
      "sum = 0\n",
      "for num in numbers:\n",
      "    sum += num\n",
      "print sum"
     ],
     "language": "python",
     "metadata": {},
     "outputs": [
      {
       "output_type": "stream",
       "stream": "stdout",
       "text": [
        "10\n"
       ]
      }
     ],
     "prompt_number": 46
    },
    {
     "cell_type": "markdown",
     "metadata": {},
     "source": [
      "#Important"
     ]
    },
    {
     "cell_type": "code",
     "collapsed": false,
     "input": [
      "\n",
      "numbers = [2, 3, 5]\n",
      "getsum = [ i+2 for i in numbers ]\n",
      "print getsum"
     ],
     "language": "python",
     "metadata": {},
     "outputs": [
      {
       "output_type": "stream",
       "stream": "stdout",
       "text": [
        "[4, 5, 7]\n"
       ]
      }
     ],
     "prompt_number": 47
    },
    {
     "cell_type": "code",
     "collapsed": false,
     "input": [
      "numbers = [2, 3, 5]\n",
      "getnum = [ i+2 for i in numbers if i<5]\n",
      "print getnum"
     ],
     "language": "python",
     "metadata": {},
     "outputs": [
      {
       "output_type": "stream",
       "stream": "stdout",
       "text": [
        "[4, 5]\n"
       ]
      }
     ],
     "prompt_number": 48
    },
    {
     "cell_type": "markdown",
     "metadata": {},
     "source": [
      "**Break statement**\n",
      "\n",
      "The break statement is used to break out of a loop statement i.e. stop the execution of a looping statement, even if the loop condition has not become False or the sequence of items has not been completely iterated over.\n",
      "\n",
      "An important note is that if you break out of a for or while loop, any corresponding loop else block is not executed."
     ]
    },
    {
     "cell_type": "code",
     "collapsed": false,
     "input": [
      "for i in range(1,10):\n",
      "       if i == 5:\n",
      "           break\n",
      "       print i\n",
      "print('Done')"
     ],
     "language": "python",
     "metadata": {},
     "outputs": []
    },
    {
     "cell_type": "code",
     "collapsed": false,
     "input": [
      "#Exercise time\n"
     ],
     "language": "python",
     "metadata": {},
     "outputs": []
    },
    {
     "cell_type": "markdown",
     "metadata": {},
     "source": [
      "**Exercise**\n"
     ]
    },
    {
     "cell_type": "markdown",
     "metadata": {},
     "source": [
      "**Exercise**\n",
      "\n",
      "In cryptography, a Caesar cipher is a very simple encryption techniques in which each letter in the plain text is replaced by a letter some fixed number of positions down the alphabet. For example, with a shift of 3, A would be replaced by D, B would become E, and so on. The method is named after Julius Caesar, who used it to communicate with his generals. ROT-13 (\"rotate by 13 places\") is a widely used example of a Caesar cipher where the shift is 13. In Python, the key for ROT-13 may be represented by means of the following dictionary:\n",
      "\n",
      "key = {'a':'n', 'b':'o', 'c':'p', 'd':'q', 'e':'r', 'f':'s', 'g':'t', 'h':'u', \n",
      "       'i':'v', 'j':'w', 'k':'x', 'l':'y', 'm':'z', 'n':'a', 'o':'b', 'p':'c', \n",
      "       'q':'d', 'r':'e', 's':'f', 't':'g', 'u':'h', 'v':'i', 'w':'j', 'x':'k',\n",
      "       'y':'l', 'z':'m', 'A':'N', 'B':'O', 'C':'P', 'D':'Q', 'E':'R', 'F':'S', \n",
      "       'G':'T', 'H':'U', 'I':'V', 'J':'W', 'K':'X', 'L':'Y', 'M':'Z', 'N':'A', \n",
      "       'O':'B', 'P':'C', 'Q':'D', 'R':'E', 'S':'F', 'T':'G', 'U':'H', 'V':'I', \n",
      "       'W':'J', 'X':'K', 'Y':'L', 'Z':'M'}\n",
      "\n",
      "Your task in this exercise is to implement an encoder/decoder of ROT-13. Once you're done, you will be able to read the following secret message:\n",
      "\n",
      "   Pnrfne pvcure zrgubq vf anzrq nsgre Whyvhf Pnrfne!\n",
      "\n",
      "Note that since English has 26 characters, your ROT-13 program will be able to both encode and decode texts written in English.\n"
     ]
    },
    {
     "cell_type": "code",
     "collapsed": false,
     "input": [
      "my_dict = {'a':'n', 'b':'o', 'c':'p', 'd':'q', 'e':'r', 'f':'s', 'g':'t', \n",
      "       'h':'u', 'i':'v', 'j':'w', 'k':'x', 'l':'y', 'm':'z', 'n':'a',\n",
      "       'o':'b', 'p':'c', 'q':'d', 'r':'e', 's':'f', 't':'g', 'u':'h',\n",
      "       'v':'i', 'w':'j', 'x':'k', 'y':'l', 'z':'m', 'A':'N', 'B':'O',\n",
      "       'C':'P', 'D':'Q', 'E':'R', 'F':'S', 'G':'T', 'H':'U', 'I':'V',\n",
      "       'J':'W', 'K':'X', 'L':'Y', 'M':'Z', 'N':'A', 'O':'B', 'P':'C', \n",
      "       'Q':'D', 'R':'E', 'S':'F', 'T':'G', 'U':'H', 'V':'I', 'W':'J',\n",
      "       'X':'K', 'Y':'L', 'Z':'M', ' ':' '}\n",
      "\n",
      "input_string = raw_input(\"Enter your message\")\n",
      "\n",
      "output_string = \"\"\n",
      "\n",
      "for i in input_string:\n",
      "    if i in my_dict.keys():\n",
      "        #print i\n",
      "        if(i != ' '):  #OR if(ord(i) != 32) using ASCII value of space \n",
      "            output_string +=my_dict[i]\n",
      "        else:\n",
      "            output_string +=\" \"\n",
      "                \n",
      "        \n",
      "print output_string"
     ],
     "language": "python",
     "metadata": {},
     "outputs": [
      {
       "name": "stdout",
       "output_type": "stream",
       "stream": "stdout",
       "text": [
        "Enter your messagePnrfne pvcure zrgubq vf anzrq nsgre Whyvhf Pnrfne\n"
       ]
      },
      {
       "output_type": "stream",
       "stream": "stdout",
       "text": [
        "Caesar cipher method is named after Julius Caesar\n"
       ]
      }
     ],
     "prompt_number": 65
    },
    {
     "cell_type": "code",
     "collapsed": false,
     "input": [
      "ord(' ')  #ASCII value of space\n"
     ],
     "language": "python",
     "metadata": {},
     "outputs": [
      {
       "metadata": {},
       "output_type": "pyout",
       "prompt_number": 68,
       "text": [
        "32"
       ]
      }
     ],
     "prompt_number": 68
    },
    {
     "cell_type": "markdown",
     "metadata": {},
     "source": [
      "**Closing and Opening Files**\n",
      "\n",
      "+ Python, along with associated packages, supports a number of formats for file reading and writing. \n",
      "+ The file types supported are txt, csv, xls, xlsx, doc, docx, dat, output, sql (and some specialized formats such as R, .dta, sas7bdat)\n",
      "+ Here, we will cover some of the options and will look at the rest in session on pandas.\n",
      "+ In order to open a file, use open() method specifying file name and mode of opening (read, write, append, etc)\n",
      "+ Open returns a file handle \n",
      "+ handle = open(filename, mode)\n",
      "+ Once work is done, it is always better to close the file otherwise other programs might not be able to access the file.\n",
      "+ File closing is done using close() method\n"
     ]
    },
    {
     "cell_type": "code",
     "collapsed": false,
     "input": [
      "f = open('file1.txt', 'r')\n",
      "print(type(f))\n",
      "\n",
      "for line in f:   \n",
      "    print line                       \n",
      "f.close()"
     ],
     "language": "python",
     "metadata": {},
     "outputs": [
      {
       "output_type": "stream",
       "stream": "stdout",
       "text": [
        "<type 'file'>\n",
        "Why Apple Is In My Retirement Portfolio\n",
        "\n",
        "\n",
        "\n",
        "Summary\n",
        "\n",
        "\n",
        "\n",
        "Apple is a rare bird of a stock. It offers shareholders enormous growth, and could potentially become the next great dividend stock.\n",
        "\n",
        "The company is the largest public company in the world, surpassing Exxon Mobil.\n",
        "\n",
        "The raw fundamentals of this company are virtually incomparable.\n",
        "\n",
        "Over the last several years, I have been all over the board when it comes to Apple (AAPL). During its parabolic rise in price about 2 years ago, I wrote several articles urging investors to take some chips off the table, and then when it hit some low points, I suggested it might be time to buy the stock, which I did, but not just for my growth portfolio. The stock seemed to have become a value stock with a rather strong dividend, so I placed it in 3 of my portfolios, and have held it ever since in 2 of the 3 portfolios I currently manage.\n",
        "\n",
        "\n",
        "\n",
        "As of several months ago, I added APPL to my newest retirement portfolio, \"Buy The Dips Portfolio\", or BTDP. The stock is now going to be held for the very long term in at least 3 out of 4 of my various portfolios, mainly for dividend income investors, but with an eye towards another strong round of growth.\n",
        "\n",
        "\n",
        "\n",
        "Apple Is More Than A Reborn Growth Stock, It Is Also A Future Dividend Champion\n",
        "\n",
        "\n",
        "\n",
        "The recent shareholder-friendly moves that Apple has made should ignite even more intense interest in the stock for both dividend-seeking investors, as well as for growth investors.\n",
        "\n",
        "\n",
        "\n"
       ]
      }
     ],
     "prompt_number": 69
    },
    {
     "cell_type": "code",
     "collapsed": true,
     "input": [
      "capmdata = open('capm_dem.dat','r')\n",
      "crspdata = open('crsp.output','r')\n",
      "\n",
      "print \"File Name is \", crspdata.name\n",
      "#print \"Content is \", capmdata.read()\n",
      "copycapmdata = open('capm_dem_copy.txt',\"w\")\n",
      "capmdata.seek(0,0) #seek -> if you want to read file from a particular point(row,column)\n",
      "copycapmdata.write(capmdata.read())\n",
      "\n",
      "crspdata.close()\n",
      "copycapmdata.close()\n",
      "capmdata.close()"
     ],
     "language": "python",
     "metadata": {},
     "outputs": [
      {
       "output_type": "stream",
       "stream": "stdout",
       "text": [
        "File Name is  crsp.output\n"
       ]
      }
     ],
     "prompt_number": 74
    },
    {
     "cell_type": "markdown",
     "metadata": {},
     "source": [
      "**Functions**\n",
      "\n",
      "+ Functions are reusable piece of software.\n",
      "+ Block of statements that accepts some arguments, perform some functionality, and provide the output.\n",
      "+ Defined using def keyword\n",
      "+ Similar to functions in R.\n",
      "+ For example, implement code to perform two way clustering once and can be used again in the same program. \n",
      "+ We will look at functions for a number of features (Fama Mac Beth regression, two way clustering, industry code classification) in subsequent sessions. \n",
      "+ A function can take arguments.\n",
      "+ Arguments are specified within parentheses in function definition separated by commas.\n",
      "+ It is also possible to assign default values to parameters in order to make the program flexible and not behave in an unexpected manner.\n",
      "+ One of the most powerful feature of functions is that it allows you to pass any number of arguments and you do not have to worry about specifying the number when writing the function. This feature becomes extremely important when dealing with lists or input data where you do not know number of data observations before hand.\n",
      "+ Scope of variables defined inside a function is local i.e. they cannot be used outside of a function.\n"
     ]
    },
    {
     "cell_type": "code",
     "collapsed": false,
     "input": [
      "def sayHello():\n",
      "    print('Hello World!') # block belonging to the function\n",
      "# End of function #\n",
      "\n",
      "sayHello()"
     ],
     "language": "python",
     "metadata": {},
     "outputs": [
      {
       "output_type": "stream",
       "stream": "stdout",
       "text": [
        "Hello World!\n"
       ]
      }
     ],
     "prompt_number": 75
    },
    {
     "cell_type": "code",
     "collapsed": false,
     "input": [
      "def printMax(a, b):\n",
      "   if a > b:\n",
      "       print(a, 'is maximum')\n",
      "   elif a == b:\n",
      "       print(a, 'is equal to', b)\n",
      "   else:\n",
      "       print(b, 'is maximum')\n",
      "\n",
      "printMax(3, 4) "
     ],
     "language": "python",
     "metadata": {},
     "outputs": [
      {
       "output_type": "stream",
       "stream": "stdout",
       "text": [
        "(4, 'is maximum')\n"
       ]
      }
     ],
     "prompt_number": 76
    },
    {
     "cell_type": "code",
     "collapsed": false,
     "input": [
      "def say(message, times = 1):\n",
      "   print(message * times)\n",
      "\n",
      "say('Hello')\n",
      "say('World', 5)"
     ],
     "language": "python",
     "metadata": {},
     "outputs": [
      {
       "output_type": "stream",
       "stream": "stdout",
       "text": [
        "Hello\n",
        "WorldWorldWorldWorldWorld\n"
       ]
      }
     ],
     "prompt_number": 77
    },
    {
     "cell_type": "code",
     "collapsed": false,
     "input": [
      "#Overriding the default value\n",
      "\n",
      "def func(a, b=5, c=10):\n",
      "   print('a is', a, 'and b is', b, 'and c is', c)\n",
      "func(3, 7)\n",
      "func(25, c=24)\n",
      "func(c=50, a=100)"
     ],
     "language": "python",
     "metadata": {},
     "outputs": [
      {
       "output_type": "stream",
       "stream": "stdout",
       "text": [
        "('a is', 3, 'and b is', 7, 'and c is', 10)\n",
        "('a is', 25, 'and b is', 5, 'and c is', 24)\n",
        "('a is', 100, 'and b is', 5, 'and c is', 50)\n"
       ]
      }
     ],
     "prompt_number": 78
    },
    {
     "cell_type": "code",
     "collapsed": false,
     "input": [
      "#Scope of variable\n",
      "x = 50\n",
      "def func(x):\n",
      "   print('x is', x)\n",
      "   x = 2\n",
      "   print('Changed local x to', x)\n",
      "func(x)  #Global value of x is '50'\n",
      "print('x is still', x)"
     ],
     "language": "python",
     "metadata": {},
     "outputs": [
      {
       "output_type": "stream",
       "stream": "stdout",
       "text": [
        "('x is', 50)\n",
        "('Changed local x to', 2)\n",
        "('x is still', 50)\n"
       ]
      }
     ],
     "prompt_number": 80
    },
    {
     "cell_type": "code",
     "collapsed": false,
     "input": [
      "#Args(Arguments) and Kwargs(Keyword Arguments)\n",
      "#kwargs stored as a dictionary\n",
      "\n",
      "def total(initial=5, *numbers, **keywords):\n",
      "   count = initial\n",
      "   for number in numbers:\n",
      "       count += number\n",
      "   for key in keywords:\n",
      "       count += keywords[key]\n",
      "   return count\n",
      "\n",
      "print(total(10, 1, 2, 3, vegetables=50, fruits=100))"
     ],
     "language": "python",
     "metadata": {},
     "outputs": [
      {
       "output_type": "stream",
       "stream": "stdout",
       "text": [
        "166\n"
       ]
      }
     ],
     "prompt_number": 81
    },
    {
     "cell_type": "markdown",
     "metadata": {},
     "source": [
      "**Modules**\n",
      "\n",
      "+ Functions can be used in the same program. \n",
      "+ If you want to use function (s) in other programs, make use of modules.\n",
      "+ Modules can be imported in other programs and functions contained in those modules can be used.\n",
      "+ Simplest way to create a module is to write a .py file with functions defined in that file.\n",
      "+ Other way is to import using byte-compiled .pyc files. "
     ]
    },
    {
     "cell_type": "code",
     "collapsed": false,
     "input": [
      "import os\n",
      "print os.getcwd()\n",
      "#os?\n",
      "import math\n",
      "x = -25\n",
      "print(math.fabs(x))\n",
      "print(math.factorial(abs(x)))\n",
      "\n",
      "\n",
      "\n",
      "#Completed till here in Session-10,jumped to pandas hereafter"
     ],
     "language": "python",
     "metadata": {},
     "outputs": [
      {
       "output_type": "stream",
       "stream": "stdout",
       "text": [
        "C:\\Users\\eprksil\\Desktop\\cba\\Session-10_PythonSession-1\n",
        "25.0\n",
        "15511210043330985984000000\n"
       ]
      }
     ],
     "prompt_number": 87
    },
    {
     "cell_type": "code",
     "collapsed": false,
     "input": [
      "from mymodule import *\n",
      "print(sayhi())\n",
      "\n",
      "\n",
      "numb = input(\"Enter a non negative number\")\n",
      "num_factorial = factorial(numb)\n",
      "print(num_factorial)\n"
     ],
     "language": "python",
     "metadata": {},
     "outputs": []
    },
    {
     "cell_type": "markdown",
     "metadata": {},
     "source": [
      "**Writing first program**\n",
      "\n",
      "+ Source files .py extension, and can be run from command prompt by using python filename.py (optional arguments) command. \n",
      "+ Examine name.py. \n",
      "+ First line imports modules\n",
      "+ Next line defines a main() function. We can specify command line arguments. Command line args are in sys.argv[1], sys.argv[2]\n",
      "+ sys.argv[0] is the script name itself and can be ignored\n",
      "+ name = 'main' starts the program. \n",
      "+ When a Python file is run directly, the special variable \"__name__\" is set to \"__main__\". Therefore, it's common to have the boilerplate if __name__ ==... shown above to call a main() function when the module is run directly, but not when the module is imported by some other module."
     ]
    },
    {
     "cell_type": "code",
     "collapsed": false,
     "input": [
      "#Run name.py"
     ],
     "language": "python",
     "metadata": {},
     "outputs": []
    },
    {
     "cell_type": "markdown",
     "metadata": {},
     "source": [
      "** Exception Handling**\n",
      "\n",
      "**Exceptions**\n",
      "\n",
      "+ An exception is an event that interrupts the ordinary sequential processing of a program.\n",
      "+ For example, what if you are going to read a file and the file does not exist? Or what if you accidentally deleted it when the program was running? Similarly, what if your program had some invalid statements? Such situations are handled using exceptions.\n",
      "\n",
      "**Handling Exceptions**\n",
      "\n",
      "+ We can handle exceptions using the try..except statement. \n",
      "+ We basically put our usual statements within the try-block and put all our error handlers in the except-block."
     ]
    },
    {
     "cell_type": "code",
     "collapsed": false,
     "input": [
      "def avg( numList ):\n",
      "    \"\"\"Raises TypeError or ZeroDivisionError exceptions.\"\"\"\n",
      "    sum= 0\n",
      "    for v in numList:\n",
      "        sum = sum + v\n",
      "    return float(sum)/len(numList)\n",
      "\n",
      "def avgReport(numList):\n",
      "     try:\n",
      "         m= avg(numList)\n",
      "         print \"Average = \", m\n",
      "     except TypeError, ex:\n",
      "         print \"TypeError:\", ex\n",
      "     except ZeroDivisionError, ex:\n",
      "         print \"ZeroDivisionError:\", ex\n",
      "\n",
      "                    \n",
      "list1 = [10,20,30,40]\n",
      "list2 = []\n",
      "list3 = [10,20,30,'abc']\n",
      "\n",
      "avgReport(list1)\n",
      "print avgReport(list2)\n",
      "print avgReport(list3)"
     ],
     "language": "python",
     "metadata": {},
     "outputs": []
    },
    {
     "cell_type": "markdown",
     "metadata": {},
     "source": [
      "**Try..Finally**\n",
      "\n",
      "+ Suppose you are reading a file in your program. How do you ensure that the file object is closed properly whether or not an exception was raised? This can be done using the finally block.\n",
      "+ This final step will be performed before the try block is finished, either normally or by any exception.\n",
      "+ The finally clause is always executed. \n",
      "+ This includes all three possible cases: if the try block finishes with no exceptions; if an exception is raised and handled; and if an exception is raised but not handled. \n",
      "+ This last case means that every nested try statement with a finally clause will have that finally clause executed.\n",
      "+ Use a finally clause to close files, release locks, close database connections, write final log messages, and other kinds of final operations. \n",
      "+ In the following example, we use the finally clause to write a final log message.\n"
     ]
    },
    {
     "cell_type": "code",
     "collapsed": false,
     "input": [
      "def avgReport( numList ):\n",
      "    try:\n",
      "        print \"Start avgReport\"\n",
      "        m= avg(numList)\n",
      "        print \"Average = \", m\n",
      "    except TypeError, ex:\n",
      "        print \"TypeError: \", ex\n",
      "    except ZeroDivisionError, ex:\n",
      "        print \"ZeroDivisionError: \", ex\n",
      "    finally:\n",
      "         print \"Finish avgReport\"\n",
      "\n",
      "list1 = [10,20,30,40]\n",
      "list2 = []\n",
      "list3 = [10,20,30,'abc']\n",
      "\n",
      "avgReport(list2)\n"
     ],
     "language": "python",
     "metadata": {},
     "outputs": []
    },
    {
     "cell_type": "markdown",
     "metadata": {},
     "source": [
      "**Some common built-in exceptions**\n",
      "\n",
      "exception KeyboardInterrupt\n",
      " This is raised when a user hits ctrl-C to send an interrupt signal to the Python interpreter. \n",
      "\n",
      "exception AttributeError\n",
      " Attribute not found in an object.\n",
      "\n",
      "exception EOFError\n",
      " Read beyond end of file.\n",
      "\n",
      "exception FloatingPointError\n",
      " Floating point operation failed.\n",
      "\n",
      "exception IOError\n",
      " I/O operation failed.\n",
      "\n",
      "exception IndexError\n",
      " Sequence index out of range.\n",
      "\n",
      "exception KeyError\n",
      " Mapping key not found.\n",
      "\n",
      "exception TypeError\n",
      " Inappropriate argument type.\n",
      "\n",
      "exception ValueError\n",
      " Inappropriate argument value (of correct type).\n",
      "\n",
      "exception ZeroDivisionError\n",
      " Second argument to a division or modulo operation was zero.\n",
      "\n",
      "exception MemoryError\n",
      " Out of memory.\n",
      "\n",
      "exception RuntimeError\n",
      " Unspecified run-time error.\n",
      "\n",
      "exception SystemError\n",
      " Internal error in the Python interpreter\n",
      "\n",
      "exception ImportError\n",
      " Import can\u2019t find module, or can\u2019t find name in module.\n",
      "\n",
      "exception IndentationError\n",
      " Improper indentation.\n",
      "\n",
      "exception NameError\n",
      " Name not found globally.\n",
      "\n",
      "exception SyntaxError\n",
      " Invalid syntax.\n",
      "\n",
      "exception UnboundLocalError\n",
      " Local name referenced but not bound to a value.\n"
     ]
    },
    {
     "cell_type": "markdown",
     "metadata": {},
     "source": [
      "Matplotlib:\n",
      "-->matplotlib is a plotting library for the Python programming language and its numerical mathematics extension NumPy\n",
      "-->pyplot provides a convenient interface to the matplotlib object-oriented plotting library. It is modeled closely after Matlab(TM). Therefore, the majority of plotting commands in pyplot have Matlab(TM) analogs with similar arguments. "
     ]
    },
    {
     "cell_type": "code",
     "collapsed": true,
     "input": [
      "#Line plot\n",
      "import matplotlib.pyplot as plt\n",
      "import numpy as np\n",
      "a = np.linspace(0,10,100)\n",
      "b = np.exp(-a)\n",
      "plt.plot(a,b)\n",
      "plt.show()"
     ],
     "language": "python",
     "metadata": {},
     "outputs": []
    },
    {
     "cell_type": "code",
     "collapsed": true,
     "input": [
      "#Histogram\n",
      "from numpy.random import normal,rand\n",
      "x = normal(size=200)\n",
      "plt.hist(x,bins=30)\n",
      "plt.show()"
     ],
     "language": "python",
     "metadata": {},
     "outputs": []
    },
    {
     "cell_type": "code",
     "collapsed": false,
     "input": [
      "#Scatter Plot\n",
      "import numpy as np\n",
      "import matplotlib.pyplot as plt\n",
      "from numpy.random import normal,rand\n",
      "a = rand(100)\n",
      "b = rand(100)\n",
      "plt.scatter(a,b)\n",
      "plt.show()"
     ],
     "language": "python",
     "metadata": {},
     "outputs": []
    },
    {
     "cell_type": "code",
     "collapsed": false,
     "input": [
      "#Pie Chart\n",
      "import numpy as np\n",
      "import matplotlib.pyplot as plt\n",
      "n = 20\n",
      "Z = np.random.uniform(0,1,n)\n",
      "plt.pie(Z)\n",
      "plt.show()"
     ],
     "language": "python",
     "metadata": {},
     "outputs": []
    },
    {
     "cell_type": "code",
     "collapsed": true,
     "input": [
      "#3D Plot\n",
      "from matplotlib import cm\n",
      "from mpl_toolkits.mplot3d import Axes3D\n",
      "import matplotlib.pyplot as plt\n",
      "import numpy as np\n",
      "fig = plt.figure()\n",
      "ax = fig.gca(projection='3d')\n",
      "X = np.arange(-5, 5, 0.25)\n",
      "Y = np.arange(-5, 5, 0.25)\n",
      "X, Y = np.meshgrid(X, Y)\n",
      "R = np.sqrt(X**2 + Y**2)\n",
      "Z = np.sin(R)\n",
      "surf = ax.plot_surface(X, Y, Z, rstride=1, cstride=1, cmap=cm.coolwarm)\n",
      "plt.show()"
     ],
     "language": "python",
     "metadata": {},
     "outputs": []
    },
    {
     "cell_type": "code",
     "collapsed": true,
     "input": [
      "# Imports\n",
      "import numpy as np\n",
      "import matplotlib.pyplot as plt\n",
      "\n",
      "# Create a new figure of size 8x6 points, using 100 dots per inch\n",
      "plt.figure(figsize=(8,6), dpi=80)\n",
      "\n",
      "# Create a new subplot from a grid of 1x1\n",
      "plt.subplot(111)\n",
      "\n",
      "X = np.linspace(-np.pi, np.pi, 256,endpoint=True)\n",
      "C,S = np.cos(X), np.sin(X)\n",
      "\n",
      "# Plot cosine using blue color with a continuous line of width 1 (pixels)\n",
      "plt.plot(X, C, color=\"blue\", linewidth=1.0, linestyle=\"-\")\n",
      "\n",
      "# Plot sine using green color with a continuous line of width 1 (pixels)\n",
      "plt.plot(X, S, color=\"green\", linewidth=1.0, linestyle=\"-\")\n",
      "\n",
      "# Set x limits\n",
      "plt.xlim(-4.0,4.0)\n",
      "\n",
      "# Set x ticks\n",
      "plt.xticks(np.linspace(-4,4,9,endpoint=True))\n",
      "\n",
      "# Set y limits\n",
      "plt.ylim(-1.0,1.0)\n",
      "\n",
      "# Set y ticks\n",
      "plt.yticks(np.linspace(-1,1,5,endpoint=True))\n",
      "\n",
      "# Show result on screen\n",
      "plt.show()\n"
     ],
     "language": "python",
     "metadata": {},
     "outputs": []
    },
    {
     "cell_type": "markdown",
     "metadata": {},
     "source": [
      "JSON:\n",
      "\n",
      "The json library can parse JSON from strings or files. The library parses JSON into a Python dictionary or list. It can also convert Python dictionaries or lists into JSON strings.\n",
      "\n",
      "Parsing JSON:\n",
      "Take the following string containing JSON data:\n"
     ]
    },
    {
     "cell_type": "code",
     "collapsed": true,
     "input": [
      "json_string = '{\"first_name\": \"Guido\", \"last_name\":\"Rossum\"}'"
     ],
     "language": "python",
     "metadata": {},
     "outputs": []
    },
    {
     "cell_type": "markdown",
     "metadata": {},
     "source": [
      "It can be parsed like this:"
     ]
    },
    {
     "cell_type": "code",
     "collapsed": false,
     "input": [
      "import json\n",
      "json_string = '{\"first_name\": \"Guido\", \"last_name\":\"Rossum\"}'\n",
      "parsed_json = json.loads(json_string)\n",
      "print(parsed_json['first_name'])"
     ],
     "language": "python",
     "metadata": {},
     "outputs": []
    },
    {
     "cell_type": "markdown",
     "metadata": {},
     "source": [
      "You can also convert the following to JSON:"
     ]
    },
    {
     "cell_type": "code",
     "collapsed": false,
     "input": [
      "d = {\n",
      "    'first_name': 'Guido',\n",
      "    'second_name': 'Rossum',\n",
      "    'titles': ['BDFL', 'Developer'],\n",
      "}\n",
      "\n",
      "print(json.dumps(d))"
     ],
     "language": "python",
     "metadata": {},
     "outputs": []
    }
   ],
   "metadata": {}
  }
 ]
}