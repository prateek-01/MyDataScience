{
 "metadata": {
  "name": "",
  "signature": "sha256:e156f597b9b97aa6b5e09c16364ec9666e23b5b6a9538e1899d953b9954227ce"
 },
 "nbformat": 3,
 "nbformat_minor": 0,
 "worksheets": [
  {
   "cells": [
    {
     "cell_type": "raw",
     "metadata": {},
     "source": [
      "#NumPY gives us the capability of n-dimensional array i.e matrices\n",
      "\n",
      "#Pandas gives you dataframes "
     ]
    },
    {
     "cell_type": "heading",
     "level": 4,
     "metadata": {},
     "source": [
      "Difference between Tuples and Lists"
     ]
    },
    {
     "cell_type": "markdown",
     "metadata": {},
     "source": [
      "Tuples are lists that are immutable."
     ]
    },
    {
     "cell_type": "markdown",
     "metadata": {},
     "source": [
      "\n",
      "\n",
      "That is, once defined, the individual elements of a tuple cannot be changed.\n",
      "Whereas a list is written as a sequence of numbers enclosed in square brackets, a tuple is written as a sequence of numbers enclosed in round parentheses.\n",
      "Individual elements of a tuple are addressed in the same way as individual elements of lists are addressed, but those individual elements cannot be changed."
     ]
    },
    {
     "cell_type": "markdown",
     "metadata": {},
     "source": [
      "**Introduction to NumPy**\n",
      "\n",
      "NumPy (short form for Numerical Python) is the most fundamental package designed for scientific computing and data analysis. Most of the other packages such as pandas, statsmodels are built on top of it, and is an important package to know and learn about. At the heart of NumPy is a data structure called **ndarray**. ndarray is a basically a multi-dimensional array that is built specifically for the purpose of numerical data analysis. Python also has array capabilities, but they are more generic. The advantage of using ndarray is that processing is extremely efficient and fast. \n",
      "\n",
      "You can perform standard mathematical operations on either individual elements or complete array. The range of functions covered is linear algebra, statistical operations, and other specialized mathematical operations. For our purpose, we need to know about ndarray and the range of mathematical functions that are relevant to our research purpose. If you already know languages such as C, Fortran, then you can integrate NumPy code with code written in these languages and can pass NumPy arrays seamlessly. \n",
      "\n",
      "From an overall perspective, understanding of NumPy will help us in using pandas effectively as it is built on top of NumPy and frequently we will also be using functions of NumPy in research work. In the current session, we will only look at some of the most important features of NumPy. For a full listing of NumPy features, please visit http://wiki.scipy.org/Numpy_Example_List .\n",
      "\n",
      "Possible application of NumPy package in research work are:\n",
      "\n",
      "+ Algorithmic operations such as sorting, grouping and set operations\n",
      "+ Performing repetitive operations on whole arrays of data without using loops\n",
      "+ Data merging and alignment operations\n",
      "+ Data indexing, filtering, and transformation on individual elements or whole arrays\n",
      "+ Data summarization and descriptive statistics\n",
      "\n",
      "**Installing NumPy**\n",
      "\n",
      "In order to check if NumPy is installed, go to Package Manager and type NumPy. You will get a list of packages with names closely matching to NumPy. For our purpose, we need to focus on package named numpy 1.xx. If the package is not installed, click on Install. \n",
      "\n",
      "**Importing NumPy**\n",
      "\n",
      "In order to be able to use NumPy, first import it using import statement"
     ]
    },
    {
     "cell_type": "code",
     "collapsed": false,
     "input": [
      "import numpy as np"
     ],
     "language": "python",
     "metadata": {},
     "outputs": [],
     "prompt_number": 1
    },
    {
     "cell_type": "markdown",
     "metadata": {},
     "source": [
      "The above statement will import all of NumPy into your workspace. For starters its good, but if you are doing performance intensive work, then saving space is of importance. In such cases, you can import specific modules of NumPy by using"
     ]
    },
    {
     "cell_type": "code",
     "collapsed": false,
     "input": [
      "from numpy import array"
     ],
     "language": "python",
     "metadata": {},
     "outputs": [],
     "prompt_number": 2
    },
    {
     "cell_type": "markdown",
     "metadata": {},
     "source": [
      "ndarray\n",
      "The most important data structure in NumPy is an n-dimensional array object. Using ndarray, you can store large multidimensional datasets in Python. Being an array, you can perform mathematical operations on these arrays either one element at a time or on complete arrays without using loops. The way to initialize an array object is"
     ]
    },
    {
     "cell_type": "code",
     "collapsed": false,
     "input": [
      "list1 = [1,\"Hi\",1.09] #Note:Lists,Tuples and Numpy array all are heterogeneous\n",
      "\n",
      "#Note : NumPy is not just more efficient than lists; it is also more convenient. \n",
      "#You get a lot of vector and matrix operations for free, which sometimes allow one to avoid unnecessary work.\n",
      "#And they are also efficiently implemented."
     ],
     "language": "python",
     "metadata": {},
     "outputs": [],
     "prompt_number": 4
    },
    {
     "cell_type": "code",
     "collapsed": false,
     "input": [
      "#first bracket belongs to the array function\n",
      "#second bracket belongs to a tuple/list whichever is passed to an array function\n",
      "#array?\n",
      "a_1 = (1,2,3,4,5)  #tuple #Tuples are immutable lists\n",
      "#a_1[3] = 0 #gives error because Tuples are immutable\n",
      "\n",
      "a_2 = [1,2,3,4,5]  #list\n",
      "\n",
      "a_3 = array(a_1)    #nd array formed by passing a tuple to array function\n",
      "a_4 = array(a_2)    ##nd array formed by passing a list to array function\n",
      "\n",
      "b = array((10,20,30,40,50)) # initializes another array b\n",
      "print a_1, type(a_1)\n",
      "print a_2, type(a_2)\n",
      "print a_3, type(a_3)\n",
      "print a_4, type(a_4)\n",
      "\n",
      "print(a_3+a_4)  \n",
      "  "
     ],
     "language": "python",
     "metadata": {},
     "outputs": [
      {
       "output_type": "stream",
       "stream": "stdout",
       "text": [
        "(1, 2, 3, 4, 5) <type 'tuple'>\n",
        "[1, 2, 3, 4, 5] <type 'list'>\n",
        "[1 2 3 4 5] <type 'numpy.ndarray'>\n",
        "[1 2 3 4 5] <type 'numpy.ndarray'>\n",
        "[ 2  4  6  8 10]\n"
       ]
      }
     ],
     "prompt_number": 13
    },
    {
     "cell_type": "markdown",
     "metadata": {},
     "source": [
      "**The array function automatically promotes all of the numbers to the type of the most general entry in the list**"
     ]
    },
    {
     "cell_type": "markdown",
     "metadata": {},
     "source": [
      "In the case that elements of the list is made up of numbers and strings, all the elements become strings when an array is formed from a list."
     ]
    },
    {
     "cell_type": "code",
     "collapsed": false,
     "input": [
      "#Important:All of the below operations are valid\n",
      "\n",
      "\n",
      "a = [1,2,3,4,5]\n",
      "a_1 = array(a)   #Integer numPy array\n",
      "print type(a_1[1])\n",
      "\n",
      "b = [1,-2,4,1.24]\n",
      "b_1 = array(b)    #Floating point numPy array\n",
      "print type(b_1[1])\n",
      "\n",
      "c = [1,2,3,\"Hi\"]\n",
      "c_1 = array(c)    #String numPy array\n",
      "print type(c_1[1])\n"
     ],
     "language": "python",
     "metadata": {},
     "outputs": [
      {
       "output_type": "stream",
       "stream": "stdout",
       "text": [
        "<type 'numpy.int32'>\n",
        "<type 'numpy.float64'>\n",
        "<type 'numpy.string_'>\n"
       ]
      }
     ],
     "prompt_number": 16
    },
    {
     "cell_type": "markdown",
     "metadata": {},
     "source": [
      "Python\u2019s lists are efficient general-purpose containers. They support (fairly) efficient insertion, deletion, appending, and concatenation, and Python\u2019s list comprehensions make them easy to construct and manipulate. However, they have certain limitations: they don\u2019t support \u201cvectorized\u201d operations like elementwise addition and multiplication, and the fact that they can contain objects of differing types mean that Python must store type information for every element, and must execute type dispatching code when operating on each element. This also means that very few list operations can be carried out by efficient C loops \u2013 each iteration would require type checks and other Python API bookkeeping."
     ]
    },
    {
     "cell_type": "heading",
     "level": 5,
     "metadata": {},
     "source": [
      "More ways to create a numPy array:"
     ]
    },
    {
     "cell_type": "markdown",
     "metadata": {},
     "source": [
      "**1.array(a):\n",
      "Creates an array from the list a.**"
     ]
    },
    {
     "cell_type": "markdown",
     "metadata": {},
     "source": [
      "**2.linspace(start, stop, num):\n",
      "Returns num evenly spaced numbers over an interval from start to stop inclusive. [num=50 if omitted.]**"
     ]
    },
    {
     "cell_type": "code",
     "collapsed": false,
     "input": [
      "onemorearray = linspace(1,10,15)\n",
      "print onemorearray\n",
      "print type(onemorearray)"
     ],
     "language": "python",
     "metadata": {},
     "outputs": [
      {
       "output_type": "stream",
       "stream": "stdout",
       "text": [
        "[  1.           1.64285714   2.28571429   2.92857143   3.57142857\n",
        "   4.21428571   4.85714286   5.5          6.14285714   6.78571429\n",
        "   7.42857143   8.07142857   8.71428571   9.35714286  10.        ]\n",
        "<type 'numpy.ndarray'>\n"
       ]
      }
     ],
     "prompt_number": 25
    },
    {
     "cell_type": "markdown",
     "metadata": {},
     "source": [
      "**3.logspace(start, stop, num):\n",
      "Returns num logarithmically spaced numbers over an interval from 10^{\\mathrm{start}} to 10^{\\mathrm{stop}} inclusive. [num=50 if omitted.]**"
     ]
    },
    {
     "cell_type": "code",
     "collapsed": false,
     "input": [
      "logarray = np.logspace(1,10,5)\n",
      "\n",
      "print type(logarray)\n",
      "print logarray"
     ],
     "language": "python",
     "metadata": {},
     "outputs": [
      {
       "output_type": "stream",
       "stream": "stdout",
       "text": [
        "<type 'numpy.ndarray'>\n",
        "[  1.00000000e+01   1.77827941e+03   3.16227766e+05   5.62341325e+07\n",
        "   1.00000000e+10]\n"
       ]
      }
     ],
     "prompt_number": 29
    },
    {
     "cell_type": "markdown",
     "metadata": {},
     "source": [
      "**4.arange([start,] stop[, step,], dtype=None):\n",
      "Returns data points from start to end, exclusive, evenly spaced by step. [step=1 if omitted. start=0 and step=1 if both are omitted.]**"
     ]
    },
    {
     "cell_type": "code",
     "collapsed": false,
     "input": [
      "a = np.arange(15)\n",
      "print type(a)\n",
      "print a\n",
      "\n",
      "#arange function here works as a sequence or counter\n",
      "anarray = arange(1,15,2) \n",
      "\n",
      "print type(anarray)\n",
      "print anarray"
     ],
     "language": "python",
     "metadata": {},
     "outputs": [
      {
       "output_type": "stream",
       "stream": "stdout",
       "text": [
        "<type 'numpy.ndarray'>\n",
        "[ 0  1  2  3  4  5  6  7  8  9 10 11 12 13 14]\n",
        "<type 'numpy.ndarray'>\n",
        "[ 1  3  5  7  9 11 13]\n"
       ]
      }
     ],
     "prompt_number": 41
    },
    {
     "cell_type": "markdown",
     "metadata": {},
     "source": [
      "zeros(num, dtype=float):\n",
      "Returns an an array of 0s with num elements. Optional dtype argument can be used to set data type; left unspecified, a float array is made."
     ]
    },
    {
     "cell_type": "code",
     "collapsed": false,
     "input": [
      "np.zeros(50)"
     ],
     "language": "python",
     "metadata": {},
     "outputs": [
      {
       "metadata": {},
       "output_type": "pyout",
       "prompt_number": 42,
       "text": [
        "array([ 0.,  0.,  0.,  0.,  0.,  0.,  0.,  0.,  0.,  0.,  0.,  0.,  0.,\n",
        "        0.,  0.,  0.,  0.,  0.,  0.,  0.,  0.,  0.,  0.,  0.,  0.,  0.,\n",
        "        0.,  0.,  0.,  0.,  0.,  0.,  0.,  0.,  0.,  0.,  0.,  0.,  0.,\n",
        "        0.,  0.,  0.,  0.,  0.,  0.,  0.,  0.,  0.,  0.,  0.])"
       ]
      }
     ],
     "prompt_number": 42
    },
    {
     "cell_type": "markdown",
     "metadata": {},
     "source": [
      "ones(num, dtype=float):\n",
      "Returns an an array of 1s with num elements. Optional dtype argument can be used to set data type; left unspecified, a float array is made."
     ]
    },
    {
     "cell_type": "code",
     "collapsed": false,
     "input": [
      "np.ones((5,9))"
     ],
     "language": "python",
     "metadata": {},
     "outputs": [
      {
       "metadata": {},
       "output_type": "pyout",
       "prompt_number": 40,
       "text": [
        "array([[ 1.,  1.,  1.,  1.,  1.,  1.,  1.,  1.,  1.],\n",
        "       [ 1.,  1.,  1.,  1.,  1.,  1.,  1.,  1.,  1.],\n",
        "       [ 1.,  1.,  1.,  1.,  1.,  1.,  1.,  1.,  1.],\n",
        "       [ 1.,  1.,  1.,  1.,  1.,  1.,  1.,  1.,  1.],\n",
        "       [ 1.,  1.,  1.,  1.,  1.,  1.,  1.,  1.,  1.]])"
       ]
      }
     ],
     "prompt_number": 40
    },
    {
     "cell_type": "markdown",
     "metadata": {},
     "source": [
      "With each ndarray are associated two attributes: shape of the array, and type of the array. The shape of the array tells you about dimensionality of the array (rows and columns), and type of the array tells you about the data type contained in the array."
     ]
    },
    {
     "cell_type": "code",
     "collapsed": false,
     "input": [
      "data = np.array((32,45,123,756,23,2123))\n",
      "print(data.shape)\n",
      "print(data.dtype)\n",
      "print(data.size)\n"
     ],
     "language": "python",
     "metadata": {},
     "outputs": [
      {
       "output_type": "stream",
       "stream": "stdout",
       "text": [
        "(6L,)\n",
        "int32\n",
        "6\n"
       ]
      }
     ],
     "prompt_number": 7
    },
    {
     "cell_type": "code",
     "collapsed": false,
     "input": [
      "data2 = np.array([[1,2,3,4],[5,6,7.4,8]]) #list of lists\n",
      "print type(arr2)\n",
      "print shape(arr2)\n",
      "print arr2\n",
      "arr2[1][0]"
     ],
     "language": "python",
     "metadata": {},
     "outputs": [
      {
       "output_type": "stream",
       "stream": "stdout",
       "text": [
        "<type 'numpy.ndarray'>\n",
        "(2L, 4L)\n",
        "[[ 1.   2.   3.   4. ]\n",
        " [ 5.   6.   7.4  8. ]]\n"
       ]
      },
      {
       "metadata": {},
       "output_type": "pyout",
       "prompt_number": 38,
       "text": [
        "5.0"
       ]
      }
     ],
     "prompt_number": 38
    },
    {
     "cell_type": "markdown",
     "metadata": {},
     "source": [
      "**Caution: both the a[0][2] and the a[0,2] syntax work for NumPy arrays(as above) and mean exactly the same thing; for lists only the b[0][2] syntax works.**"
     ]
    },
    {
     "cell_type": "code",
     "collapsed": false,
     "input": [
      "np.eye(5) # creates a 5*5 identity matrix. "
     ],
     "language": "python",
     "metadata": {},
     "outputs": [
      {
       "metadata": {},
       "output_type": "pyout",
       "prompt_number": 13,
       "text": [
        "array([[ 1.,  0.,  0.,  0.,  0.],\n",
        "       [ 0.,  1.,  0.,  0.,  0.],\n",
        "       [ 0.,  0.,  1.,  0.,  0.],\n",
        "       [ 0.,  0.,  0.,  1.,  0.],\n",
        "       [ 0.,  0.,  0.,  0.,  1.]])"
       ]
      }
     ],
     "prompt_number": 13
    },
    {
     "cell_type": "code",
     "collapsed": false,
     "input": [
      "np.diag(array([1,3,5,3,4,5]))  #diagnol matrix"
     ],
     "language": "python",
     "metadata": {},
     "outputs": [
      {
       "metadata": {},
       "output_type": "pyout",
       "prompt_number": 43,
       "text": [
        "array([[1, 0, 0, 0, 0, 0],\n",
        "       [0, 3, 0, 0, 0, 0],\n",
        "       [0, 0, 5, 0, 0, 0],\n",
        "       [0, 0, 0, 3, 0, 0],\n",
        "       [0, 0, 0, 0, 4, 0],\n",
        "       [0, 0, 0, 0, 0, 5]])"
       ]
      }
     ],
     "prompt_number": 43
    },
    {
     "cell_type": "markdown",
     "metadata": {},
     "source": [
      "**NOTE : Adding one or more additional elements to a NumPy array creates a new array and destroys the old one.**\n",
      "+ Therefore it can be very inefficient to build up large arrays by appending elements one by one, especially if the array is very large, because you repeatedly create and destroy large arrays. \n",
      "+ By contrast, elements can be added to a list without creating a whole new list. If you need to build an array element by element, it is usually better to build it as a list, and then convert it to an array when the list is complete."
     ]
    },
    {
     "cell_type": "markdown",
     "metadata": {},
     "source": [
      "**--------------------------------------------------------------------------------------------------------**"
     ]
    },
    {
     "cell_type": "markdown",
     "metadata": {},
     "source": [
      "**pandas**\n",
      "\n",
      "pandas is the primary package for performing data analysis tasks in Python. pandas derives its name from panel data analysis and is the fundamental package that provides relational data structures (think Excel, SQL type) and a host of capabilities to play with those data structures. It is the most widely used package in Python for data analysis tasks, and is very good to work with cross sectional, time series, and panel data analysis. Python sits on top of NumPy and can be used with NumPy arrays and the functions in NumPy. How is pandas suited for a researcher\u2019s needs:\n",
      "\n",
      "+ Has a tabular data structure that can hold both homogenous and heterogenous data.\n",
      "+ Very good indexing capabilities that makes data alignment and merging easy.\n",
      "+ Good time series functionality. No need to use different data structures for time series and cross sectional data. Allows for both ordered and unordered time-series data.\n",
      "+ A host of statistical functions developed around NumPy and pandas that makes a researcher\u2019s task easy and fast.\n",
      "+ Programming is lot simpler and faster.\n",
      "+ Easily handles data manipulation and cleaning.\n",
      "+ Easy to expand and shorten data sets. Comprehensive merging, joins, and group by functionality to join multiple data sets.\n",
      "\n",
      "**Installing pandas** \n",
      "\n",
      "In order to check if pandas is installed, go to Package Manager and type pandas. By default, pandas already comes installed with a distribution of Canopy. If the package is not installed, click on Install.\n",
      "\n",
      "**Importing pandas**\n",
      "\n",
      "In order to be able to use NumPy, first import it using import statement\n"
     ]
    },
    {
     "cell_type": "markdown",
     "metadata": {},
     "source": [
      "When you combine time-series and cross-sectional data, it becomes panel data"
     ]
    },
    {
     "cell_type": "code",
     "collapsed": false,
     "input": [
      "import pandas as pd #this will import pandas into your workspace"
     ],
     "language": "python",
     "metadata": {},
     "outputs": [],
     "prompt_number": 45
    },
    {
     "cell_type": "code",
     "collapsed": false,
     "input": [
      "import numpy as np  #we will be using numpy functions so import numpy"
     ],
     "language": "python",
     "metadata": {},
     "outputs": [],
     "prompt_number": 16
    },
    {
     "cell_type": "markdown",
     "metadata": {},
     "source": [
      "**Different types of data :**\n",
      "+ Cross-sectional data -> Multiple entities at single point of time\n",
      "+ Time-series data -> single entity at multiple points\n",
      "+ Panel data  ->Multiple entities at multiple ponts of time  (Most frequent)"
     ]
    },
    {
     "cell_type": "markdown",
     "metadata": {},
     "source": [
      "**Data Structures in pandas**\n",
      "\n",
      "There are two basic data structures in pandas: Series and DataFrame\n",
      "\n",
      "**Series:** It is similar to a NumPy 1-dimensional array. In addition to the values that are specified by the programmer, pandas attaches a label to each of the values. If the labels are not provided by the programmer, then pandas assigns labels ( 0 for first element, 1 for second element and so on). A benefit of assigning labels to data values is that it becomes easier to perform manipulations on the dataset as the whole dataset becomes more of a dictionary where each value is associated with a label. \n"
     ]
    },
    {
     "cell_type": "code",
     "collapsed": false,
     "input": [
      "#A series is basically a single column\n",
      "\n",
      "series1 = pd.Series([10,20,30,40])\n",
      "series1"
     ],
     "language": "python",
     "metadata": {},
     "outputs": [
      {
       "metadata": {},
       "output_type": "pyout",
       "prompt_number": 56,
       "text": [
        "0    10\n",
        "1    20\n",
        "2    30\n",
        "3    40\n",
        "dtype: int64"
       ]
      }
     ],
     "prompt_number": 56
    },
    {
     "cell_type": "code",
     "collapsed": false,
     "input": [
      "series1.values"
     ],
     "language": "python",
     "metadata": {},
     "outputs": [
      {
       "metadata": {},
       "output_type": "pyout",
       "prompt_number": 57,
       "text": [
        "array([10, 20, 30, 40], dtype=int64)"
       ]
      }
     ],
     "prompt_number": 57
    },
    {
     "cell_type": "code",
     "collapsed": false,
     "input": [
      "series1.index"
     ],
     "language": "python",
     "metadata": {},
     "outputs": [
      {
       "metadata": {},
       "output_type": "pyout",
       "prompt_number": 58,
       "text": [
        "Int64Index([0, 1, 2, 3], dtype='int64')"
       ]
      }
     ],
     "prompt_number": 58
    },
    {
     "cell_type": "markdown",
     "metadata": {},
     "source": [
      "If you want to specify custom index values rather than the default ones provided, you can do so using the following command"
     ]
    },
    {
     "cell_type": "code",
     "collapsed": false,
     "input": [
      "series2 = pd.Series([10,20,30,40,50], index=['one','two','three','four','five'])\n",
      "series2"
     ],
     "language": "python",
     "metadata": {},
     "outputs": [
      {
       "metadata": {},
       "output_type": "pyout",
       "prompt_number": 59,
       "text": [
        "one      10\n",
        "two      20\n",
        "three    30\n",
        "four     40\n",
        "five     50\n",
        "dtype: int64"
       ]
      }
     ],
     "prompt_number": 59
    },
    {
     "cell_type": "markdown",
     "metadata": {},
     "source": [
      "The ways of accesing elements in a Series object are similar to what we have seen in NumPy, and you can perform NumPy operations on Series data arrays."
     ]
    },
    {
     "cell_type": "code",
     "collapsed": false,
     "input": [
      "series2[2]"
     ],
     "language": "python",
     "metadata": {},
     "outputs": [
      {
       "metadata": {},
       "output_type": "pyout",
       "prompt_number": 50,
       "text": [
        "30"
       ]
      }
     ],
     "prompt_number": 50
    },
    {
     "cell_type": "code",
     "collapsed": false,
     "input": [
      "series2['three']"
     ],
     "language": "python",
     "metadata": {},
     "outputs": [
      {
       "metadata": {},
       "output_type": "pyout",
       "prompt_number": 60,
       "text": [
        "30"
       ]
      }
     ],
     "prompt_number": 60
    },
    {
     "cell_type": "code",
     "collapsed": false,
     "input": [
      "series2[['one', 'three', 'five']]"
     ],
     "language": "python",
     "metadata": {},
     "outputs": [
      {
       "metadata": {},
       "output_type": "pyout",
       "prompt_number": 52,
       "text": [
        "one      10\n",
        "three    30\n",
        "five     50\n",
        "dtype: int64"
       ]
      }
     ],
     "prompt_number": 52
    },
    {
     "cell_type": "code",
     "collapsed": false,
     "input": [
      "series2[[0,1,3]]  #Index wise"
     ],
     "language": "python",
     "metadata": {},
     "outputs": [
      {
       "metadata": {},
       "output_type": "pyout",
       "prompt_number": 24,
       "text": [
        "one     10\n",
        "two     20\n",
        "four    40\n",
        "dtype: int64"
       ]
      }
     ],
     "prompt_number": 24
    },
    {
     "cell_type": "code",
     "collapsed": false,
     "input": [
      "series2 + 4"
     ],
     "language": "python",
     "metadata": {},
     "outputs": [
      {
       "metadata": {},
       "output_type": "pyout",
       "prompt_number": 53,
       "text": [
        "one      14\n",
        "two      24\n",
        "three    34\n",
        "four     44\n",
        "five     54\n",
        "dtype: int64"
       ]
      }
     ],
     "prompt_number": 53
    },
    {
     "cell_type": "code",
     "collapsed": false,
     "input": [
      "series2 ** 3"
     ],
     "language": "python",
     "metadata": {},
     "outputs": [
      {
       "metadata": {},
       "output_type": "pyout",
       "prompt_number": 54,
       "text": [
        "one        1000\n",
        "two        8000\n",
        "three     27000\n",
        "four      64000\n",
        "five     125000\n",
        "dtype: int64"
       ]
      }
     ],
     "prompt_number": 54
    },
    {
     "cell_type": "code",
     "collapsed": false,
     "input": [
      "series2[series2>30]"
     ],
     "language": "python",
     "metadata": {},
     "outputs": [
      {
       "metadata": {},
       "output_type": "pyout",
       "prompt_number": 61,
       "text": [
        "four    40\n",
        "five    50\n",
        "dtype: int64"
       ]
      }
     ],
     "prompt_number": 61
    },
    {
     "cell_type": "code",
     "collapsed": false,
     "input": [
      "np.sqrt(series2)  #Functions in numPy can be used for Pandas dataframes"
     ],
     "language": "python",
     "metadata": {},
     "outputs": [
      {
       "metadata": {},
       "output_type": "pyout",
       "prompt_number": 28,
       "text": [
        "one      3.162278\n",
        "two      4.472136\n",
        "three    5.477226\n",
        "four     6.324555\n",
        "five     7.071068\n",
        "dtype: float64"
       ]
      }
     ],
     "prompt_number": 28
    },
    {
     "cell_type": "markdown",
     "metadata": {},
     "source": [
      "If you have a dictionary, you can create a Series data structure from that dictionary. Suppose you are interested in EPS values for firms and the values come from different sources and is not clean. In that case you dont have to worry about cleaning and aligning those values. "
     ]
    },
    {
     "cell_type": "code",
     "collapsed": false,
     "input": [
      "#IMPORTANT CONCEPT ->creating a series from a dict\n",
      "\n",
      "years = [90, 91, 92, 93, 94, 95]\n",
      "f1 = {90:8, 91:9, 92:7, 93:8, 94:9, 95:11}  #Lets say this is the data for a company\n",
      "firm1 = pd.Series(f1,index=years)\n",
      "firm1\n"
     ],
     "language": "python",
     "metadata": {},
     "outputs": [
      {
       "metadata": {},
       "output_type": "pyout",
       "prompt_number": 63,
       "text": [
        "90     8\n",
        "91     9\n",
        "92     7\n",
        "93     8\n",
        "94     9\n",
        "95    11\n",
        "dtype: int64"
       ]
      }
     ],
     "prompt_number": 63
    },
    {
     "cell_type": "code",
     "collapsed": false,
     "input": [
      "f2 = {90:14,92:9, 93:13, 94:5}\n",
      "firm2 = pd.Series(f2,index=years)\n",
      "firm2"
     ],
     "language": "python",
     "metadata": {},
     "outputs": [
      {
       "metadata": {},
       "output_type": "pyout",
       "prompt_number": 65,
       "text": [
        "90    14\n",
        "91   NaN\n",
        "92     9\n",
        "93    13\n",
        "94     5\n",
        "95   NaN\n",
        "dtype: float64"
       ]
      }
     ],
     "prompt_number": 65
    },
    {
     "cell_type": "code",
     "collapsed": false,
     "input": [
      "f3 = {93:10, 94:12, 95: 13}\n",
      "firm3 = pd.Series(f3,index=years)\n",
      "firm3"
     ],
     "language": "python",
     "metadata": {},
     "outputs": [
      {
       "metadata": {},
       "output_type": "pyout",
       "prompt_number": 67,
       "text": [
        "90   NaN\n",
        "91   NaN\n",
        "92   NaN\n",
        "93    10\n",
        "94    12\n",
        "95    13\n",
        "dtype: float64"
       ]
      }
     ],
     "prompt_number": 67
    },
    {
     "cell_type": "markdown",
     "metadata": {},
     "source": [
      "NaN stands for missing or NA values in pandas. Make use of isnull() function to find out if there are any missing values in the data structure."
     ]
    },
    {
     "cell_type": "code",
     "collapsed": false,
     "input": [
      "pd.isnull(firm3)"
     ],
     "language": "python",
     "metadata": {},
     "outputs": [
      {
       "metadata": {},
       "output_type": "pyout",
       "prompt_number": 68,
       "text": [
        "90     True\n",
        "91     True\n",
        "92     True\n",
        "93    False\n",
        "94    False\n",
        "95    False\n",
        "dtype: bool"
       ]
      }
     ],
     "prompt_number": 68
    },
    {
     "cell_type": "markdown",
     "metadata": {},
     "source": [
      "A key feature of Series data is structures is that you don't have to worry about data alignment. For example, if we have run a word count program on two different files and we have the following data structures"
     ]
    },
    {
     "cell_type": "code",
     "collapsed": false,
     "input": [
      "dict1 = {'finance': 10, 'earning': 5, 'debt':8}\n",
      "dict2 = {'finance' : 8, 'compensation':4, 'earning': 9}\n",
      "count1 = pd.Series(dict1)\n",
      "count2 = pd.Series(dict2)\n",
      "print count1\n",
      "print count2\n",
      "\n",
      "print count1.index\n",
      "print count2.values\n",
      "type(count1)\n"
     ],
     "language": "python",
     "metadata": {},
     "outputs": [
      {
       "output_type": "stream",
       "stream": "stdout",
       "text": [
        "debt        8\n",
        "earning     5\n",
        "finance    10\n",
        "dtype: int64\n",
        "compensation    4\n",
        "earning         9\n",
        "finance         8\n",
        "dtype: int64\n",
        "Index([u'debt', u'earning', u'finance'], dtype='object')\n",
        "[4 9 8]\n"
       ]
      },
      {
       "metadata": {},
       "output_type": "pyout",
       "prompt_number": 78,
       "text": [
        "pandas.core.series.Series"
       ]
      }
     ],
     "prompt_number": 78
    },
    {
     "cell_type": "markdown",
     "metadata": {},
     "source": [
      " "
     ]
    },
    {
     "cell_type": "markdown",
     "metadata": {},
     "source": [
      "If we want to calculate the sum of common words in combined files, then we dont have to worry about data alignment. If we want to include all words, then we can take care of NaN values and compute the sum. By default, Series data structure ignores NaN values. NaN values stand for missing data values."
     ]
    },
    {
     "cell_type": "code",
     "collapsed": false,
     "input": [
      "count1+count2\n",
      "\n",
      "count3 = count1+count2\n",
      "count3.shape,type(count3)"
     ],
     "language": "python",
     "metadata": {},
     "outputs": [
      {
       "metadata": {},
       "output_type": "pyout",
       "prompt_number": 83,
       "text": [
        "((4L,), pandas.core.series.Series)"
       ]
      }
     ],
     "prompt_number": 83
    },
    {
     "cell_type": "markdown",
     "metadata": {},
     "source": [
      "**Data Frame**\n",
      "\n",
      "DataFrame is a tabular data structure in which data is laid out in rows and column format (similar to a CSV and SQL file), but it can also be used for higher dimensional data sets. The DataFrame object can contain homogenous and heterogenous values, and can be thought of as a logical extension of Series data structures. In contrast to Series, where there is one index, a DataFrame object has one index for column and one index for rows. This allows flexibility in accessing and manipulating data."
     ]
    },
    {
     "cell_type": "code",
     "collapsed": false,
     "input": [
      "data = pd.DataFrame({'price':[95, 25, 85, 41, 78],\n",
      "                     'ticker':['AXP', 'CSCO', 'DIS', 'MSFT', 'WMT'],\n",
      "                     'company':['American Express', 'Cisco', 'Walt Disney','Microsoft', 'Walmart']})\n",
      "data\n",
      "\n",
      "#Company,price ,ticker are indexes for x-axis\n",
      "#0,1,2,3,4 are indexes for y-axis"
     ],
     "language": "python",
     "metadata": {},
     "outputs": [
      {
       "html": [
        "<div style=\"max-width:1500px;overflow:auto;\">\n",
        "<table border=\"1\" class=\"dataframe\">\n",
        "  <thead>\n",
        "    <tr style=\"text-align: right;\">\n",
        "      <th></th>\n",
        "      <th>company</th>\n",
        "      <th>price</th>\n",
        "      <th>ticker</th>\n",
        "    </tr>\n",
        "  </thead>\n",
        "  <tbody>\n",
        "    <tr>\n",
        "      <th>0</th>\n",
        "      <td>American Express</td>\n",
        "      <td>95</td>\n",
        "      <td>AXP</td>\n",
        "    </tr>\n",
        "    <tr>\n",
        "      <th>1</th>\n",
        "      <td>Cisco</td>\n",
        "      <td>25</td>\n",
        "      <td>CSCO</td>\n",
        "    </tr>\n",
        "    <tr>\n",
        "      <th>2</th>\n",
        "      <td>Walt Disney</td>\n",
        "      <td>85</td>\n",
        "      <td>DIS</td>\n",
        "    </tr>\n",
        "    <tr>\n",
        "      <th>3</th>\n",
        "      <td>Microsoft</td>\n",
        "      <td>41</td>\n",
        "      <td>MSFT</td>\n",
        "    </tr>\n",
        "    <tr>\n",
        "      <th>4</th>\n",
        "      <td>Walmart</td>\n",
        "      <td>78</td>\n",
        "      <td>WMT</td>\n",
        "    </tr>\n",
        "  </tbody>\n",
        "</table>\n",
        "</div>"
       ],
       "metadata": {},
       "output_type": "pyout",
       "prompt_number": 85,
       "text": [
        "            company  price ticker\n",
        "0  American Express     95    AXP\n",
        "1             Cisco     25   CSCO\n",
        "2       Walt Disney     85    DIS\n",
        "3         Microsoft     41   MSFT\n",
        "4           Walmart     78    WMT"
       ]
      }
     ],
     "prompt_number": 85
    },
    {
     "cell_type": "markdown",
     "metadata": {},
     "source": [
      "If a column is passed with no values, it will simply have NaN values"
     ]
    },
    {
     "cell_type": "markdown",
     "metadata": {},
     "source": [
      "In order to access a column, simply mention the column name"
     ]
    },
    {
     "cell_type": "code",
     "collapsed": false,
     "input": [
      "data['company']"
     ],
     "language": "python",
     "metadata": {},
     "outputs": [
      {
       "metadata": {},
       "output_type": "pyout",
       "prompt_number": 86,
       "text": [
        "0    American Express\n",
        "1               Cisco\n",
        "2         Walt Disney\n",
        "3           Microsoft\n",
        "4             Walmart\n",
        "Name: company, dtype: object"
       ]
      }
     ],
     "prompt_number": 86
    },
    {
     "cell_type": "code",
     "collapsed": false,
     "input": [
      "data.company"
     ],
     "language": "python",
     "metadata": {},
     "outputs": [
      {
       "metadata": {},
       "output_type": "pyout",
       "prompt_number": 87,
       "text": [
        "0    American Express\n",
        "1               Cisco\n",
        "2         Walt Disney\n",
        "3           Microsoft\n",
        "4             Walmart\n",
        "Name: company, dtype: object"
       ]
      }
     ],
     "prompt_number": 87
    },
    {
     "cell_type": "code",
     "collapsed": false,
     "input": [
      "data.ix[2]\n"
     ],
     "language": "python",
     "metadata": {},
     "outputs": [
      {
       "metadata": {},
       "output_type": "pyout",
       "prompt_number": 45,
       "text": [
        "company    Walt Disney\n",
        "price               85\n",
        "ticker             DIS\n",
        "Year              2014\n",
        "Name: 2, dtype: object"
       ]
      }
     ],
     "prompt_number": 45
    },
    {
     "cell_type": "code",
     "collapsed": false,
     "input": [
      "data.ix[data.price]"
     ],
     "language": "python",
     "metadata": {},
     "outputs": [
      {
       "html": [
        "<div style=\"max-width:1500px;overflow:auto;\">\n",
        "<table border=\"1\" class=\"dataframe\">\n",
        "  <thead>\n",
        "    <tr style=\"text-align: right;\">\n",
        "      <th></th>\n",
        "      <th>company</th>\n",
        "      <th>price</th>\n",
        "      <th>ticker</th>\n",
        "    </tr>\n",
        "  </thead>\n",
        "  <tbody>\n",
        "    <tr>\n",
        "      <th>95</th>\n",
        "      <td>NaN</td>\n",
        "      <td>NaN</td>\n",
        "      <td>NaN</td>\n",
        "    </tr>\n",
        "    <tr>\n",
        "      <th>25</th>\n",
        "      <td>NaN</td>\n",
        "      <td>NaN</td>\n",
        "      <td>NaN</td>\n",
        "    </tr>\n",
        "    <tr>\n",
        "      <th>85</th>\n",
        "      <td>NaN</td>\n",
        "      <td>NaN</td>\n",
        "      <td>NaN</td>\n",
        "    </tr>\n",
        "    <tr>\n",
        "      <th>41</th>\n",
        "      <td>NaN</td>\n",
        "      <td>NaN</td>\n",
        "      <td>NaN</td>\n",
        "    </tr>\n",
        "    <tr>\n",
        "      <th>78</th>\n",
        "      <td>NaN</td>\n",
        "      <td>NaN</td>\n",
        "      <td>NaN</td>\n",
        "    </tr>\n",
        "  </tbody>\n",
        "</table>\n",
        "</div>"
       ],
       "metadata": {},
       "output_type": "pyout",
       "prompt_number": 94,
       "text": [
        "   company  price ticker\n",
        "95     NaN    NaN    NaN\n",
        "25     NaN    NaN    NaN\n",
        "85     NaN    NaN    NaN\n",
        "41     NaN    NaN    NaN\n",
        "78     NaN    NaN    NaN"
       ]
      }
     ],
     "prompt_number": 94
    },
    {
     "cell_type": "code",
     "collapsed": false,
     "input": [
      "data.ix[data.ticker=='DIS']  #ix ->short form for Index"
     ],
     "language": "python",
     "metadata": {},
     "outputs": [
      {
       "html": [
        "<div style=\"max-width:1500px;overflow:auto;\">\n",
        "<table border=\"1\" class=\"dataframe\">\n",
        "  <thead>\n",
        "    <tr style=\"text-align: right;\">\n",
        "      <th></th>\n",
        "      <th>company</th>\n",
        "      <th>price</th>\n",
        "      <th>ticker</th>\n",
        "    </tr>\n",
        "  </thead>\n",
        "  <tbody>\n",
        "    <tr>\n",
        "      <th>2</th>\n",
        "      <td>Walt Disney</td>\n",
        "      <td>85</td>\n",
        "      <td>DIS</td>\n",
        "    </tr>\n",
        "  </tbody>\n",
        "</table>\n",
        "</div>"
       ],
       "metadata": {},
       "output_type": "pyout",
       "prompt_number": 90,
       "text": [
        "       company  price ticker\n",
        "2  Walt Disney     85    DIS"
       ]
      }
     ],
     "prompt_number": 90
    },
    {
     "cell_type": "markdown",
     "metadata": {},
     "source": [
      "In order to add additional columns"
     ]
    },
    {
     "cell_type": "code",
     "collapsed": false,
     "input": [
      "data['Year'] = 2014\n",
      "data"
     ],
     "language": "python",
     "metadata": {},
     "outputs": [
      {
       "html": [
        "<div style=\"max-width:1500px;overflow:auto;\">\n",
        "<table border=\"1\" class=\"dataframe\">\n",
        "  <thead>\n",
        "    <tr style=\"text-align: right;\">\n",
        "      <th></th>\n",
        "      <th>company</th>\n",
        "      <th>price</th>\n",
        "      <th>ticker</th>\n",
        "      <th>Year</th>\n",
        "    </tr>\n",
        "  </thead>\n",
        "  <tbody>\n",
        "    <tr>\n",
        "      <th>0</th>\n",
        "      <td>American Express</td>\n",
        "      <td>95</td>\n",
        "      <td>AXP</td>\n",
        "      <td>2014</td>\n",
        "    </tr>\n",
        "    <tr>\n",
        "      <th>1</th>\n",
        "      <td>Cisco</td>\n",
        "      <td>25</td>\n",
        "      <td>CSCO</td>\n",
        "      <td>2014</td>\n",
        "    </tr>\n",
        "    <tr>\n",
        "      <th>2</th>\n",
        "      <td>Walt Disney</td>\n",
        "      <td>85</td>\n",
        "      <td>DIS</td>\n",
        "      <td>2014</td>\n",
        "    </tr>\n",
        "    <tr>\n",
        "      <th>3</th>\n",
        "      <td>Microsoft</td>\n",
        "      <td>41</td>\n",
        "      <td>MSFT</td>\n",
        "      <td>2014</td>\n",
        "    </tr>\n",
        "    <tr>\n",
        "      <th>4</th>\n",
        "      <td>Walmart</td>\n",
        "      <td>78</td>\n",
        "      <td>WMT</td>\n",
        "      <td>2014</td>\n",
        "    </tr>\n",
        "  </tbody>\n",
        "</table>\n",
        "</div>"
       ],
       "metadata": {},
       "output_type": "pyout",
       "prompt_number": 96,
       "text": [
        "            company  price ticker  Year\n",
        "0  American Express     95    AXP  2014\n",
        "1             Cisco     25   CSCO  2014\n",
        "2       Walt Disney     85    DIS  2014\n",
        "3         Microsoft     41   MSFT  2014\n",
        "4           Walmart     78    WMT  2014"
       ]
      }
     ],
     "prompt_number": 96
    },
    {
     "cell_type": "code",
     "collapsed": false,
     "input": [
      "data['pricesquared'] = data.price**2\n",
      "data"
     ],
     "language": "python",
     "metadata": {},
     "outputs": [
      {
       "html": [
        "<div style=\"max-width:1500px;overflow:auto;\">\n",
        "<table border=\"1\" class=\"dataframe\">\n",
        "  <thead>\n",
        "    <tr style=\"text-align: right;\">\n",
        "      <th></th>\n",
        "      <th>company</th>\n",
        "      <th>price</th>\n",
        "      <th>ticker</th>\n",
        "      <th>Year</th>\n",
        "      <th>pricesquared</th>\n",
        "    </tr>\n",
        "  </thead>\n",
        "  <tbody>\n",
        "    <tr>\n",
        "      <th>0</th>\n",
        "      <td>American Express</td>\n",
        "      <td>95</td>\n",
        "      <td>AXP</td>\n",
        "      <td>2014</td>\n",
        "      <td>9025</td>\n",
        "    </tr>\n",
        "    <tr>\n",
        "      <th>1</th>\n",
        "      <td>Cisco</td>\n",
        "      <td>25</td>\n",
        "      <td>CSCO</td>\n",
        "      <td>2014</td>\n",
        "      <td>625</td>\n",
        "    </tr>\n",
        "    <tr>\n",
        "      <th>2</th>\n",
        "      <td>Walt Disney</td>\n",
        "      <td>85</td>\n",
        "      <td>DIS</td>\n",
        "      <td>2014</td>\n",
        "      <td>7225</td>\n",
        "    </tr>\n",
        "    <tr>\n",
        "      <th>3</th>\n",
        "      <td>Microsoft</td>\n",
        "      <td>41</td>\n",
        "      <td>MSFT</td>\n",
        "      <td>2014</td>\n",
        "      <td>1681</td>\n",
        "    </tr>\n",
        "    <tr>\n",
        "      <th>4</th>\n",
        "      <td>Walmart</td>\n",
        "      <td>78</td>\n",
        "      <td>WMT</td>\n",
        "      <td>2014</td>\n",
        "      <td>6084</td>\n",
        "    </tr>\n",
        "  </tbody>\n",
        "</table>\n",
        "</div>"
       ],
       "metadata": {},
       "output_type": "pyout",
       "prompt_number": 46,
       "text": [
        "            company  price ticker  Year  pricesquared\n",
        "0  American Express     95    AXP  2014          9025\n",
        "1             Cisco     25   CSCO  2014           625\n",
        "2       Walt Disney     85    DIS  2014          7225\n",
        "3         Microsoft     41   MSFT  2014          1681\n",
        "4           Walmart     78    WMT  2014          6084"
       ]
      }
     ],
     "prompt_number": 46
    },
    {
     "cell_type": "code",
     "collapsed": false,
     "input": [
      "del data['pricesquared']\n",
      "data"
     ],
     "language": "python",
     "metadata": {},
     "outputs": [
      {
       "html": [
        "<div style=\"max-width:1500px;overflow:auto;\">\n",
        "<table border=\"1\" class=\"dataframe\">\n",
        "  <thead>\n",
        "    <tr style=\"text-align: right;\">\n",
        "      <th></th>\n",
        "      <th>company</th>\n",
        "      <th>price</th>\n",
        "      <th>ticker</th>\n",
        "      <th>Year</th>\n",
        "    </tr>\n",
        "  </thead>\n",
        "  <tbody>\n",
        "    <tr>\n",
        "      <th>0</th>\n",
        "      <td>American Express</td>\n",
        "      <td>95</td>\n",
        "      <td>AXP</td>\n",
        "      <td>2014</td>\n",
        "    </tr>\n",
        "    <tr>\n",
        "      <th>1</th>\n",
        "      <td>Cisco</td>\n",
        "      <td>25</td>\n",
        "      <td>CSCO</td>\n",
        "      <td>2014</td>\n",
        "    </tr>\n",
        "    <tr>\n",
        "      <th>2</th>\n",
        "      <td>Walt Disney</td>\n",
        "      <td>85</td>\n",
        "      <td>DIS</td>\n",
        "      <td>2014</td>\n",
        "    </tr>\n",
        "    <tr>\n",
        "      <th>3</th>\n",
        "      <td>Microsoft</td>\n",
        "      <td>41</td>\n",
        "      <td>MSFT</td>\n",
        "      <td>2014</td>\n",
        "    </tr>\n",
        "    <tr>\n",
        "      <th>4</th>\n",
        "      <td>Walmart</td>\n",
        "      <td>78</td>\n",
        "      <td>WMT</td>\n",
        "      <td>2014</td>\n",
        "    </tr>\n",
        "  </tbody>\n",
        "</table>\n",
        "</div>"
       ],
       "metadata": {},
       "output_type": "pyout",
       "prompt_number": 47,
       "text": [
        "            company  price ticker  Year\n",
        "0  American Express     95    AXP  2014\n",
        "1             Cisco     25   CSCO  2014\n",
        "2       Walt Disney     85    DIS  2014\n",
        "3         Microsoft     41   MSFT  2014\n",
        "4           Walmart     78    WMT  2014"
       ]
      }
     ],
     "prompt_number": 47
    },
    {
     "cell_type": "code",
     "collapsed": false,
     "input": [
      "data['pricesquared'] = NaN\n",
      "data"
     ],
     "language": "python",
     "metadata": {},
     "outputs": [
      {
       "html": [
        "<div style=\"max-width:1500px;overflow:auto;\">\n",
        "<table border=\"1\" class=\"dataframe\">\n",
        "  <thead>\n",
        "    <tr style=\"text-align: right;\">\n",
        "      <th></th>\n",
        "      <th>company</th>\n",
        "      <th>price</th>\n",
        "      <th>ticker</th>\n",
        "      <th>Year</th>\n",
        "      <th>pricesquared</th>\n",
        "    </tr>\n",
        "  </thead>\n",
        "  <tbody>\n",
        "    <tr>\n",
        "      <th>0</th>\n",
        "      <td>American Express</td>\n",
        "      <td>95</td>\n",
        "      <td>AXP</td>\n",
        "      <td>2014</td>\n",
        "      <td>NaN</td>\n",
        "    </tr>\n",
        "    <tr>\n",
        "      <th>1</th>\n",
        "      <td>Cisco</td>\n",
        "      <td>25</td>\n",
        "      <td>CSCO</td>\n",
        "      <td>2014</td>\n",
        "      <td>NaN</td>\n",
        "    </tr>\n",
        "    <tr>\n",
        "      <th>2</th>\n",
        "      <td>Walt Disney</td>\n",
        "      <td>85</td>\n",
        "      <td>DIS</td>\n",
        "      <td>2014</td>\n",
        "      <td>NaN</td>\n",
        "    </tr>\n",
        "    <tr>\n",
        "      <th>3</th>\n",
        "      <td>Microsoft</td>\n",
        "      <td>41</td>\n",
        "      <td>MSFT</td>\n",
        "      <td>2014</td>\n",
        "      <td>NaN</td>\n",
        "    </tr>\n",
        "    <tr>\n",
        "      <th>4</th>\n",
        "      <td>Walmart</td>\n",
        "      <td>78</td>\n",
        "      <td>WMT</td>\n",
        "      <td>2014</td>\n",
        "      <td>NaN</td>\n",
        "    </tr>\n",
        "  </tbody>\n",
        "</table>\n",
        "</div>"
       ],
       "metadata": {},
       "output_type": "pyout",
       "prompt_number": 48,
       "text": [
        "            company  price ticker  Year  pricesquared\n",
        "0  American Express     95    AXP  2014           NaN\n",
        "1             Cisco     25   CSCO  2014           NaN\n",
        "2       Walt Disney     85    DIS  2014           NaN\n",
        "3         Microsoft     41   MSFT  2014           NaN\n",
        "4           Walmart     78    WMT  2014           NaN"
       ]
      }
     ],
     "prompt_number": 48
    },
    {
     "cell_type": "code",
     "collapsed": false,
     "input": [
      "data['sequence'] = arange(1,6)\n",
      "data"
     ],
     "language": "python",
     "metadata": {},
     "outputs": [
      {
       "html": [
        "<div style=\"max-width:1500px;overflow:auto;\">\n",
        "<table border=\"1\" class=\"dataframe\">\n",
        "  <thead>\n",
        "    <tr style=\"text-align: right;\">\n",
        "      <th></th>\n",
        "      <th>company</th>\n",
        "      <th>price</th>\n",
        "      <th>ticker</th>\n",
        "      <th>Year</th>\n",
        "      <th>sequence</th>\n",
        "    </tr>\n",
        "  </thead>\n",
        "  <tbody>\n",
        "    <tr>\n",
        "      <th>0</th>\n",
        "      <td>American Express</td>\n",
        "      <td>95</td>\n",
        "      <td>AXP</td>\n",
        "      <td>2014</td>\n",
        "      <td>1</td>\n",
        "    </tr>\n",
        "    <tr>\n",
        "      <th>1</th>\n",
        "      <td>Cisco</td>\n",
        "      <td>25</td>\n",
        "      <td>CSCO</td>\n",
        "      <td>2014</td>\n",
        "      <td>2</td>\n",
        "    </tr>\n",
        "    <tr>\n",
        "      <th>2</th>\n",
        "      <td>Walt Disney</td>\n",
        "      <td>85</td>\n",
        "      <td>DIS</td>\n",
        "      <td>2014</td>\n",
        "      <td>3</td>\n",
        "    </tr>\n",
        "    <tr>\n",
        "      <th>3</th>\n",
        "      <td>Microsoft</td>\n",
        "      <td>41</td>\n",
        "      <td>MSFT</td>\n",
        "      <td>2014</td>\n",
        "      <td>4</td>\n",
        "    </tr>\n",
        "    <tr>\n",
        "      <th>4</th>\n",
        "      <td>Walmart</td>\n",
        "      <td>78</td>\n",
        "      <td>WMT</td>\n",
        "      <td>2014</td>\n",
        "      <td>5</td>\n",
        "    </tr>\n",
        "  </tbody>\n",
        "</table>\n",
        "</div>"
       ],
       "metadata": {},
       "output_type": "pyout",
       "prompt_number": 97,
       "text": [
        "            company  price ticker  Year  sequence\n",
        "0  American Express     95    AXP  2014         1\n",
        "1             Cisco     25   CSCO  2014         2\n",
        "2       Walt Disney     85    DIS  2014         3\n",
        "3         Microsoft     41   MSFT  2014         4\n",
        "4           Walmart     78    WMT  2014         5"
       ]
      }
     ],
     "prompt_number": 97
    },
    {
     "cell_type": "code",
     "collapsed": false,
     "input": [
      "data.values"
     ],
     "language": "python",
     "metadata": {},
     "outputs": [
      {
       "metadata": {},
       "output_type": "pyout",
       "prompt_number": 99,
       "text": [
        "array([['American Express', 95L, 'AXP', 2014L, 1],\n",
        "       ['Cisco', 25L, 'CSCO', 2014L, 2],\n",
        "       ['Walt Disney', 85L, 'DIS', 2014L, 3],\n",
        "       ['Microsoft', 41L, 'MSFT', 2014L, 4],\n",
        "       ['Walmart', 78L, 'WMT', 2014L, 5]], dtype=object)"
       ]
      }
     ],
     "prompt_number": 99
    },
    {
     "cell_type": "code",
     "collapsed": false,
     "input": [
      "newdata = data.drop(2)  \n"
     ],
     "language": "python",
     "metadata": {},
     "outputs": [],
     "prompt_number": 101
    },
    {
     "cell_type": "markdown",
     "metadata": {},
     "source": [
      "**Important**\n",
      "+ To drop a column -> del\n",
      "+ To drop a row -> data.drop"
     ]
    },
    {
     "cell_type": "code",
     "collapsed": false,
     "input": [
      "newdata"
     ],
     "language": "python",
     "metadata": {},
     "outputs": [
      {
       "html": [
        "<div style=\"max-width:1500px;overflow:auto;\">\n",
        "<table border=\"1\" class=\"dataframe\">\n",
        "  <thead>\n",
        "    <tr style=\"text-align: right;\">\n",
        "      <th></th>\n",
        "      <th>company</th>\n",
        "      <th>price</th>\n",
        "      <th>ticker</th>\n",
        "      <th>Year</th>\n",
        "      <th>sequence</th>\n",
        "    </tr>\n",
        "  </thead>\n",
        "  <tbody>\n",
        "    <tr>\n",
        "      <th>0</th>\n",
        "      <td>American Express</td>\n",
        "      <td>95</td>\n",
        "      <td>AXP</td>\n",
        "      <td>2014</td>\n",
        "      <td>1</td>\n",
        "    </tr>\n",
        "    <tr>\n",
        "      <th>1</th>\n",
        "      <td>Cisco</td>\n",
        "      <td>25</td>\n",
        "      <td>CSCO</td>\n",
        "      <td>2014</td>\n",
        "      <td>2</td>\n",
        "    </tr>\n",
        "    <tr>\n",
        "      <th>3</th>\n",
        "      <td>Microsoft</td>\n",
        "      <td>41</td>\n",
        "      <td>MSFT</td>\n",
        "      <td>2014</td>\n",
        "      <td>4</td>\n",
        "    </tr>\n",
        "    <tr>\n",
        "      <th>4</th>\n",
        "      <td>Walmart</td>\n",
        "      <td>78</td>\n",
        "      <td>WMT</td>\n",
        "      <td>2014</td>\n",
        "      <td>5</td>\n",
        "    </tr>\n",
        "  </tbody>\n",
        "</table>\n",
        "</div>"
       ],
       "metadata": {},
       "output_type": "pyout",
       "prompt_number": 102,
       "text": [
        "            company  price ticker  Year  sequence\n",
        "0  American Express     95    AXP  2014         1\n",
        "1             Cisco     25   CSCO  2014         2\n",
        "3         Microsoft     41   MSFT  2014         4\n",
        "4           Walmart     78    WMT  2014         5"
       ]
      }
     ],
     "prompt_number": 102
    },
    {
     "cell_type": "code",
     "collapsed": false,
     "input": [
      "years = [90, 91, 92, 93, 94, 95]\n",
      "f1 = {90:8, 91:9, 92:7, 93:8, 94:9, 95:11}\n",
      "firm1 = pd.Series(f1,index=years)\n",
      "firm1\n",
      "f2 = {90:14,92:9, 93:13, 94:5}\n",
      "firm2 = pd.Series(f2,index=years)\n",
      "firm2\n",
      "f3 = {93:10, 94:12, 95: 13}\n",
      "firm3 = pd.Series(f3,index=years)\n",
      "firm3\n",
      "df1 = pd.DataFrame(columns=['Firm1','Firm2','Firm3'],index=years)\n",
      "df1\n",
      "df1.Firm1 = firm1\n",
      "df1.Firm2 = firm2\n",
      "df1.Firm3 = firm3\n",
      "df1\n"
     ],
     "language": "python",
     "metadata": {},
     "outputs": [
      {
       "html": [
        "<div style=\"max-width:1500px;overflow:auto;\">\n",
        "<table border=\"1\" class=\"dataframe\">\n",
        "  <thead>\n",
        "    <tr style=\"text-align: right;\">\n",
        "      <th></th>\n",
        "      <th>Firm1</th>\n",
        "      <th>Firm2</th>\n",
        "      <th>Firm3</th>\n",
        "    </tr>\n",
        "  </thead>\n",
        "  <tbody>\n",
        "    <tr>\n",
        "      <th>90</th>\n",
        "      <td>8</td>\n",
        "      <td>14</td>\n",
        "      <td>NaN</td>\n",
        "    </tr>\n",
        "    <tr>\n",
        "      <th>91</th>\n",
        "      <td>9</td>\n",
        "      <td>NaN</td>\n",
        "      <td>NaN</td>\n",
        "    </tr>\n",
        "    <tr>\n",
        "      <th>92</th>\n",
        "      <td>7</td>\n",
        "      <td>9</td>\n",
        "      <td>NaN</td>\n",
        "    </tr>\n",
        "    <tr>\n",
        "      <th>93</th>\n",
        "      <td>8</td>\n",
        "      <td>13</td>\n",
        "      <td>10</td>\n",
        "    </tr>\n",
        "    <tr>\n",
        "      <th>94</th>\n",
        "      <td>9</td>\n",
        "      <td>5</td>\n",
        "      <td>12</td>\n",
        "    </tr>\n",
        "    <tr>\n",
        "      <th>95</th>\n",
        "      <td>11</td>\n",
        "      <td>NaN</td>\n",
        "      <td>13</td>\n",
        "    </tr>\n",
        "  </tbody>\n",
        "</table>\n",
        "</div>"
       ],
       "metadata": {},
       "output_type": "pyout",
       "prompt_number": 103,
       "text": [
        "    Firm1  Firm2  Firm3\n",
        "90      8     14    NaN\n",
        "91      9    NaN    NaN\n",
        "92      7      9    NaN\n",
        "93      8     13     10\n",
        "94      9      5     12\n",
        "95     11    NaN     13"
       ]
      }
     ],
     "prompt_number": 103
    },
    {
     "cell_type": "code",
     "collapsed": false,
     "input": [
      "dft = df1.T\n",
      "dft\n",
      "del dft[90]\n",
      "dft\n"
     ],
     "language": "python",
     "metadata": {},
     "outputs": [
      {
       "html": [
        "<div style=\"max-width:1500px;overflow:auto;\">\n",
        "<table border=\"1\" class=\"dataframe\">\n",
        "  <thead>\n",
        "    <tr style=\"text-align: right;\">\n",
        "      <th></th>\n",
        "      <th>91</th>\n",
        "      <th>92</th>\n",
        "      <th>93</th>\n",
        "      <th>94</th>\n",
        "      <th>95</th>\n",
        "    </tr>\n",
        "  </thead>\n",
        "  <tbody>\n",
        "    <tr>\n",
        "      <th>Firm1</th>\n",
        "      <td>9</td>\n",
        "      <td>7</td>\n",
        "      <td>8</td>\n",
        "      <td>9</td>\n",
        "      <td>11</td>\n",
        "    </tr>\n",
        "    <tr>\n",
        "      <th>Firm2</th>\n",
        "      <td>NaN</td>\n",
        "      <td>9</td>\n",
        "      <td>13</td>\n",
        "      <td>5</td>\n",
        "      <td>NaN</td>\n",
        "    </tr>\n",
        "    <tr>\n",
        "      <th>Firm3</th>\n",
        "      <td>NaN</td>\n",
        "      <td>NaN</td>\n",
        "      <td>10</td>\n",
        "      <td>12</td>\n",
        "      <td>13</td>\n",
        "    </tr>\n",
        "  </tbody>\n",
        "</table>\n",
        "</div>"
       ],
       "metadata": {},
       "output_type": "pyout",
       "prompt_number": 104,
       "text": [
        "       91  92  93  94  95\n",
        "Firm1   9   7   8   9  11\n",
        "Firm2 NaN   9  13   5 NaN\n",
        "Firm3 NaN NaN  10  12  13"
       ]
      }
     ],
     "prompt_number": 104
    },
    {
     "cell_type": "markdown",
     "metadata": {},
     "source": [
      "You can pass a number of data structures to DataFrame such as a ndarray, lists, dict, Series, and another DataFrame. You can also reindex to confirm to data to a new index. Reindexing is a powerful feature that allows you to access data in a number of different ways, and also to confirm data to some new time series or other index."
     ]
    },
    {
     "cell_type": "code",
     "collapsed": false,
     "input": [
      "reindexdf1 = df1.reindex([88,89,90,91,92,93,94,95,96,97,98])\n",
      "reindexdf1"
     ],
     "language": "python",
     "metadata": {},
     "outputs": [
      {
       "html": [
        "<div style=\"max-width:1500px;overflow:auto;\">\n",
        "<table border=\"1\" class=\"dataframe\">\n",
        "  <thead>\n",
        "    <tr style=\"text-align: right;\">\n",
        "      <th></th>\n",
        "      <th>Firm1</th>\n",
        "      <th>Firm2</th>\n",
        "      <th>Firm3</th>\n",
        "    </tr>\n",
        "  </thead>\n",
        "  <tbody>\n",
        "    <tr>\n",
        "      <th>88</th>\n",
        "      <td>NaN</td>\n",
        "      <td>NaN</td>\n",
        "      <td>NaN</td>\n",
        "    </tr>\n",
        "    <tr>\n",
        "      <th>89</th>\n",
        "      <td>NaN</td>\n",
        "      <td>NaN</td>\n",
        "      <td>NaN</td>\n",
        "    </tr>\n",
        "    <tr>\n",
        "      <th>90</th>\n",
        "      <td>8</td>\n",
        "      <td>14</td>\n",
        "      <td>NaN</td>\n",
        "    </tr>\n",
        "    <tr>\n",
        "      <th>91</th>\n",
        "      <td>9</td>\n",
        "      <td>NaN</td>\n",
        "      <td>NaN</td>\n",
        "    </tr>\n",
        "    <tr>\n",
        "      <th>92</th>\n",
        "      <td>7</td>\n",
        "      <td>9</td>\n",
        "      <td>NaN</td>\n",
        "    </tr>\n",
        "    <tr>\n",
        "      <th>93</th>\n",
        "      <td>8</td>\n",
        "      <td>13</td>\n",
        "      <td>10</td>\n",
        "    </tr>\n",
        "    <tr>\n",
        "      <th>94</th>\n",
        "      <td>9</td>\n",
        "      <td>5</td>\n",
        "      <td>12</td>\n",
        "    </tr>\n",
        "    <tr>\n",
        "      <th>95</th>\n",
        "      <td>11</td>\n",
        "      <td>NaN</td>\n",
        "      <td>13</td>\n",
        "    </tr>\n",
        "    <tr>\n",
        "      <th>96</th>\n",
        "      <td>NaN</td>\n",
        "      <td>NaN</td>\n",
        "      <td>NaN</td>\n",
        "    </tr>\n",
        "    <tr>\n",
        "      <th>97</th>\n",
        "      <td>NaN</td>\n",
        "      <td>NaN</td>\n",
        "      <td>NaN</td>\n",
        "    </tr>\n",
        "    <tr>\n",
        "      <th>98</th>\n",
        "      <td>NaN</td>\n",
        "      <td>NaN</td>\n",
        "      <td>NaN</td>\n",
        "    </tr>\n",
        "  </tbody>\n",
        "</table>\n",
        "</div>"
       ],
       "metadata": {},
       "output_type": "pyout",
       "prompt_number": 105,
       "text": [
        "    Firm1  Firm2  Firm3\n",
        "88    NaN    NaN    NaN\n",
        "89    NaN    NaN    NaN\n",
        "90      8     14    NaN\n",
        "91      9    NaN    NaN\n",
        "92      7      9    NaN\n",
        "93      8     13     10\n",
        "94      9      5     12\n",
        "95     11    NaN     13\n",
        "96    NaN    NaN    NaN\n",
        "97    NaN    NaN    NaN\n",
        "98    NaN    NaN    NaN"
       ]
      }
     ],
     "prompt_number": 105
    },
    {
     "cell_type": "code",
     "collapsed": false,
     "input": [
      "reindexdf1 = df1.reindex(arange(1988,2008))\n",
      "reindexdf1"
     ],
     "language": "python",
     "metadata": {},
     "outputs": [
      {
       "html": [
        "<div style=\"max-width:1500px;overflow:auto;\">\n",
        "<table border=\"1\" class=\"dataframe\">\n",
        "  <thead>\n",
        "    <tr style=\"text-align: right;\">\n",
        "      <th></th>\n",
        "      <th>Firm1</th>\n",
        "      <th>Firm2</th>\n",
        "      <th>Firm3</th>\n",
        "    </tr>\n",
        "  </thead>\n",
        "  <tbody>\n",
        "    <tr>\n",
        "      <th>1988</th>\n",
        "      <td>NaN</td>\n",
        "      <td>NaN</td>\n",
        "      <td>NaN</td>\n",
        "    </tr>\n",
        "    <tr>\n",
        "      <th>1989</th>\n",
        "      <td>NaN</td>\n",
        "      <td>NaN</td>\n",
        "      <td>NaN</td>\n",
        "    </tr>\n",
        "    <tr>\n",
        "      <th>1990</th>\n",
        "      <td>NaN</td>\n",
        "      <td>NaN</td>\n",
        "      <td>NaN</td>\n",
        "    </tr>\n",
        "    <tr>\n",
        "      <th>1991</th>\n",
        "      <td>NaN</td>\n",
        "      <td>NaN</td>\n",
        "      <td>NaN</td>\n",
        "    </tr>\n",
        "    <tr>\n",
        "      <th>1992</th>\n",
        "      <td>NaN</td>\n",
        "      <td>NaN</td>\n",
        "      <td>NaN</td>\n",
        "    </tr>\n",
        "    <tr>\n",
        "      <th>1993</th>\n",
        "      <td>NaN</td>\n",
        "      <td>NaN</td>\n",
        "      <td>NaN</td>\n",
        "    </tr>\n",
        "    <tr>\n",
        "      <th>1994</th>\n",
        "      <td>NaN</td>\n",
        "      <td>NaN</td>\n",
        "      <td>NaN</td>\n",
        "    </tr>\n",
        "    <tr>\n",
        "      <th>1995</th>\n",
        "      <td>NaN</td>\n",
        "      <td>NaN</td>\n",
        "      <td>NaN</td>\n",
        "    </tr>\n",
        "    <tr>\n",
        "      <th>1996</th>\n",
        "      <td>NaN</td>\n",
        "      <td>NaN</td>\n",
        "      <td>NaN</td>\n",
        "    </tr>\n",
        "    <tr>\n",
        "      <th>1997</th>\n",
        "      <td>NaN</td>\n",
        "      <td>NaN</td>\n",
        "      <td>NaN</td>\n",
        "    </tr>\n",
        "    <tr>\n",
        "      <th>1998</th>\n",
        "      <td>NaN</td>\n",
        "      <td>NaN</td>\n",
        "      <td>NaN</td>\n",
        "    </tr>\n",
        "    <tr>\n",
        "      <th>1999</th>\n",
        "      <td>NaN</td>\n",
        "      <td>NaN</td>\n",
        "      <td>NaN</td>\n",
        "    </tr>\n",
        "    <tr>\n",
        "      <th>2000</th>\n",
        "      <td>NaN</td>\n",
        "      <td>NaN</td>\n",
        "      <td>NaN</td>\n",
        "    </tr>\n",
        "    <tr>\n",
        "      <th>2001</th>\n",
        "      <td>NaN</td>\n",
        "      <td>NaN</td>\n",
        "      <td>NaN</td>\n",
        "    </tr>\n",
        "    <tr>\n",
        "      <th>2002</th>\n",
        "      <td>NaN</td>\n",
        "      <td>NaN</td>\n",
        "      <td>NaN</td>\n",
        "    </tr>\n",
        "    <tr>\n",
        "      <th>2003</th>\n",
        "      <td>NaN</td>\n",
        "      <td>NaN</td>\n",
        "      <td>NaN</td>\n",
        "    </tr>\n",
        "    <tr>\n",
        "      <th>2004</th>\n",
        "      <td>NaN</td>\n",
        "      <td>NaN</td>\n",
        "      <td>NaN</td>\n",
        "    </tr>\n",
        "    <tr>\n",
        "      <th>2005</th>\n",
        "      <td>NaN</td>\n",
        "      <td>NaN</td>\n",
        "      <td>NaN</td>\n",
        "    </tr>\n",
        "    <tr>\n",
        "      <th>2006</th>\n",
        "      <td>NaN</td>\n",
        "      <td>NaN</td>\n",
        "      <td>NaN</td>\n",
        "    </tr>\n",
        "    <tr>\n",
        "      <th>2007</th>\n",
        "      <td>NaN</td>\n",
        "      <td>NaN</td>\n",
        "      <td>NaN</td>\n",
        "    </tr>\n",
        "  </tbody>\n",
        "</table>\n",
        "</div>"
       ],
       "metadata": {},
       "output_type": "pyout",
       "prompt_number": 106,
       "text": [
        "      Firm1  Firm2  Firm3\n",
        "1988    NaN    NaN    NaN\n",
        "1989    NaN    NaN    NaN\n",
        "1990    NaN    NaN    NaN\n",
        "1991    NaN    NaN    NaN\n",
        "1992    NaN    NaN    NaN\n",
        "1993    NaN    NaN    NaN\n",
        "1994    NaN    NaN    NaN\n",
        "1995    NaN    NaN    NaN\n",
        "1996    NaN    NaN    NaN\n",
        "1997    NaN    NaN    NaN\n",
        "1998    NaN    NaN    NaN\n",
        "1999    NaN    NaN    NaN\n",
        "2000    NaN    NaN    NaN\n",
        "2001    NaN    NaN    NaN\n",
        "2002    NaN    NaN    NaN\n",
        "2003    NaN    NaN    NaN\n",
        "2004    NaN    NaN    NaN\n",
        "2005    NaN    NaN    NaN\n",
        "2006    NaN    NaN    NaN\n",
        "2007    NaN    NaN    NaN"
       ]
      }
     ],
     "prompt_number": 106
    },
    {
     "cell_type": "code",
     "collapsed": false,
     "input": [
      "years1 = [90, 91, 92, 93, 94, 95]\n",
      "f4 = {90:8, 91:9, 92:7, 93:8, 94:9, 95:11}\n",
      "firm4 = pd.Series(f4,index=years)\n",
      "f5 = {90:14,91:12, 92:9, 93:13, 94:5, 95:8}\n",
      "firm5 = pd.Series(f5,index=years)\n",
      "f6 = {90:8, 91: 9, 92:9,93:10, 94:12, 95: 13}\n",
      "firm6 = pd.Series(f6,index=years)\n",
      "df2 = pd.DataFrame(columns=['Firm1','Firm2','Firm3'],index=years1)\n",
      "df2.Firm1 = firm4\n",
      "df2.Firm2 = firm5\n",
      "df2.Firm3 = firm6\n",
      "df2\n"
     ],
     "language": "python",
     "metadata": {},
     "outputs": [
      {
       "html": [
        "<div style=\"max-width:1500px;overflow:auto;\">\n",
        "<table border=\"1\" class=\"dataframe\">\n",
        "  <thead>\n",
        "    <tr style=\"text-align: right;\">\n",
        "      <th></th>\n",
        "      <th>Firm1</th>\n",
        "      <th>Firm2</th>\n",
        "      <th>Firm3</th>\n",
        "    </tr>\n",
        "  </thead>\n",
        "  <tbody>\n",
        "    <tr>\n",
        "      <th>90</th>\n",
        "      <td>8</td>\n",
        "      <td>14</td>\n",
        "      <td>8</td>\n",
        "    </tr>\n",
        "    <tr>\n",
        "      <th>91</th>\n",
        "      <td>9</td>\n",
        "      <td>12</td>\n",
        "      <td>9</td>\n",
        "    </tr>\n",
        "    <tr>\n",
        "      <th>92</th>\n",
        "      <td>7</td>\n",
        "      <td>9</td>\n",
        "      <td>9</td>\n",
        "    </tr>\n",
        "    <tr>\n",
        "      <th>93</th>\n",
        "      <td>8</td>\n",
        "      <td>13</td>\n",
        "      <td>10</td>\n",
        "    </tr>\n",
        "    <tr>\n",
        "      <th>94</th>\n",
        "      <td>9</td>\n",
        "      <td>5</td>\n",
        "      <td>12</td>\n",
        "    </tr>\n",
        "    <tr>\n",
        "      <th>95</th>\n",
        "      <td>11</td>\n",
        "      <td>8</td>\n",
        "      <td>13</td>\n",
        "    </tr>\n",
        "  </tbody>\n",
        "</table>\n",
        "</div>"
       ],
       "metadata": {},
       "output_type": "pyout",
       "prompt_number": 107,
       "text": [
        "    Firm1  Firm2  Firm3\n",
        "90      8     14      8\n",
        "91      9     12      9\n",
        "92      7      9      9\n",
        "93      8     13     10\n",
        "94      9      5     12\n",
        "95     11      8     13"
       ]
      }
     ],
     "prompt_number": 107
    },
    {
     "cell_type": "code",
     "collapsed": false,
     "input": [
      "reindexdf2 = df2.reindex([88,89,90,91,92,93,94,95,96,97,98], fill_value=0)\n",
      "reindexdf2"
     ],
     "language": "python",
     "metadata": {},
     "outputs": [
      {
       "html": [
        "<div style=\"max-width:1500px;overflow:auto;\">\n",
        "<table border=\"1\" class=\"dataframe\">\n",
        "  <thead>\n",
        "    <tr style=\"text-align: right;\">\n",
        "      <th></th>\n",
        "      <th>Firm1</th>\n",
        "      <th>Firm2</th>\n",
        "      <th>Firm3</th>\n",
        "    </tr>\n",
        "  </thead>\n",
        "  <tbody>\n",
        "    <tr>\n",
        "      <th>88</th>\n",
        "      <td>0</td>\n",
        "      <td>0</td>\n",
        "      <td>0</td>\n",
        "    </tr>\n",
        "    <tr>\n",
        "      <th>89</th>\n",
        "      <td>0</td>\n",
        "      <td>0</td>\n",
        "      <td>0</td>\n",
        "    </tr>\n",
        "    <tr>\n",
        "      <th>90</th>\n",
        "      <td>8</td>\n",
        "      <td>14</td>\n",
        "      <td>8</td>\n",
        "    </tr>\n",
        "    <tr>\n",
        "      <th>91</th>\n",
        "      <td>9</td>\n",
        "      <td>12</td>\n",
        "      <td>9</td>\n",
        "    </tr>\n",
        "    <tr>\n",
        "      <th>92</th>\n",
        "      <td>7</td>\n",
        "      <td>9</td>\n",
        "      <td>9</td>\n",
        "    </tr>\n",
        "    <tr>\n",
        "      <th>93</th>\n",
        "      <td>8</td>\n",
        "      <td>13</td>\n",
        "      <td>10</td>\n",
        "    </tr>\n",
        "    <tr>\n",
        "      <th>94</th>\n",
        "      <td>9</td>\n",
        "      <td>5</td>\n",
        "      <td>12</td>\n",
        "    </tr>\n",
        "    <tr>\n",
        "      <th>95</th>\n",
        "      <td>11</td>\n",
        "      <td>8</td>\n",
        "      <td>13</td>\n",
        "    </tr>\n",
        "    <tr>\n",
        "      <th>96</th>\n",
        "      <td>0</td>\n",
        "      <td>0</td>\n",
        "      <td>0</td>\n",
        "    </tr>\n",
        "    <tr>\n",
        "      <th>97</th>\n",
        "      <td>0</td>\n",
        "      <td>0</td>\n",
        "      <td>0</td>\n",
        "    </tr>\n",
        "    <tr>\n",
        "      <th>98</th>\n",
        "      <td>0</td>\n",
        "      <td>0</td>\n",
        "      <td>0</td>\n",
        "    </tr>\n",
        "  </tbody>\n",
        "</table>\n",
        "</div>"
       ],
       "metadata": {},
       "output_type": "pyout",
       "prompt_number": 108,
       "text": [
        "    Firm1  Firm2  Firm3\n",
        "88      0      0      0\n",
        "89      0      0      0\n",
        "90      8     14      8\n",
        "91      9     12      9\n",
        "92      7      9      9\n",
        "93      8     13     10\n",
        "94      9      5     12\n",
        "95     11      8     13\n",
        "96      0      0      0\n",
        "97      0      0      0\n",
        "98      0      0      0"
       ]
      }
     ],
     "prompt_number": 108
    },
    {
     "cell_type": "markdown",
     "metadata": {},
     "source": [
      "Similarly, you have backfill (bfill) method to fill values backwards."
     ]
    },
    {
     "cell_type": "code",
     "collapsed": false,
     "input": [
      "df2"
     ],
     "language": "python",
     "metadata": {},
     "outputs": [
      {
       "html": [
        "<div style=\"max-width:1500px;overflow:auto;\">\n",
        "<table border=\"1\" class=\"dataframe\">\n",
        "  <thead>\n",
        "    <tr style=\"text-align: right;\">\n",
        "      <th></th>\n",
        "      <th>Firm1</th>\n",
        "      <th>Firm2</th>\n",
        "      <th>Firm3</th>\n",
        "    </tr>\n",
        "  </thead>\n",
        "  <tbody>\n",
        "    <tr>\n",
        "      <th>90</th>\n",
        "      <td>8</td>\n",
        "      <td>14</td>\n",
        "      <td>8</td>\n",
        "    </tr>\n",
        "    <tr>\n",
        "      <th>91</th>\n",
        "      <td>9</td>\n",
        "      <td>12</td>\n",
        "      <td>9</td>\n",
        "    </tr>\n",
        "    <tr>\n",
        "      <th>92</th>\n",
        "      <td>7</td>\n",
        "      <td>9</td>\n",
        "      <td>9</td>\n",
        "    </tr>\n",
        "    <tr>\n",
        "      <th>93</th>\n",
        "      <td>8</td>\n",
        "      <td>13</td>\n",
        "      <td>10</td>\n",
        "    </tr>\n",
        "    <tr>\n",
        "      <th>94</th>\n",
        "      <td>9</td>\n",
        "      <td>5</td>\n",
        "      <td>12</td>\n",
        "    </tr>\n",
        "    <tr>\n",
        "      <th>95</th>\n",
        "      <td>11</td>\n",
        "      <td>8</td>\n",
        "      <td>13</td>\n",
        "    </tr>\n",
        "  </tbody>\n",
        "</table>\n",
        "</div>"
       ],
       "metadata": {},
       "output_type": "pyout",
       "prompt_number": 109,
       "text": [
        "    Firm1  Firm2  Firm3\n",
        "90      8     14      8\n",
        "91      9     12      9\n",
        "92      7      9      9\n",
        "93      8     13     10\n",
        "94      9      5     12\n",
        "95     11      8     13"
       ]
      }
     ],
     "prompt_number": 109
    },
    {
     "cell_type": "code",
     "collapsed": false,
     "input": [
      "#ffill -> only fill the end values same as the last row and insert NaN for starting rows\n",
      "#Similarly we have bfill i.e backward fill\n",
      "\n",
      "reindexdf3 = df2.reindex([88,89,90,91,92,93,94,95,96,97,98], method='ffill')\n",
      "reindexdf3"
     ],
     "language": "python",
     "metadata": {},
     "outputs": [
      {
       "html": [
        "<div style=\"max-width:1500px;overflow:auto;\">\n",
        "<table border=\"1\" class=\"dataframe\">\n",
        "  <thead>\n",
        "    <tr style=\"text-align: right;\">\n",
        "      <th></th>\n",
        "      <th>Firm1</th>\n",
        "      <th>Firm2</th>\n",
        "      <th>Firm3</th>\n",
        "    </tr>\n",
        "  </thead>\n",
        "  <tbody>\n",
        "    <tr>\n",
        "      <th>88</th>\n",
        "      <td>NaN</td>\n",
        "      <td>NaN</td>\n",
        "      <td>NaN</td>\n",
        "    </tr>\n",
        "    <tr>\n",
        "      <th>89</th>\n",
        "      <td>NaN</td>\n",
        "      <td>NaN</td>\n",
        "      <td>NaN</td>\n",
        "    </tr>\n",
        "    <tr>\n",
        "      <th>90</th>\n",
        "      <td>8</td>\n",
        "      <td>14</td>\n",
        "      <td>8</td>\n",
        "    </tr>\n",
        "    <tr>\n",
        "      <th>91</th>\n",
        "      <td>9</td>\n",
        "      <td>12</td>\n",
        "      <td>9</td>\n",
        "    </tr>\n",
        "    <tr>\n",
        "      <th>92</th>\n",
        "      <td>7</td>\n",
        "      <td>9</td>\n",
        "      <td>9</td>\n",
        "    </tr>\n",
        "    <tr>\n",
        "      <th>93</th>\n",
        "      <td>8</td>\n",
        "      <td>13</td>\n",
        "      <td>10</td>\n",
        "    </tr>\n",
        "    <tr>\n",
        "      <th>94</th>\n",
        "      <td>9</td>\n",
        "      <td>5</td>\n",
        "      <td>12</td>\n",
        "    </tr>\n",
        "    <tr>\n",
        "      <th>95</th>\n",
        "      <td>11</td>\n",
        "      <td>8</td>\n",
        "      <td>13</td>\n",
        "    </tr>\n",
        "    <tr>\n",
        "      <th>96</th>\n",
        "      <td>11</td>\n",
        "      <td>8</td>\n",
        "      <td>13</td>\n",
        "    </tr>\n",
        "    <tr>\n",
        "      <th>97</th>\n",
        "      <td>11</td>\n",
        "      <td>8</td>\n",
        "      <td>13</td>\n",
        "    </tr>\n",
        "    <tr>\n",
        "      <th>98</th>\n",
        "      <td>11</td>\n",
        "      <td>8</td>\n",
        "      <td>13</td>\n",
        "    </tr>\n",
        "  </tbody>\n",
        "</table>\n",
        "</div>"
       ],
       "metadata": {},
       "output_type": "pyout",
       "prompt_number": 110,
       "text": [
        "    Firm1  Firm2  Firm3\n",
        "88    NaN    NaN    NaN\n",
        "89    NaN    NaN    NaN\n",
        "90      8     14      8\n",
        "91      9     12      9\n",
        "92      7      9      9\n",
        "93      8     13     10\n",
        "94      9      5     12\n",
        "95     11      8     13\n",
        "96     11      8     13\n",
        "97     11      8     13\n",
        "98     11      8     13"
       ]
      }
     ],
     "prompt_number": 110
    },
    {
     "cell_type": "code",
     "collapsed": false,
     "input": [
      "reindexdf1"
     ],
     "language": "python",
     "metadata": {},
     "outputs": [
      {
       "html": [
        "<div style=\"max-width:1500px;overflow:auto;\">\n",
        "<table border=\"1\" class=\"dataframe\">\n",
        "  <thead>\n",
        "    <tr style=\"text-align: right;\">\n",
        "      <th></th>\n",
        "      <th>Firm1</th>\n",
        "      <th>Firm2</th>\n",
        "      <th>Firm3</th>\n",
        "    </tr>\n",
        "  </thead>\n",
        "  <tbody>\n",
        "    <tr>\n",
        "      <th>1988</th>\n",
        "      <td>NaN</td>\n",
        "      <td>NaN</td>\n",
        "      <td>NaN</td>\n",
        "    </tr>\n",
        "    <tr>\n",
        "      <th>1989</th>\n",
        "      <td>NaN</td>\n",
        "      <td>NaN</td>\n",
        "      <td>NaN</td>\n",
        "    </tr>\n",
        "    <tr>\n",
        "      <th>1990</th>\n",
        "      <td>NaN</td>\n",
        "      <td>NaN</td>\n",
        "      <td>NaN</td>\n",
        "    </tr>\n",
        "    <tr>\n",
        "      <th>1991</th>\n",
        "      <td>NaN</td>\n",
        "      <td>NaN</td>\n",
        "      <td>NaN</td>\n",
        "    </tr>\n",
        "    <tr>\n",
        "      <th>1992</th>\n",
        "      <td>NaN</td>\n",
        "      <td>NaN</td>\n",
        "      <td>NaN</td>\n",
        "    </tr>\n",
        "    <tr>\n",
        "      <th>1993</th>\n",
        "      <td>NaN</td>\n",
        "      <td>NaN</td>\n",
        "      <td>NaN</td>\n",
        "    </tr>\n",
        "    <tr>\n",
        "      <th>1994</th>\n",
        "      <td>NaN</td>\n",
        "      <td>NaN</td>\n",
        "      <td>NaN</td>\n",
        "    </tr>\n",
        "    <tr>\n",
        "      <th>1995</th>\n",
        "      <td>NaN</td>\n",
        "      <td>NaN</td>\n",
        "      <td>NaN</td>\n",
        "    </tr>\n",
        "    <tr>\n",
        "      <th>1996</th>\n",
        "      <td>NaN</td>\n",
        "      <td>NaN</td>\n",
        "      <td>NaN</td>\n",
        "    </tr>\n",
        "    <tr>\n",
        "      <th>1997</th>\n",
        "      <td>NaN</td>\n",
        "      <td>NaN</td>\n",
        "      <td>NaN</td>\n",
        "    </tr>\n",
        "    <tr>\n",
        "      <th>1998</th>\n",
        "      <td>NaN</td>\n",
        "      <td>NaN</td>\n",
        "      <td>NaN</td>\n",
        "    </tr>\n",
        "    <tr>\n",
        "      <th>1999</th>\n",
        "      <td>NaN</td>\n",
        "      <td>NaN</td>\n",
        "      <td>NaN</td>\n",
        "    </tr>\n",
        "    <tr>\n",
        "      <th>2000</th>\n",
        "      <td>NaN</td>\n",
        "      <td>NaN</td>\n",
        "      <td>NaN</td>\n",
        "    </tr>\n",
        "    <tr>\n",
        "      <th>2001</th>\n",
        "      <td>NaN</td>\n",
        "      <td>NaN</td>\n",
        "      <td>NaN</td>\n",
        "    </tr>\n",
        "    <tr>\n",
        "      <th>2002</th>\n",
        "      <td>NaN</td>\n",
        "      <td>NaN</td>\n",
        "      <td>NaN</td>\n",
        "    </tr>\n",
        "    <tr>\n",
        "      <th>2003</th>\n",
        "      <td>NaN</td>\n",
        "      <td>NaN</td>\n",
        "      <td>NaN</td>\n",
        "    </tr>\n",
        "    <tr>\n",
        "      <th>2004</th>\n",
        "      <td>NaN</td>\n",
        "      <td>NaN</td>\n",
        "      <td>NaN</td>\n",
        "    </tr>\n",
        "    <tr>\n",
        "      <th>2005</th>\n",
        "      <td>NaN</td>\n",
        "      <td>NaN</td>\n",
        "      <td>NaN</td>\n",
        "    </tr>\n",
        "    <tr>\n",
        "      <th>2006</th>\n",
        "      <td>NaN</td>\n",
        "      <td>NaN</td>\n",
        "      <td>NaN</td>\n",
        "    </tr>\n",
        "    <tr>\n",
        "      <th>2007</th>\n",
        "      <td>NaN</td>\n",
        "      <td>NaN</td>\n",
        "      <td>NaN</td>\n",
        "    </tr>\n",
        "  </tbody>\n",
        "</table>\n",
        "</div>"
       ],
       "metadata": {},
       "output_type": "pyout",
       "prompt_number": 65,
       "text": [
        "      Firm1  Firm2  Firm3\n",
        "1988    NaN    NaN    NaN\n",
        "1989    NaN    NaN    NaN\n",
        "1990    NaN    NaN    NaN\n",
        "1991    NaN    NaN    NaN\n",
        "1992    NaN    NaN    NaN\n",
        "1993    NaN    NaN    NaN\n",
        "1994    NaN    NaN    NaN\n",
        "1995    NaN    NaN    NaN\n",
        "1996    NaN    NaN    NaN\n",
        "1997    NaN    NaN    NaN\n",
        "1998    NaN    NaN    NaN\n",
        "1999    NaN    NaN    NaN\n",
        "2000    NaN    NaN    NaN\n",
        "2001    NaN    NaN    NaN\n",
        "2002    NaN    NaN    NaN\n",
        "2003    NaN    NaN    NaN\n",
        "2004    NaN    NaN    NaN\n",
        "2005    NaN    NaN    NaN\n",
        "2006    NaN    NaN    NaN\n",
        "2007    NaN    NaN    NaN"
       ]
      }
     ],
     "prompt_number": 65
    },
    {
     "cell_type": "code",
     "collapsed": false,
     "input": [
      "reindexdf3"
     ],
     "language": "python",
     "metadata": {},
     "outputs": [
      {
       "html": [
        "<div style=\"max-width:1500px;overflow:auto;\">\n",
        "<table border=\"1\" class=\"dataframe\">\n",
        "  <thead>\n",
        "    <tr style=\"text-align: right;\">\n",
        "      <th></th>\n",
        "      <th>Firm1</th>\n",
        "      <th>Firm2</th>\n",
        "      <th>Firm3</th>\n",
        "    </tr>\n",
        "  </thead>\n",
        "  <tbody>\n",
        "    <tr>\n",
        "      <th>88</th>\n",
        "      <td>NaN</td>\n",
        "      <td>NaN</td>\n",
        "      <td>NaN</td>\n",
        "    </tr>\n",
        "    <tr>\n",
        "      <th>89</th>\n",
        "      <td>NaN</td>\n",
        "      <td>NaN</td>\n",
        "      <td>NaN</td>\n",
        "    </tr>\n",
        "    <tr>\n",
        "      <th>90</th>\n",
        "      <td>8</td>\n",
        "      <td>14</td>\n",
        "      <td>8</td>\n",
        "    </tr>\n",
        "    <tr>\n",
        "      <th>91</th>\n",
        "      <td>9</td>\n",
        "      <td>12</td>\n",
        "      <td>9</td>\n",
        "    </tr>\n",
        "    <tr>\n",
        "      <th>92</th>\n",
        "      <td>7</td>\n",
        "      <td>9</td>\n",
        "      <td>9</td>\n",
        "    </tr>\n",
        "    <tr>\n",
        "      <th>93</th>\n",
        "      <td>8</td>\n",
        "      <td>13</td>\n",
        "      <td>10</td>\n",
        "    </tr>\n",
        "    <tr>\n",
        "      <th>94</th>\n",
        "      <td>9</td>\n",
        "      <td>5</td>\n",
        "      <td>12</td>\n",
        "    </tr>\n",
        "    <tr>\n",
        "      <th>95</th>\n",
        "      <td>11</td>\n",
        "      <td>8</td>\n",
        "      <td>13</td>\n",
        "    </tr>\n",
        "    <tr>\n",
        "      <th>96</th>\n",
        "      <td>11</td>\n",
        "      <td>8</td>\n",
        "      <td>13</td>\n",
        "    </tr>\n",
        "    <tr>\n",
        "      <th>97</th>\n",
        "      <td>11</td>\n",
        "      <td>8</td>\n",
        "      <td>13</td>\n",
        "    </tr>\n",
        "    <tr>\n",
        "      <th>98</th>\n",
        "      <td>11</td>\n",
        "      <td>8</td>\n",
        "      <td>13</td>\n",
        "    </tr>\n",
        "  </tbody>\n",
        "</table>\n",
        "</div>"
       ],
       "metadata": {},
       "output_type": "pyout",
       "prompt_number": 111,
       "text": [
        "    Firm1  Firm2  Firm3\n",
        "88    NaN    NaN    NaN\n",
        "89    NaN    NaN    NaN\n",
        "90      8     14      8\n",
        "91      9     12      9\n",
        "92      7      9      9\n",
        "93      8     13     10\n",
        "94      9      5     12\n",
        "95     11      8     13\n",
        "96     11      8     13\n",
        "97     11      8     13\n",
        "98     11      8     13"
       ]
      }
     ],
     "prompt_number": 111
    },
    {
     "cell_type": "code",
     "collapsed": false,
     "input": [
      "reindexdf1+reindexdf3"
     ],
     "language": "python",
     "metadata": {},
     "outputs": [
      {
       "html": [
        "<div style=\"max-width:1500px;overflow:auto;\">\n",
        "<table border=\"1\" class=\"dataframe\">\n",
        "  <thead>\n",
        "    <tr style=\"text-align: right;\">\n",
        "      <th></th>\n",
        "      <th>Firm1</th>\n",
        "      <th>Firm2</th>\n",
        "      <th>Firm3</th>\n",
        "    </tr>\n",
        "  </thead>\n",
        "  <tbody>\n",
        "    <tr>\n",
        "      <th>88</th>\n",
        "      <td>NaN</td>\n",
        "      <td>NaN</td>\n",
        "      <td>NaN</td>\n",
        "    </tr>\n",
        "    <tr>\n",
        "      <th>89</th>\n",
        "      <td>NaN</td>\n",
        "      <td>NaN</td>\n",
        "      <td>NaN</td>\n",
        "    </tr>\n",
        "    <tr>\n",
        "      <th>90</th>\n",
        "      <td>NaN</td>\n",
        "      <td>NaN</td>\n",
        "      <td>NaN</td>\n",
        "    </tr>\n",
        "    <tr>\n",
        "      <th>91</th>\n",
        "      <td>NaN</td>\n",
        "      <td>NaN</td>\n",
        "      <td>NaN</td>\n",
        "    </tr>\n",
        "    <tr>\n",
        "      <th>92</th>\n",
        "      <td>NaN</td>\n",
        "      <td>NaN</td>\n",
        "      <td>NaN</td>\n",
        "    </tr>\n",
        "    <tr>\n",
        "      <th>93</th>\n",
        "      <td>NaN</td>\n",
        "      <td>NaN</td>\n",
        "      <td>NaN</td>\n",
        "    </tr>\n",
        "    <tr>\n",
        "      <th>94</th>\n",
        "      <td>NaN</td>\n",
        "      <td>NaN</td>\n",
        "      <td>NaN</td>\n",
        "    </tr>\n",
        "    <tr>\n",
        "      <th>95</th>\n",
        "      <td>NaN</td>\n",
        "      <td>NaN</td>\n",
        "      <td>NaN</td>\n",
        "    </tr>\n",
        "    <tr>\n",
        "      <th>96</th>\n",
        "      <td>NaN</td>\n",
        "      <td>NaN</td>\n",
        "      <td>NaN</td>\n",
        "    </tr>\n",
        "    <tr>\n",
        "      <th>97</th>\n",
        "      <td>NaN</td>\n",
        "      <td>NaN</td>\n",
        "      <td>NaN</td>\n",
        "    </tr>\n",
        "    <tr>\n",
        "      <th>98</th>\n",
        "      <td>NaN</td>\n",
        "      <td>NaN</td>\n",
        "      <td>NaN</td>\n",
        "    </tr>\n",
        "    <tr>\n",
        "      <th>1988</th>\n",
        "      <td>NaN</td>\n",
        "      <td>NaN</td>\n",
        "      <td>NaN</td>\n",
        "    </tr>\n",
        "    <tr>\n",
        "      <th>1989</th>\n",
        "      <td>NaN</td>\n",
        "      <td>NaN</td>\n",
        "      <td>NaN</td>\n",
        "    </tr>\n",
        "    <tr>\n",
        "      <th>1990</th>\n",
        "      <td>NaN</td>\n",
        "      <td>NaN</td>\n",
        "      <td>NaN</td>\n",
        "    </tr>\n",
        "    <tr>\n",
        "      <th>1991</th>\n",
        "      <td>NaN</td>\n",
        "      <td>NaN</td>\n",
        "      <td>NaN</td>\n",
        "    </tr>\n",
        "    <tr>\n",
        "      <th>1992</th>\n",
        "      <td>NaN</td>\n",
        "      <td>NaN</td>\n",
        "      <td>NaN</td>\n",
        "    </tr>\n",
        "    <tr>\n",
        "      <th>1993</th>\n",
        "      <td>NaN</td>\n",
        "      <td>NaN</td>\n",
        "      <td>NaN</td>\n",
        "    </tr>\n",
        "    <tr>\n",
        "      <th>1994</th>\n",
        "      <td>NaN</td>\n",
        "      <td>NaN</td>\n",
        "      <td>NaN</td>\n",
        "    </tr>\n",
        "    <tr>\n",
        "      <th>1995</th>\n",
        "      <td>NaN</td>\n",
        "      <td>NaN</td>\n",
        "      <td>NaN</td>\n",
        "    </tr>\n",
        "    <tr>\n",
        "      <th>1996</th>\n",
        "      <td>NaN</td>\n",
        "      <td>NaN</td>\n",
        "      <td>NaN</td>\n",
        "    </tr>\n",
        "    <tr>\n",
        "      <th>1997</th>\n",
        "      <td>NaN</td>\n",
        "      <td>NaN</td>\n",
        "      <td>NaN</td>\n",
        "    </tr>\n",
        "    <tr>\n",
        "      <th>1998</th>\n",
        "      <td>NaN</td>\n",
        "      <td>NaN</td>\n",
        "      <td>NaN</td>\n",
        "    </tr>\n",
        "    <tr>\n",
        "      <th>1999</th>\n",
        "      <td>NaN</td>\n",
        "      <td>NaN</td>\n",
        "      <td>NaN</td>\n",
        "    </tr>\n",
        "    <tr>\n",
        "      <th>2000</th>\n",
        "      <td>NaN</td>\n",
        "      <td>NaN</td>\n",
        "      <td>NaN</td>\n",
        "    </tr>\n",
        "    <tr>\n",
        "      <th>2001</th>\n",
        "      <td>NaN</td>\n",
        "      <td>NaN</td>\n",
        "      <td>NaN</td>\n",
        "    </tr>\n",
        "    <tr>\n",
        "      <th>2002</th>\n",
        "      <td>NaN</td>\n",
        "      <td>NaN</td>\n",
        "      <td>NaN</td>\n",
        "    </tr>\n",
        "    <tr>\n",
        "      <th>2003</th>\n",
        "      <td>NaN</td>\n",
        "      <td>NaN</td>\n",
        "      <td>NaN</td>\n",
        "    </tr>\n",
        "    <tr>\n",
        "      <th>2004</th>\n",
        "      <td>NaN</td>\n",
        "      <td>NaN</td>\n",
        "      <td>NaN</td>\n",
        "    </tr>\n",
        "    <tr>\n",
        "      <th>2005</th>\n",
        "      <td>NaN</td>\n",
        "      <td>NaN</td>\n",
        "      <td>NaN</td>\n",
        "    </tr>\n",
        "    <tr>\n",
        "      <th>2006</th>\n",
        "      <td>NaN</td>\n",
        "      <td>NaN</td>\n",
        "      <td>NaN</td>\n",
        "    </tr>\n",
        "    <tr>\n",
        "      <th>2007</th>\n",
        "      <td>NaN</td>\n",
        "      <td>NaN</td>\n",
        "      <td>NaN</td>\n",
        "    </tr>\n",
        "  </tbody>\n",
        "</table>\n",
        "</div>"
       ],
       "metadata": {},
       "output_type": "pyout",
       "prompt_number": 112,
       "text": [
        "      Firm1  Firm2  Firm3\n",
        "88      NaN    NaN    NaN\n",
        "89      NaN    NaN    NaN\n",
        "90      NaN    NaN    NaN\n",
        "91      NaN    NaN    NaN\n",
        "92      NaN    NaN    NaN\n",
        "93      NaN    NaN    NaN\n",
        "94      NaN    NaN    NaN\n",
        "95      NaN    NaN    NaN\n",
        "96      NaN    NaN    NaN\n",
        "97      NaN    NaN    NaN\n",
        "98      NaN    NaN    NaN\n",
        "1988    NaN    NaN    NaN\n",
        "1989    NaN    NaN    NaN\n",
        "1990    NaN    NaN    NaN\n",
        "1991    NaN    NaN    NaN\n",
        "1992    NaN    NaN    NaN\n",
        "1993    NaN    NaN    NaN\n",
        "1994    NaN    NaN    NaN\n",
        "1995    NaN    NaN    NaN\n",
        "1996    NaN    NaN    NaN\n",
        "1997    NaN    NaN    NaN\n",
        "1998    NaN    NaN    NaN\n",
        "1999    NaN    NaN    NaN\n",
        "2000    NaN    NaN    NaN\n",
        "2001    NaN    NaN    NaN\n",
        "2002    NaN    NaN    NaN\n",
        "2003    NaN    NaN    NaN\n",
        "2004    NaN    NaN    NaN\n",
        "2005    NaN    NaN    NaN\n",
        "2006    NaN    NaN    NaN\n",
        "2007    NaN    NaN    NaN"
       ]
      }
     ],
     "prompt_number": 112
    },
    {
     "cell_type": "code",
     "collapsed": false,
     "input": [
      "reindexdf1.add(reindexdf3, fill_value=0)  #df.add(df) ignores NaN values"
     ],
     "language": "python",
     "metadata": {},
     "outputs": [
      {
       "html": [
        "<div style=\"max-width:1500px;overflow:auto;\">\n",
        "<table border=\"1\" class=\"dataframe\">\n",
        "  <thead>\n",
        "    <tr style=\"text-align: right;\">\n",
        "      <th></th>\n",
        "      <th>Firm1</th>\n",
        "      <th>Firm2</th>\n",
        "      <th>Firm3</th>\n",
        "    </tr>\n",
        "  </thead>\n",
        "  <tbody>\n",
        "    <tr>\n",
        "      <th>88</th>\n",
        "      <td>NaN</td>\n",
        "      <td>NaN</td>\n",
        "      <td>NaN</td>\n",
        "    </tr>\n",
        "    <tr>\n",
        "      <th>89</th>\n",
        "      <td>NaN</td>\n",
        "      <td>NaN</td>\n",
        "      <td>NaN</td>\n",
        "    </tr>\n",
        "    <tr>\n",
        "      <th>90</th>\n",
        "      <td>8</td>\n",
        "      <td>14</td>\n",
        "      <td>8</td>\n",
        "    </tr>\n",
        "    <tr>\n",
        "      <th>91</th>\n",
        "      <td>9</td>\n",
        "      <td>12</td>\n",
        "      <td>9</td>\n",
        "    </tr>\n",
        "    <tr>\n",
        "      <th>92</th>\n",
        "      <td>7</td>\n",
        "      <td>9</td>\n",
        "      <td>9</td>\n",
        "    </tr>\n",
        "    <tr>\n",
        "      <th>93</th>\n",
        "      <td>8</td>\n",
        "      <td>13</td>\n",
        "      <td>10</td>\n",
        "    </tr>\n",
        "    <tr>\n",
        "      <th>94</th>\n",
        "      <td>9</td>\n",
        "      <td>5</td>\n",
        "      <td>12</td>\n",
        "    </tr>\n",
        "    <tr>\n",
        "      <th>95</th>\n",
        "      <td>11</td>\n",
        "      <td>8</td>\n",
        "      <td>13</td>\n",
        "    </tr>\n",
        "    <tr>\n",
        "      <th>96</th>\n",
        "      <td>11</td>\n",
        "      <td>8</td>\n",
        "      <td>13</td>\n",
        "    </tr>\n",
        "    <tr>\n",
        "      <th>97</th>\n",
        "      <td>11</td>\n",
        "      <td>8</td>\n",
        "      <td>13</td>\n",
        "    </tr>\n",
        "    <tr>\n",
        "      <th>98</th>\n",
        "      <td>11</td>\n",
        "      <td>8</td>\n",
        "      <td>13</td>\n",
        "    </tr>\n",
        "    <tr>\n",
        "      <th>1988</th>\n",
        "      <td>NaN</td>\n",
        "      <td>NaN</td>\n",
        "      <td>NaN</td>\n",
        "    </tr>\n",
        "    <tr>\n",
        "      <th>1989</th>\n",
        "      <td>NaN</td>\n",
        "      <td>NaN</td>\n",
        "      <td>NaN</td>\n",
        "    </tr>\n",
        "    <tr>\n",
        "      <th>1990</th>\n",
        "      <td>NaN</td>\n",
        "      <td>NaN</td>\n",
        "      <td>NaN</td>\n",
        "    </tr>\n",
        "    <tr>\n",
        "      <th>1991</th>\n",
        "      <td>NaN</td>\n",
        "      <td>NaN</td>\n",
        "      <td>NaN</td>\n",
        "    </tr>\n",
        "    <tr>\n",
        "      <th>1992</th>\n",
        "      <td>NaN</td>\n",
        "      <td>NaN</td>\n",
        "      <td>NaN</td>\n",
        "    </tr>\n",
        "    <tr>\n",
        "      <th>1993</th>\n",
        "      <td>NaN</td>\n",
        "      <td>NaN</td>\n",
        "      <td>NaN</td>\n",
        "    </tr>\n",
        "    <tr>\n",
        "      <th>1994</th>\n",
        "      <td>NaN</td>\n",
        "      <td>NaN</td>\n",
        "      <td>NaN</td>\n",
        "    </tr>\n",
        "    <tr>\n",
        "      <th>1995</th>\n",
        "      <td>NaN</td>\n",
        "      <td>NaN</td>\n",
        "      <td>NaN</td>\n",
        "    </tr>\n",
        "    <tr>\n",
        "      <th>1996</th>\n",
        "      <td>NaN</td>\n",
        "      <td>NaN</td>\n",
        "      <td>NaN</td>\n",
        "    </tr>\n",
        "    <tr>\n",
        "      <th>1997</th>\n",
        "      <td>NaN</td>\n",
        "      <td>NaN</td>\n",
        "      <td>NaN</td>\n",
        "    </tr>\n",
        "    <tr>\n",
        "      <th>1998</th>\n",
        "      <td>NaN</td>\n",
        "      <td>NaN</td>\n",
        "      <td>NaN</td>\n",
        "    </tr>\n",
        "    <tr>\n",
        "      <th>1999</th>\n",
        "      <td>NaN</td>\n",
        "      <td>NaN</td>\n",
        "      <td>NaN</td>\n",
        "    </tr>\n",
        "    <tr>\n",
        "      <th>2000</th>\n",
        "      <td>NaN</td>\n",
        "      <td>NaN</td>\n",
        "      <td>NaN</td>\n",
        "    </tr>\n",
        "    <tr>\n",
        "      <th>2001</th>\n",
        "      <td>NaN</td>\n",
        "      <td>NaN</td>\n",
        "      <td>NaN</td>\n",
        "    </tr>\n",
        "    <tr>\n",
        "      <th>2002</th>\n",
        "      <td>NaN</td>\n",
        "      <td>NaN</td>\n",
        "      <td>NaN</td>\n",
        "    </tr>\n",
        "    <tr>\n",
        "      <th>2003</th>\n",
        "      <td>NaN</td>\n",
        "      <td>NaN</td>\n",
        "      <td>NaN</td>\n",
        "    </tr>\n",
        "    <tr>\n",
        "      <th>2004</th>\n",
        "      <td>NaN</td>\n",
        "      <td>NaN</td>\n",
        "      <td>NaN</td>\n",
        "    </tr>\n",
        "    <tr>\n",
        "      <th>2005</th>\n",
        "      <td>NaN</td>\n",
        "      <td>NaN</td>\n",
        "      <td>NaN</td>\n",
        "    </tr>\n",
        "    <tr>\n",
        "      <th>2006</th>\n",
        "      <td>NaN</td>\n",
        "      <td>NaN</td>\n",
        "      <td>NaN</td>\n",
        "    </tr>\n",
        "    <tr>\n",
        "      <th>2007</th>\n",
        "      <td>NaN</td>\n",
        "      <td>NaN</td>\n",
        "      <td>NaN</td>\n",
        "    </tr>\n",
        "  </tbody>\n",
        "</table>\n",
        "</div>"
       ],
       "metadata": {},
       "output_type": "pyout",
       "prompt_number": 113,
       "text": [
        "      Firm1  Firm2  Firm3\n",
        "88      NaN    NaN    NaN\n",
        "89      NaN    NaN    NaN\n",
        "90        8     14      8\n",
        "91        9     12      9\n",
        "92        7      9      9\n",
        "93        8     13     10\n",
        "94        9      5     12\n",
        "95       11      8     13\n",
        "96       11      8     13\n",
        "97       11      8     13\n",
        "98       11      8     13\n",
        "1988    NaN    NaN    NaN\n",
        "1989    NaN    NaN    NaN\n",
        "1990    NaN    NaN    NaN\n",
        "1991    NaN    NaN    NaN\n",
        "1992    NaN    NaN    NaN\n",
        "1993    NaN    NaN    NaN\n",
        "1994    NaN    NaN    NaN\n",
        "1995    NaN    NaN    NaN\n",
        "1996    NaN    NaN    NaN\n",
        "1997    NaN    NaN    NaN\n",
        "1998    NaN    NaN    NaN\n",
        "1999    NaN    NaN    NaN\n",
        "2000    NaN    NaN    NaN\n",
        "2001    NaN    NaN    NaN\n",
        "2002    NaN    NaN    NaN\n",
        "2003    NaN    NaN    NaN\n",
        "2004    NaN    NaN    NaN\n",
        "2005    NaN    NaN    NaN\n",
        "2006    NaN    NaN    NaN\n",
        "2007    NaN    NaN    NaN"
       ]
      }
     ],
     "prompt_number": 113
    },
    {
     "cell_type": "markdown",
     "metadata": {},
     "source": [
      "**You can use NumPy functions inside DataFrame objects.**"
     ]
    },
    {
     "cell_type": "code",
     "collapsed": false,
     "input": [
      "dataframe = pd.DataFrame(np.random.randn(3,4),columns=['one','two','three','four'])  #randn->normal distribution\n",
      "dataframe"
     ],
     "language": "python",
     "metadata": {},
     "outputs": [
      {
       "html": [
        "<div style=\"max-width:1500px;overflow:auto;\">\n",
        "<table border=\"1\" class=\"dataframe\">\n",
        "  <thead>\n",
        "    <tr style=\"text-align: right;\">\n",
        "      <th></th>\n",
        "      <th>one</th>\n",
        "      <th>two</th>\n",
        "      <th>three</th>\n",
        "      <th>four</th>\n",
        "    </tr>\n",
        "  </thead>\n",
        "  <tbody>\n",
        "    <tr>\n",
        "      <th>0</th>\n",
        "      <td>-0.842670</td>\n",
        "      <td>-0.795013</td>\n",
        "      <td>-2.020272</td>\n",
        "      <td>-0.071851</td>\n",
        "    </tr>\n",
        "    <tr>\n",
        "      <th>1</th>\n",
        "      <td>-0.134437</td>\n",
        "      <td>-0.185907</td>\n",
        "      <td>-1.539793</td>\n",
        "      <td>-1.841198</td>\n",
        "    </tr>\n",
        "    <tr>\n",
        "      <th>2</th>\n",
        "      <td>-0.188380</td>\n",
        "      <td>0.201376</td>\n",
        "      <td>0.494234</td>\n",
        "      <td>-1.027759</td>\n",
        "    </tr>\n",
        "  </tbody>\n",
        "</table>\n",
        "</div>"
       ],
       "metadata": {},
       "output_type": "pyout",
       "prompt_number": 120,
       "text": [
        "        one       two     three      four\n",
        "0 -0.842670 -0.795013 -2.020272 -0.071851\n",
        "1 -0.134437 -0.185907 -1.539793 -1.841198\n",
        "2 -0.188380  0.201376  0.494234 -1.027759"
       ]
      }
     ],
     "prompt_number": 120
    },
    {
     "cell_type": "code",
     "collapsed": false,
     "input": [
      "np.abs(dataframe)"
     ],
     "language": "python",
     "metadata": {},
     "outputs": [
      {
       "html": [
        "<div style=\"max-width:1500px;overflow:auto;\">\n",
        "<table border=\"1\" class=\"dataframe\">\n",
        "  <thead>\n",
        "    <tr style=\"text-align: right;\">\n",
        "      <th></th>\n",
        "      <th>one</th>\n",
        "      <th>two</th>\n",
        "      <th>three</th>\n",
        "      <th>four</th>\n",
        "    </tr>\n",
        "  </thead>\n",
        "  <tbody>\n",
        "    <tr>\n",
        "      <th>0</th>\n",
        "      <td>0.842670</td>\n",
        "      <td>0.795013</td>\n",
        "      <td>2.020272</td>\n",
        "      <td>0.071851</td>\n",
        "    </tr>\n",
        "    <tr>\n",
        "      <th>1</th>\n",
        "      <td>0.134437</td>\n",
        "      <td>0.185907</td>\n",
        "      <td>1.539793</td>\n",
        "      <td>1.841198</td>\n",
        "    </tr>\n",
        "    <tr>\n",
        "      <th>2</th>\n",
        "      <td>0.188380</td>\n",
        "      <td>0.201376</td>\n",
        "      <td>0.494234</td>\n",
        "      <td>1.027759</td>\n",
        "    </tr>\n",
        "  </tbody>\n",
        "</table>\n",
        "</div>"
       ],
       "metadata": {},
       "output_type": "pyout",
       "prompt_number": 121,
       "text": [
        "        one       two     three      four\n",
        "0  0.842670  0.795013  2.020272  0.071851\n",
        "1  0.134437  0.185907  1.539793  1.841198\n",
        "2  0.188380  0.201376  0.494234  1.027759"
       ]
      }
     ],
     "prompt_number": 121
    },
    {
     "cell_type": "code",
     "collapsed": false,
     "input": [
      "f = lambda x:x.max()-x.min()\n",
      "dataframe.apply(f)"
     ],
     "language": "python",
     "metadata": {},
     "outputs": [
      {
       "metadata": {},
       "output_type": "pyout",
       "prompt_number": 122,
       "text": [
        "one      0.708234\n",
        "two      0.996389\n",
        "three    2.514505\n",
        "four     1.769347\n",
        "dtype: float64"
       ]
      }
     ],
     "prompt_number": 122
    },
    {
     "cell_type": "code",
     "collapsed": false,
     "input": [
      "dataframe   #remains unchanged"
     ],
     "language": "python",
     "metadata": {},
     "outputs": [
      {
       "html": [
        "<div style=\"max-width:1500px;overflow:auto;\">\n",
        "<table border=\"1\" class=\"dataframe\">\n",
        "  <thead>\n",
        "    <tr style=\"text-align: right;\">\n",
        "      <th></th>\n",
        "      <th>one</th>\n",
        "      <th>two</th>\n",
        "      <th>three</th>\n",
        "      <th>four</th>\n",
        "    </tr>\n",
        "  </thead>\n",
        "  <tbody>\n",
        "    <tr>\n",
        "      <th>0</th>\n",
        "      <td>-0.842670</td>\n",
        "      <td>-0.795013</td>\n",
        "      <td>-2.020272</td>\n",
        "      <td>-0.071851</td>\n",
        "    </tr>\n",
        "    <tr>\n",
        "      <th>1</th>\n",
        "      <td>-0.134437</td>\n",
        "      <td>-0.185907</td>\n",
        "      <td>-1.539793</td>\n",
        "      <td>-1.841198</td>\n",
        "    </tr>\n",
        "    <tr>\n",
        "      <th>2</th>\n",
        "      <td>-0.188380</td>\n",
        "      <td>0.201376</td>\n",
        "      <td>0.494234</td>\n",
        "      <td>-1.027759</td>\n",
        "    </tr>\n",
        "  </tbody>\n",
        "</table>\n",
        "</div>"
       ],
       "metadata": {},
       "output_type": "pyout",
       "prompt_number": 124,
       "text": [
        "        one       two     three      four\n",
        "0 -0.842670 -0.795013 -2.020272 -0.071851\n",
        "1 -0.134437 -0.185907 -1.539793 -1.841198\n",
        "2 -0.188380  0.201376  0.494234 -1.027759"
       ]
      }
     ],
     "prompt_number": 124
    },
    {
     "cell_type": "code",
     "collapsed": false,
     "input": [
      "dataframe.apply(f,axis=0)  #axis=0 =>column,axis=1 =>row  (default is column)"
     ],
     "language": "python",
     "metadata": {},
     "outputs": [
      {
       "metadata": {},
       "output_type": "pyout",
       "prompt_number": 126,
       "text": [
        "one      0.708234\n",
        "two      0.996389\n",
        "three    2.514505\n",
        "four     1.769347\n",
        "dtype: float64"
       ]
      }
     ],
     "prompt_number": 126
    },
    {
     "cell_type": "code",
     "collapsed": false,
     "input": [
      "g = lambda x: x - mean(x)   #performed on each cell by default , hence lambda a very powerful function\n",
      "dataframe.apply(g)"
     ],
     "language": "python",
     "metadata": {},
     "outputs": [
      {
       "html": [
        "<div style=\"max-width:1500px;overflow:auto;\">\n",
        "<table border=\"1\" class=\"dataframe\">\n",
        "  <thead>\n",
        "    <tr style=\"text-align: right;\">\n",
        "      <th></th>\n",
        "      <th>one</th>\n",
        "      <th>two</th>\n",
        "      <th>three</th>\n",
        "      <th>four</th>\n",
        "    </tr>\n",
        "  </thead>\n",
        "  <tbody>\n",
        "    <tr>\n",
        "      <th>0</th>\n",
        "      <td>-0.454175</td>\n",
        "      <td>-0.535165</td>\n",
        "      <td>-0.998328</td>\n",
        "      <td>0.908418</td>\n",
        "    </tr>\n",
        "    <tr>\n",
        "      <th>1</th>\n",
        "      <td>0.254059</td>\n",
        "      <td>0.073941</td>\n",
        "      <td>-0.517849</td>\n",
        "      <td>-0.860929</td>\n",
        "    </tr>\n",
        "    <tr>\n",
        "      <th>2</th>\n",
        "      <td>0.200116</td>\n",
        "      <td>0.461224</td>\n",
        "      <td>1.516177</td>\n",
        "      <td>-0.047489</td>\n",
        "    </tr>\n",
        "  </tbody>\n",
        "</table>\n",
        "</div>"
       ],
       "metadata": {},
       "output_type": "pyout",
       "prompt_number": 127,
       "text": [
        "        one       two     three      four\n",
        "0 -0.454175 -0.535165 -0.998328  0.908418\n",
        "1  0.254059  0.073941 -0.517849 -0.860929\n",
        "2  0.200116  0.461224  1.516177 -0.047489"
       ]
      }
     ],
     "prompt_number": 127
    },
    {
     "cell_type": "code",
     "collapsed": false,
     "input": [
      "def f(x):\n",
      "    return pd.Series([mean(x), x.max(), x.min()], index=['mean','max','min'])\n",
      "dataframe_stats = dataframe.apply(f,axis=1)\n",
      "print(dataframe_stats)"
     ],
     "language": "python",
     "metadata": {},
     "outputs": [
      {
       "output_type": "stream",
       "stream": "stdout",
       "text": [
        "       mean       max       min\n",
        "0 -0.932452 -0.071851 -2.020272\n",
        "1 -0.925334 -0.134437 -1.841198\n",
        "2 -0.130132  0.494234 -1.027759\n"
       ]
      }
     ],
     "prompt_number": 130
    },
    {
     "cell_type": "code",
     "collapsed": false,
     "input": [
      "dataframe = pd.DataFrame(np.random.randn(3,3),columns=['one','two','three'])\n",
      "dataframe"
     ],
     "language": "python",
     "metadata": {},
     "outputs": [
      {
       "html": [
        "<div style=\"max-width:1500px;overflow:auto;\">\n",
        "<table border=\"1\" class=\"dataframe\">\n",
        "  <thead>\n",
        "    <tr style=\"text-align: right;\">\n",
        "      <th></th>\n",
        "      <th>one</th>\n",
        "      <th>two</th>\n",
        "      <th>three</th>\n",
        "    </tr>\n",
        "  </thead>\n",
        "  <tbody>\n",
        "    <tr>\n",
        "      <th>0</th>\n",
        "      <td>-0.251640</td>\n",
        "      <td>1.312742</td>\n",
        "      <td>1.642495</td>\n",
        "    </tr>\n",
        "    <tr>\n",
        "      <th>1</th>\n",
        "      <td>-1.413334</td>\n",
        "      <td>-1.341377</td>\n",
        "      <td>-0.614677</td>\n",
        "    </tr>\n",
        "    <tr>\n",
        "      <th>2</th>\n",
        "      <td>0.764090</td>\n",
        "      <td>-0.978733</td>\n",
        "      <td>0.541567</td>\n",
        "    </tr>\n",
        "  </tbody>\n",
        "</table>\n",
        "</div>"
       ],
       "metadata": {},
       "output_type": "pyout",
       "prompt_number": 131,
       "text": [
        "        one       two     three\n",
        "0 -0.251640  1.312742  1.642495\n",
        "1 -1.413334 -1.341377 -0.614677\n",
        "2  0.764090 -0.978733  0.541567"
       ]
      }
     ],
     "prompt_number": 131
    },
    {
     "cell_type": "code",
     "collapsed": false,
     "input": [
      "dataframe.sort_index(by='one')"
     ],
     "language": "python",
     "metadata": {},
     "outputs": [
      {
       "html": [
        "<div style=\"max-width:1500px;overflow:auto;\">\n",
        "<table border=\"1\" class=\"dataframe\">\n",
        "  <thead>\n",
        "    <tr style=\"text-align: right;\">\n",
        "      <th></th>\n",
        "      <th>one</th>\n",
        "      <th>two</th>\n",
        "      <th>three</th>\n",
        "    </tr>\n",
        "  </thead>\n",
        "  <tbody>\n",
        "    <tr>\n",
        "      <th>1</th>\n",
        "      <td>-1.413334</td>\n",
        "      <td>-1.341377</td>\n",
        "      <td>-0.614677</td>\n",
        "    </tr>\n",
        "    <tr>\n",
        "      <th>0</th>\n",
        "      <td>-0.251640</td>\n",
        "      <td>1.312742</td>\n",
        "      <td>1.642495</td>\n",
        "    </tr>\n",
        "    <tr>\n",
        "      <th>2</th>\n",
        "      <td>0.764090</td>\n",
        "      <td>-0.978733</td>\n",
        "      <td>0.541567</td>\n",
        "    </tr>\n",
        "  </tbody>\n",
        "</table>\n",
        "</div>"
       ],
       "metadata": {},
       "output_type": "pyout",
       "prompt_number": 132,
       "text": [
        "        one       two     three\n",
        "1 -1.413334 -1.341377 -0.614677\n",
        "0 -0.251640  1.312742  1.642495\n",
        "2  0.764090 -0.978733  0.541567"
       ]
      }
     ],
     "prompt_number": 132
    },
    {
     "cell_type": "code",
     "collapsed": false,
     "input": [
      "dataframe.sort_index(by=['one','two']) #i.e if there were same values for one, then it decides on basis of second column"
     ],
     "language": "python",
     "metadata": {},
     "outputs": [
      {
       "html": [
        "<div style=\"max-width:1500px;overflow:auto;\">\n",
        "<table border=\"1\" class=\"dataframe\">\n",
        "  <thead>\n",
        "    <tr style=\"text-align: right;\">\n",
        "      <th></th>\n",
        "      <th>one</th>\n",
        "      <th>two</th>\n",
        "      <th>three</th>\n",
        "    </tr>\n",
        "  </thead>\n",
        "  <tbody>\n",
        "    <tr>\n",
        "      <th>1</th>\n",
        "      <td>-1.413334</td>\n",
        "      <td>-1.341377</td>\n",
        "      <td>-0.614677</td>\n",
        "    </tr>\n",
        "    <tr>\n",
        "      <th>0</th>\n",
        "      <td>-0.251640</td>\n",
        "      <td>1.312742</td>\n",
        "      <td>1.642495</td>\n",
        "    </tr>\n",
        "    <tr>\n",
        "      <th>2</th>\n",
        "      <td>0.764090</td>\n",
        "      <td>-0.978733</td>\n",
        "      <td>0.541567</td>\n",
        "    </tr>\n",
        "  </tbody>\n",
        "</table>\n",
        "</div>"
       ],
       "metadata": {},
       "output_type": "pyout",
       "prompt_number": 133,
       "text": [
        "        one       two     three\n",
        "1 -1.413334 -1.341377 -0.614677\n",
        "0 -0.251640  1.312742  1.642495\n",
        "2  0.764090 -0.978733  0.541567"
       ]
      }
     ],
     "prompt_number": 133
    },
    {
     "cell_type": "code",
     "collapsed": false,
     "input": [
      "dataframe.sum()"
     ],
     "language": "python",
     "metadata": {},
     "outputs": [
      {
       "metadata": {},
       "output_type": "pyout",
       "prompt_number": 134,
       "text": [
        "one     -0.900884\n",
        "two     -1.007368\n",
        "three    1.569385\n",
        "dtype: float64"
       ]
      }
     ],
     "prompt_number": 134
    },
    {
     "cell_type": "code",
     "collapsed": false,
     "input": [
      "dataframe.sum(axis=1)"
     ],
     "language": "python",
     "metadata": {},
     "outputs": [
      {
       "metadata": {},
       "output_type": "pyout",
       "prompt_number": 135,
       "text": [
        "0    2.703597\n",
        "1   -3.369388\n",
        "2    0.326924\n",
        "dtype: float64"
       ]
      }
     ],
     "prompt_number": 135
    },
    {
     "cell_type": "code",
     "collapsed": false,
     "input": [
      "dataframe.cumsum(axis=1)"
     ],
     "language": "python",
     "metadata": {},
     "outputs": [
      {
       "html": [
        "<div style=\"max-width:1500px;overflow:auto;\">\n",
        "<table border=\"1\" class=\"dataframe\">\n",
        "  <thead>\n",
        "    <tr style=\"text-align: right;\">\n",
        "      <th></th>\n",
        "      <th>one</th>\n",
        "      <th>two</th>\n",
        "      <th>three</th>\n",
        "    </tr>\n",
        "  </thead>\n",
        "  <tbody>\n",
        "    <tr>\n",
        "      <th>0</th>\n",
        "      <td>-0.251640</td>\n",
        "      <td>1.061102</td>\n",
        "      <td>2.703597</td>\n",
        "    </tr>\n",
        "    <tr>\n",
        "      <th>1</th>\n",
        "      <td>-1.413334</td>\n",
        "      <td>-2.754711</td>\n",
        "      <td>-3.369388</td>\n",
        "    </tr>\n",
        "    <tr>\n",
        "      <th>2</th>\n",
        "      <td>0.764090</td>\n",
        "      <td>-0.214643</td>\n",
        "      <td>0.326924</td>\n",
        "    </tr>\n",
        "  </tbody>\n",
        "</table>\n",
        "</div>"
       ],
       "metadata": {},
       "output_type": "pyout",
       "prompt_number": 136,
       "text": [
        "        one       two     three\n",
        "0 -0.251640  1.061102  2.703597\n",
        "1 -1.413334 -2.754711 -3.369388\n",
        "2  0.764090 -0.214643  0.326924"
       ]
      }
     ],
     "prompt_number": 136
    },
    {
     "cell_type": "markdown",
     "metadata": {},
     "source": [
      "**Impotant**\n",
      "describe() in 'Python' same as summary in 'R'"
     ]
    },
    {
     "cell_type": "code",
     "collapsed": false,
     "input": [
      "dataframe.describe()"
     ],
     "language": "python",
     "metadata": {},
     "outputs": [
      {
       "html": [
        "<div style=\"max-width:1500px;overflow:auto;\">\n",
        "<table border=\"1\" class=\"dataframe\">\n",
        "  <thead>\n",
        "    <tr style=\"text-align: right;\">\n",
        "      <th></th>\n",
        "      <th>one</th>\n",
        "      <th>two</th>\n",
        "      <th>three</th>\n",
        "    </tr>\n",
        "  </thead>\n",
        "  <tbody>\n",
        "    <tr>\n",
        "      <th>count</th>\n",
        "      <td>3.000000</td>\n",
        "      <td>3.000000</td>\n",
        "      <td>3.000000</td>\n",
        "    </tr>\n",
        "    <tr>\n",
        "      <th>mean</th>\n",
        "      <td>-0.300295</td>\n",
        "      <td>-0.335789</td>\n",
        "      <td>0.523128</td>\n",
        "    </tr>\n",
        "    <tr>\n",
        "      <th>std</th>\n",
        "      <td>1.089527</td>\n",
        "      <td>1.439138</td>\n",
        "      <td>1.128699</td>\n",
        "    </tr>\n",
        "    <tr>\n",
        "      <th>min</th>\n",
        "      <td>-1.413334</td>\n",
        "      <td>-1.341377</td>\n",
        "      <td>-0.614677</td>\n",
        "    </tr>\n",
        "    <tr>\n",
        "      <th>25%</th>\n",
        "      <td>-0.832487</td>\n",
        "      <td>-1.160055</td>\n",
        "      <td>-0.036555</td>\n",
        "    </tr>\n",
        "    <tr>\n",
        "      <th>50%</th>\n",
        "      <td>-0.251640</td>\n",
        "      <td>-0.978733</td>\n",
        "      <td>0.541567</td>\n",
        "    </tr>\n",
        "    <tr>\n",
        "      <th>75%</th>\n",
        "      <td>0.256225</td>\n",
        "      <td>0.167004</td>\n",
        "      <td>1.092031</td>\n",
        "    </tr>\n",
        "    <tr>\n",
        "      <th>max</th>\n",
        "      <td>0.764090</td>\n",
        "      <td>1.312742</td>\n",
        "      <td>1.642495</td>\n",
        "    </tr>\n",
        "  </tbody>\n",
        "</table>\n",
        "</div>"
       ],
       "metadata": {},
       "output_type": "pyout",
       "prompt_number": 137,
       "text": [
        "            one       two     three\n",
        "count  3.000000  3.000000  3.000000\n",
        "mean  -0.300295 -0.335789  0.523128\n",
        "std    1.089527  1.439138  1.128699\n",
        "min   -1.413334 -1.341377 -0.614677\n",
        "25%   -0.832487 -1.160055 -0.036555\n",
        "50%   -0.251640 -0.978733  0.541567\n",
        "75%    0.256225  0.167004  1.092031\n",
        "max    0.764090  1.312742  1.642495"
       ]
      }
     ],
     "prompt_number": 137
    },
    {
     "cell_type": "markdown",
     "metadata": {},
     "source": [
      "If you have non-numeric data, then applying describe function would produce statistics such as count, unique, frequency. In addition to this, you can also calculate skewness (skew), kurtosis (kurt), percent changes, difference, and other statistics."
     ]
    },
    {
     "cell_type": "markdown",
     "metadata": {},
     "source": [
      "**Missing Data**\n",
      "\n",
      "pandas have a number of features to deal with missing data. We have seen an example of the case of descriptive statistics, where missing values are not taken into account while calculating the descriptive statistics. Missing data is denoted by NaN. "
     ]
    },
    {
     "cell_type": "code",
     "collapsed": false,
     "input": [
      "years = [90, 91, 92, 93, 94, 95]\n",
      "f1 = {90:8, 91:9, 92:7, 93:8, 94:9, 95:11}\n",
      "firm1 = pd.Series(f1,index=years)\n",
      "firm1\n",
      "f2 = {90:14,92:9, 93:13, 94:5}\n",
      "firm2 = pd.Series(f2,index=years)\n",
      "firm2\n",
      "f3 = {93:10, 94:12, 95: 13}\n",
      "firm3 = pd.Series(f3,index=years)\n",
      "firm3\n",
      "df3 = pd.DataFrame(columns=['Firm1','Firm2','Firm3'],index=years)\n",
      "df3\n",
      "df3.Firm1 = firm1\n",
      "df3.Firm2 = firm2\n",
      "df3.Firm3 = firm3\n",
      "df3"
     ],
     "language": "python",
     "metadata": {},
     "outputs": [
      {
       "html": [
        "<div style=\"max-width:1500px;overflow:auto;\">\n",
        "<table border=\"1\" class=\"dataframe\">\n",
        "  <thead>\n",
        "    <tr style=\"text-align: right;\">\n",
        "      <th></th>\n",
        "      <th>Firm1</th>\n",
        "      <th>Firm2</th>\n",
        "      <th>Firm3</th>\n",
        "    </tr>\n",
        "  </thead>\n",
        "  <tbody>\n",
        "    <tr>\n",
        "      <th>90</th>\n",
        "      <td>8</td>\n",
        "      <td>14</td>\n",
        "      <td>NaN</td>\n",
        "    </tr>\n",
        "    <tr>\n",
        "      <th>91</th>\n",
        "      <td>9</td>\n",
        "      <td>NaN</td>\n",
        "      <td>NaN</td>\n",
        "    </tr>\n",
        "    <tr>\n",
        "      <th>92</th>\n",
        "      <td>7</td>\n",
        "      <td>9</td>\n",
        "      <td>NaN</td>\n",
        "    </tr>\n",
        "    <tr>\n",
        "      <th>93</th>\n",
        "      <td>8</td>\n",
        "      <td>13</td>\n",
        "      <td>10</td>\n",
        "    </tr>\n",
        "    <tr>\n",
        "      <th>94</th>\n",
        "      <td>9</td>\n",
        "      <td>5</td>\n",
        "      <td>12</td>\n",
        "    </tr>\n",
        "    <tr>\n",
        "      <th>95</th>\n",
        "      <td>11</td>\n",
        "      <td>NaN</td>\n",
        "      <td>13</td>\n",
        "    </tr>\n",
        "  </tbody>\n",
        "</table>\n",
        "</div>"
       ],
       "metadata": {},
       "output_type": "pyout",
       "prompt_number": 138,
       "text": [
        "    Firm1  Firm2  Firm3\n",
        "90      8     14    NaN\n",
        "91      9    NaN    NaN\n",
        "92      7      9    NaN\n",
        "93      8     13     10\n",
        "94      9      5     12\n",
        "95     11    NaN     13"
       ]
      }
     ],
     "prompt_number": 138
    },
    {
     "cell_type": "code",
     "collapsed": false,
     "input": [
      "firm2"
     ],
     "language": "python",
     "metadata": {},
     "outputs": [
      {
       "metadata": {},
       "output_type": "pyout",
       "prompt_number": 139,
       "text": [
        "90    14\n",
        "91   NaN\n",
        "92     9\n",
        "93    13\n",
        "94     5\n",
        "95   NaN\n",
        "dtype: float64"
       ]
      }
     ],
     "prompt_number": 139
    },
    {
     "cell_type": "code",
     "collapsed": false,
     "input": [
      "nadeleted = firm2.dropna()\n",
      "nadeleted"
     ],
     "language": "python",
     "metadata": {},
     "outputs": [
      {
       "metadata": {},
       "output_type": "pyout",
       "prompt_number": 140,
       "text": [
        "90    14\n",
        "92     9\n",
        "93    13\n",
        "94     5\n",
        "dtype: float64"
       ]
      }
     ],
     "prompt_number": 140
    },
    {
     "cell_type": "code",
     "collapsed": false,
     "input": [
      "df3"
     ],
     "language": "python",
     "metadata": {},
     "outputs": [
      {
       "html": [
        "<div style=\"max-width:1500px;overflow:auto;\">\n",
        "<table border=\"1\" class=\"dataframe\">\n",
        "  <thead>\n",
        "    <tr style=\"text-align: right;\">\n",
        "      <th></th>\n",
        "      <th>Firm1</th>\n",
        "      <th>Firm2</th>\n",
        "      <th>Firm3</th>\n",
        "    </tr>\n",
        "  </thead>\n",
        "  <tbody>\n",
        "    <tr>\n",
        "      <th>90</th>\n",
        "      <td>8</td>\n",
        "      <td>14</td>\n",
        "      <td>NaN</td>\n",
        "    </tr>\n",
        "    <tr>\n",
        "      <th>91</th>\n",
        "      <td>9</td>\n",
        "      <td>NaN</td>\n",
        "      <td>NaN</td>\n",
        "    </tr>\n",
        "    <tr>\n",
        "      <th>92</th>\n",
        "      <td>7</td>\n",
        "      <td>9</td>\n",
        "      <td>NaN</td>\n",
        "    </tr>\n",
        "    <tr>\n",
        "      <th>93</th>\n",
        "      <td>8</td>\n",
        "      <td>13</td>\n",
        "      <td>10</td>\n",
        "    </tr>\n",
        "    <tr>\n",
        "      <th>94</th>\n",
        "      <td>9</td>\n",
        "      <td>5</td>\n",
        "      <td>12</td>\n",
        "    </tr>\n",
        "    <tr>\n",
        "      <th>95</th>\n",
        "      <td>11</td>\n",
        "      <td>NaN</td>\n",
        "      <td>13</td>\n",
        "    </tr>\n",
        "  </tbody>\n",
        "</table>\n",
        "</div>"
       ],
       "metadata": {},
       "output_type": "pyout",
       "prompt_number": 141,
       "text": [
        "    Firm1  Firm2  Firm3\n",
        "90      8     14    NaN\n",
        "91      9    NaN    NaN\n",
        "92      7      9    NaN\n",
        "93      8     13     10\n",
        "94      9      5     12\n",
        "95     11    NaN     13"
       ]
      }
     ],
     "prompt_number": 141
    },
    {
     "cell_type": "markdown",
     "metadata": {},
     "source": [
      "In case of DataFrame, if you use dropna, it deletes entire row by default. Another way is to drop only those rows that are all NA. If you want to drop columns, pass axis=1"
     ]
    },
    {
     "cell_type": "code",
     "collapsed": false,
     "input": [
      "cleandf3 = df3.dropna()"
     ],
     "language": "python",
     "metadata": {},
     "outputs": [],
     "prompt_number": 142
    },
    {
     "cell_type": "code",
     "collapsed": false,
     "input": [
      "cleandf3"
     ],
     "language": "python",
     "metadata": {},
     "outputs": [
      {
       "html": [
        "<div style=\"max-width:1500px;overflow:auto;\">\n",
        "<table border=\"1\" class=\"dataframe\">\n",
        "  <thead>\n",
        "    <tr style=\"text-align: right;\">\n",
        "      <th></th>\n",
        "      <th>Firm1</th>\n",
        "      <th>Firm2</th>\n",
        "      <th>Firm3</th>\n",
        "    </tr>\n",
        "  </thead>\n",
        "  <tbody>\n",
        "    <tr>\n",
        "      <th>93</th>\n",
        "      <td>8</td>\n",
        "      <td>13</td>\n",
        "      <td>10</td>\n",
        "    </tr>\n",
        "    <tr>\n",
        "      <th>94</th>\n",
        "      <td>9</td>\n",
        "      <td>5</td>\n",
        "      <td>12</td>\n",
        "    </tr>\n",
        "  </tbody>\n",
        "</table>\n",
        "</div>"
       ],
       "metadata": {},
       "output_type": "pyout",
       "prompt_number": 143,
       "text": [
        "    Firm1  Firm2  Firm3\n",
        "93      8     13     10\n",
        "94      9      5     12"
       ]
      }
     ],
     "prompt_number": 143
    },
    {
     "cell_type": "code",
     "collapsed": false,
     "input": [
      "clean2 = df3.dropna(how='all')\n",
      "clean2"
     ],
     "language": "python",
     "metadata": {},
     "outputs": [
      {
       "html": [
        "<div style=\"max-width:1500px;overflow:auto;\">\n",
        "<table border=\"1\" class=\"dataframe\">\n",
        "  <thead>\n",
        "    <tr style=\"text-align: right;\">\n",
        "      <th></th>\n",
        "      <th>Firm1</th>\n",
        "      <th>Firm2</th>\n",
        "      <th>Firm3</th>\n",
        "    </tr>\n",
        "  </thead>\n",
        "  <tbody>\n",
        "    <tr>\n",
        "      <th>90</th>\n",
        "      <td>8</td>\n",
        "      <td>14</td>\n",
        "      <td>NaN</td>\n",
        "    </tr>\n",
        "    <tr>\n",
        "      <th>91</th>\n",
        "      <td>9</td>\n",
        "      <td>NaN</td>\n",
        "      <td>NaN</td>\n",
        "    </tr>\n",
        "    <tr>\n",
        "      <th>92</th>\n",
        "      <td>7</td>\n",
        "      <td>9</td>\n",
        "      <td>NaN</td>\n",
        "    </tr>\n",
        "    <tr>\n",
        "      <th>93</th>\n",
        "      <td>8</td>\n",
        "      <td>13</td>\n",
        "      <td>10</td>\n",
        "    </tr>\n",
        "    <tr>\n",
        "      <th>94</th>\n",
        "      <td>9</td>\n",
        "      <td>5</td>\n",
        "      <td>12</td>\n",
        "    </tr>\n",
        "    <tr>\n",
        "      <th>95</th>\n",
        "      <td>11</td>\n",
        "      <td>NaN</td>\n",
        "      <td>13</td>\n",
        "    </tr>\n",
        "  </tbody>\n",
        "</table>\n",
        "</div>"
       ],
       "metadata": {},
       "output_type": "pyout",
       "prompt_number": 144,
       "text": [
        "    Firm1  Firm2  Firm3\n",
        "90      8     14    NaN\n",
        "91      9    NaN    NaN\n",
        "92      7      9    NaN\n",
        "93      8     13     10\n",
        "94      9      5     12\n",
        "95     11    NaN     13"
       ]
      }
     ],
     "prompt_number": 144
    },
    {
     "cell_type": "code",
     "collapsed": false,
     "input": [
      "columndrop = df3.dropna(axis=1)\n",
      "columndrop"
     ],
     "language": "python",
     "metadata": {},
     "outputs": [
      {
       "html": [
        "<div style=\"max-width:1500px;overflow:auto;\">\n",
        "<table border=\"1\" class=\"dataframe\">\n",
        "  <thead>\n",
        "    <tr style=\"text-align: right;\">\n",
        "      <th></th>\n",
        "      <th>Firm1</th>\n",
        "    </tr>\n",
        "  </thead>\n",
        "  <tbody>\n",
        "    <tr>\n",
        "      <th>90</th>\n",
        "      <td>8</td>\n",
        "    </tr>\n",
        "    <tr>\n",
        "      <th>91</th>\n",
        "      <td>9</td>\n",
        "    </tr>\n",
        "    <tr>\n",
        "      <th>92</th>\n",
        "      <td>7</td>\n",
        "    </tr>\n",
        "    <tr>\n",
        "      <th>93</th>\n",
        "      <td>8</td>\n",
        "    </tr>\n",
        "    <tr>\n",
        "      <th>94</th>\n",
        "      <td>9</td>\n",
        "    </tr>\n",
        "    <tr>\n",
        "      <th>95</th>\n",
        "      <td>11</td>\n",
        "    </tr>\n",
        "  </tbody>\n",
        "</table>\n",
        "</div>"
       ],
       "metadata": {},
       "output_type": "pyout",
       "prompt_number": 145,
       "text": [
        "    Firm1\n",
        "90      8\n",
        "91      9\n",
        "92      7\n",
        "93      8\n",
        "94      9\n",
        "95     11"
       ]
      }
     ],
     "prompt_number": 145
    },
    {
     "cell_type": "code",
     "collapsed": false,
     "input": [
      "df3"
     ],
     "language": "python",
     "metadata": {},
     "outputs": [
      {
       "html": [
        "<div style=\"max-width:1500px;overflow:auto;\">\n",
        "<table border=\"1\" class=\"dataframe\">\n",
        "  <thead>\n",
        "    <tr style=\"text-align: right;\">\n",
        "      <th></th>\n",
        "      <th>Firm1</th>\n",
        "      <th>Firm2</th>\n",
        "      <th>Firm3</th>\n",
        "    </tr>\n",
        "  </thead>\n",
        "  <tbody>\n",
        "    <tr>\n",
        "      <th>90</th>\n",
        "      <td>8</td>\n",
        "      <td>14</td>\n",
        "      <td>NaN</td>\n",
        "    </tr>\n",
        "    <tr>\n",
        "      <th>91</th>\n",
        "      <td>9</td>\n",
        "      <td>NaN</td>\n",
        "      <td>NaN</td>\n",
        "    </tr>\n",
        "    <tr>\n",
        "      <th>92</th>\n",
        "      <td>7</td>\n",
        "      <td>9</td>\n",
        "      <td>NaN</td>\n",
        "    </tr>\n",
        "    <tr>\n",
        "      <th>93</th>\n",
        "      <td>8</td>\n",
        "      <td>13</td>\n",
        "      <td>10</td>\n",
        "    </tr>\n",
        "    <tr>\n",
        "      <th>94</th>\n",
        "      <td>9</td>\n",
        "      <td>5</td>\n",
        "      <td>12</td>\n",
        "    </tr>\n",
        "    <tr>\n",
        "      <th>95</th>\n",
        "      <td>11</td>\n",
        "      <td>NaN</td>\n",
        "      <td>13</td>\n",
        "    </tr>\n",
        "  </tbody>\n",
        "</table>\n",
        "</div>"
       ],
       "metadata": {},
       "output_type": "pyout",
       "prompt_number": 146,
       "text": [
        "    Firm1  Firm2  Firm3\n",
        "90      8     14    NaN\n",
        "91      9    NaN    NaN\n",
        "92      7      9    NaN\n",
        "93      8     13     10\n",
        "94      9      5     12\n",
        "95     11    NaN     13"
       ]
      }
     ],
     "prompt_number": 146
    },
    {
     "cell_type": "code",
     "collapsed": false,
     "input": [
      "thresholddf = df3.dropna(thresh=2)\n",
      "thresholddf"
     ],
     "language": "python",
     "metadata": {},
     "outputs": [
      {
       "html": [
        "<div style=\"max-width:1500px;overflow:auto;\">\n",
        "<table border=\"1\" class=\"dataframe\">\n",
        "  <thead>\n",
        "    <tr style=\"text-align: right;\">\n",
        "      <th></th>\n",
        "      <th>Firm1</th>\n",
        "      <th>Firm2</th>\n",
        "      <th>Firm3</th>\n",
        "    </tr>\n",
        "  </thead>\n",
        "  <tbody>\n",
        "    <tr>\n",
        "      <th>90</th>\n",
        "      <td>8</td>\n",
        "      <td>14</td>\n",
        "      <td>NaN</td>\n",
        "    </tr>\n",
        "    <tr>\n",
        "      <th>92</th>\n",
        "      <td>7</td>\n",
        "      <td>9</td>\n",
        "      <td>NaN</td>\n",
        "    </tr>\n",
        "    <tr>\n",
        "      <th>93</th>\n",
        "      <td>8</td>\n",
        "      <td>13</td>\n",
        "      <td>10</td>\n",
        "    </tr>\n",
        "    <tr>\n",
        "      <th>94</th>\n",
        "      <td>9</td>\n",
        "      <td>5</td>\n",
        "      <td>12</td>\n",
        "    </tr>\n",
        "    <tr>\n",
        "      <th>95</th>\n",
        "      <td>11</td>\n",
        "      <td>NaN</td>\n",
        "      <td>13</td>\n",
        "    </tr>\n",
        "  </tbody>\n",
        "</table>\n",
        "</div>"
       ],
       "metadata": {},
       "output_type": "pyout",
       "prompt_number": 147,
       "text": [
        "    Firm1  Firm2  Firm3\n",
        "90      8     14    NaN\n",
        "92      7      9    NaN\n",
        "93      8     13     10\n",
        "94      9      5     12\n",
        "95     11    NaN     13"
       ]
      }
     ],
     "prompt_number": 147
    },
    {
     "cell_type": "code",
     "collapsed": false,
     "input": [
      "fillna1 = df3.fillna(0)\n",
      "fillna1"
     ],
     "language": "python",
     "metadata": {},
     "outputs": [
      {
       "html": [
        "<div style=\"max-width:1500px;overflow:auto;\">\n",
        "<table border=\"1\" class=\"dataframe\">\n",
        "  <thead>\n",
        "    <tr style=\"text-align: right;\">\n",
        "      <th></th>\n",
        "      <th>Firm1</th>\n",
        "      <th>Firm2</th>\n",
        "      <th>Firm3</th>\n",
        "    </tr>\n",
        "  </thead>\n",
        "  <tbody>\n",
        "    <tr>\n",
        "      <th>90</th>\n",
        "      <td>8</td>\n",
        "      <td>14</td>\n",
        "      <td>0</td>\n",
        "    </tr>\n",
        "    <tr>\n",
        "      <th>91</th>\n",
        "      <td>9</td>\n",
        "      <td>0</td>\n",
        "      <td>0</td>\n",
        "    </tr>\n",
        "    <tr>\n",
        "      <th>92</th>\n",
        "      <td>7</td>\n",
        "      <td>9</td>\n",
        "      <td>0</td>\n",
        "    </tr>\n",
        "    <tr>\n",
        "      <th>93</th>\n",
        "      <td>8</td>\n",
        "      <td>13</td>\n",
        "      <td>10</td>\n",
        "    </tr>\n",
        "    <tr>\n",
        "      <th>94</th>\n",
        "      <td>9</td>\n",
        "      <td>5</td>\n",
        "      <td>12</td>\n",
        "    </tr>\n",
        "    <tr>\n",
        "      <th>95</th>\n",
        "      <td>11</td>\n",
        "      <td>0</td>\n",
        "      <td>13</td>\n",
        "    </tr>\n",
        "  </tbody>\n",
        "</table>\n",
        "</div>"
       ],
       "metadata": {},
       "output_type": "pyout",
       "prompt_number": 148,
       "text": [
        "    Firm1  Firm2  Firm3\n",
        "90      8     14      0\n",
        "91      9      0      0\n",
        "92      7      9      0\n",
        "93      8     13     10\n",
        "94      9      5     12\n",
        "95     11      0     13"
       ]
      }
     ],
     "prompt_number": 148
    },
    {
     "cell_type": "code",
     "collapsed": false,
     "input": [
      "fillna2 = df3.fillna({'Firm1':8, 'Firm2': 10, 'Firm3':14})\n",
      "fillna2"
     ],
     "language": "python",
     "metadata": {},
     "outputs": [
      {
       "html": [
        "<div style=\"max-width:1500px;overflow:auto;\">\n",
        "<table border=\"1\" class=\"dataframe\">\n",
        "  <thead>\n",
        "    <tr style=\"text-align: right;\">\n",
        "      <th></th>\n",
        "      <th>Firm1</th>\n",
        "      <th>Firm2</th>\n",
        "      <th>Firm3</th>\n",
        "    </tr>\n",
        "  </thead>\n",
        "  <tbody>\n",
        "    <tr>\n",
        "      <th>90</th>\n",
        "      <td>8</td>\n",
        "      <td>14</td>\n",
        "      <td>14</td>\n",
        "    </tr>\n",
        "    <tr>\n",
        "      <th>91</th>\n",
        "      <td>9</td>\n",
        "      <td>10</td>\n",
        "      <td>14</td>\n",
        "    </tr>\n",
        "    <tr>\n",
        "      <th>92</th>\n",
        "      <td>7</td>\n",
        "      <td>9</td>\n",
        "      <td>14</td>\n",
        "    </tr>\n",
        "    <tr>\n",
        "      <th>93</th>\n",
        "      <td>8</td>\n",
        "      <td>13</td>\n",
        "      <td>10</td>\n",
        "    </tr>\n",
        "    <tr>\n",
        "      <th>94</th>\n",
        "      <td>9</td>\n",
        "      <td>5</td>\n",
        "      <td>12</td>\n",
        "    </tr>\n",
        "    <tr>\n",
        "      <th>95</th>\n",
        "      <td>11</td>\n",
        "      <td>10</td>\n",
        "      <td>13</td>\n",
        "    </tr>\n",
        "  </tbody>\n",
        "</table>\n",
        "</div>"
       ],
       "metadata": {},
       "output_type": "pyout",
       "prompt_number": 149,
       "text": [
        "    Firm1  Firm2  Firm3\n",
        "90      8     14     14\n",
        "91      9     10     14\n",
        "92      7      9     14\n",
        "93      8     13     10\n",
        "94      9      5     12\n",
        "95     11     10     13"
       ]
      }
     ],
     "prompt_number": 149
    },
    {
     "cell_type": "code",
     "collapsed": false,
     "input": [
      "df3"
     ],
     "language": "python",
     "metadata": {},
     "outputs": [
      {
       "html": [
        "<div style=\"max-width:1500px;overflow:auto;\">\n",
        "<table border=\"1\" class=\"dataframe\">\n",
        "  <thead>\n",
        "    <tr style=\"text-align: right;\">\n",
        "      <th></th>\n",
        "      <th>Firm1</th>\n",
        "      <th>Firm2</th>\n",
        "      <th>Firm3</th>\n",
        "    </tr>\n",
        "  </thead>\n",
        "  <tbody>\n",
        "    <tr>\n",
        "      <th>90</th>\n",
        "      <td>8</td>\n",
        "      <td>14</td>\n",
        "      <td>NaN</td>\n",
        "    </tr>\n",
        "    <tr>\n",
        "      <th>91</th>\n",
        "      <td>9</td>\n",
        "      <td>NaN</td>\n",
        "      <td>NaN</td>\n",
        "    </tr>\n",
        "    <tr>\n",
        "      <th>92</th>\n",
        "      <td>7</td>\n",
        "      <td>9</td>\n",
        "      <td>NaN</td>\n",
        "    </tr>\n",
        "    <tr>\n",
        "      <th>93</th>\n",
        "      <td>8</td>\n",
        "      <td>13</td>\n",
        "      <td>10</td>\n",
        "    </tr>\n",
        "    <tr>\n",
        "      <th>94</th>\n",
        "      <td>9</td>\n",
        "      <td>5</td>\n",
        "      <td>12</td>\n",
        "    </tr>\n",
        "    <tr>\n",
        "      <th>95</th>\n",
        "      <td>11</td>\n",
        "      <td>NaN</td>\n",
        "      <td>13</td>\n",
        "    </tr>\n",
        "  </tbody>\n",
        "</table>\n",
        "</div>"
       ],
       "metadata": {},
       "output_type": "pyout",
       "prompt_number": 150,
       "text": [
        "    Firm1  Firm2  Firm3\n",
        "90      8     14    NaN\n",
        "91      9    NaN    NaN\n",
        "92      7      9    NaN\n",
        "93      8     13     10\n",
        "94      9      5     12\n",
        "95     11    NaN     13"
       ]
      }
     ],
     "prompt_number": 150
    },
    {
     "cell_type": "code",
     "collapsed": false,
     "input": [
      "fillna3 = df3.fillna(method='ffill')\n",
      "fillna3"
     ],
     "language": "python",
     "metadata": {},
     "outputs": [
      {
       "html": [
        "<div style=\"max-width:1500px;overflow:auto;\">\n",
        "<table border=\"1\" class=\"dataframe\">\n",
        "  <thead>\n",
        "    <tr style=\"text-align: right;\">\n",
        "      <th></th>\n",
        "      <th>Firm1</th>\n",
        "      <th>Firm2</th>\n",
        "      <th>Firm3</th>\n",
        "    </tr>\n",
        "  </thead>\n",
        "  <tbody>\n",
        "    <tr>\n",
        "      <th>90</th>\n",
        "      <td>8</td>\n",
        "      <td>14</td>\n",
        "      <td>NaN</td>\n",
        "    </tr>\n",
        "    <tr>\n",
        "      <th>91</th>\n",
        "      <td>9</td>\n",
        "      <td>14</td>\n",
        "      <td>NaN</td>\n",
        "    </tr>\n",
        "    <tr>\n",
        "      <th>92</th>\n",
        "      <td>7</td>\n",
        "      <td>9</td>\n",
        "      <td>NaN</td>\n",
        "    </tr>\n",
        "    <tr>\n",
        "      <th>93</th>\n",
        "      <td>8</td>\n",
        "      <td>13</td>\n",
        "      <td>10</td>\n",
        "    </tr>\n",
        "    <tr>\n",
        "      <th>94</th>\n",
        "      <td>9</td>\n",
        "      <td>5</td>\n",
        "      <td>12</td>\n",
        "    </tr>\n",
        "    <tr>\n",
        "      <th>95</th>\n",
        "      <td>11</td>\n",
        "      <td>5</td>\n",
        "      <td>13</td>\n",
        "    </tr>\n",
        "  </tbody>\n",
        "</table>\n",
        "</div>"
       ],
       "metadata": {},
       "output_type": "pyout",
       "prompt_number": 151,
       "text": [
        "    Firm1  Firm2  Firm3\n",
        "90      8     14    NaN\n",
        "91      9     14    NaN\n",
        "92      7      9    NaN\n",
        "93      8     13     10\n",
        "94      9      5     12\n",
        "95     11      5     13"
       ]
      }
     ],
     "prompt_number": 151
    },
    {
     "cell_type": "code",
     "collapsed": false,
     "input": [
      "fillna4 = df3.fillna(method='bfill',limit=2)\n",
      "fillna4"
     ],
     "language": "python",
     "metadata": {},
     "outputs": [
      {
       "html": [
        "<div style=\"max-width:1500px;overflow:auto;\">\n",
        "<table border=\"1\" class=\"dataframe\">\n",
        "  <thead>\n",
        "    <tr style=\"text-align: right;\">\n",
        "      <th></th>\n",
        "      <th>Firm1</th>\n",
        "      <th>Firm2</th>\n",
        "      <th>Firm3</th>\n",
        "    </tr>\n",
        "  </thead>\n",
        "  <tbody>\n",
        "    <tr>\n",
        "      <th>90</th>\n",
        "      <td>8</td>\n",
        "      <td>14</td>\n",
        "      <td>NaN</td>\n",
        "    </tr>\n",
        "    <tr>\n",
        "      <th>91</th>\n",
        "      <td>9</td>\n",
        "      <td>9</td>\n",
        "      <td>10</td>\n",
        "    </tr>\n",
        "    <tr>\n",
        "      <th>92</th>\n",
        "      <td>7</td>\n",
        "      <td>9</td>\n",
        "      <td>10</td>\n",
        "    </tr>\n",
        "    <tr>\n",
        "      <th>93</th>\n",
        "      <td>8</td>\n",
        "      <td>13</td>\n",
        "      <td>10</td>\n",
        "    </tr>\n",
        "    <tr>\n",
        "      <th>94</th>\n",
        "      <td>9</td>\n",
        "      <td>5</td>\n",
        "      <td>12</td>\n",
        "    </tr>\n",
        "    <tr>\n",
        "      <th>95</th>\n",
        "      <td>11</td>\n",
        "      <td>NaN</td>\n",
        "      <td>13</td>\n",
        "    </tr>\n",
        "  </tbody>\n",
        "</table>\n",
        "</div>"
       ],
       "metadata": {},
       "output_type": "pyout",
       "prompt_number": 152,
       "text": [
        "    Firm1  Firm2  Firm3\n",
        "90      8     14    NaN\n",
        "91      9      9     10\n",
        "92      7      9     10\n",
        "93      8     13     10\n",
        "94      9      5     12\n",
        "95     11    NaN     13"
       ]
      }
     ],
     "prompt_number": 152
    },
    {
     "cell_type": "code",
     "collapsed": false,
     "input": [
      "fillna5 = df3.fillna(df3.mean())   # mean() function ignores the missing values\n",
      "fillna5"
     ],
     "language": "python",
     "metadata": {},
     "outputs": [
      {
       "html": [
        "<div style=\"max-width:1500px;overflow:auto;\">\n",
        "<table border=\"1\" class=\"dataframe\">\n",
        "  <thead>\n",
        "    <tr style=\"text-align: right;\">\n",
        "      <th></th>\n",
        "      <th>Firm1</th>\n",
        "      <th>Firm2</th>\n",
        "      <th>Firm3</th>\n",
        "    </tr>\n",
        "  </thead>\n",
        "  <tbody>\n",
        "    <tr>\n",
        "      <th>90</th>\n",
        "      <td>8</td>\n",
        "      <td>14.00</td>\n",
        "      <td>11.666667</td>\n",
        "    </tr>\n",
        "    <tr>\n",
        "      <th>91</th>\n",
        "      <td>9</td>\n",
        "      <td>10.25</td>\n",
        "      <td>11.666667</td>\n",
        "    </tr>\n",
        "    <tr>\n",
        "      <th>92</th>\n",
        "      <td>7</td>\n",
        "      <td>9.00</td>\n",
        "      <td>11.666667</td>\n",
        "    </tr>\n",
        "    <tr>\n",
        "      <th>93</th>\n",
        "      <td>8</td>\n",
        "      <td>13.00</td>\n",
        "      <td>10.000000</td>\n",
        "    </tr>\n",
        "    <tr>\n",
        "      <th>94</th>\n",
        "      <td>9</td>\n",
        "      <td>5.00</td>\n",
        "      <td>12.000000</td>\n",
        "    </tr>\n",
        "    <tr>\n",
        "      <th>95</th>\n",
        "      <td>11</td>\n",
        "      <td>10.25</td>\n",
        "      <td>13.000000</td>\n",
        "    </tr>\n",
        "  </tbody>\n",
        "</table>\n",
        "</div>"
       ],
       "metadata": {},
       "output_type": "pyout",
       "prompt_number": 153,
       "text": [
        "    Firm1  Firm2      Firm3\n",
        "90      8  14.00  11.666667\n",
        "91      9  10.25  11.666667\n",
        "92      7   9.00  11.666667\n",
        "93      8  13.00  10.000000\n",
        "94      9   5.00  12.000000\n",
        "95     11  10.25  13.000000"
       ]
      }
     ],
     "prompt_number": 153
    },
    {
     "cell_type": "markdown",
     "metadata": {},
     "source": [
      "**Hierarchical Indexing  IMPORTANT**\n",
      "\n",
      "Hierarchical indexing allows you to have index on an index (multiple index). It is an important feature of pandas using which you can select subsets of data and perform independent analyses on them. For example, suppose you have firm prices data and the data is indexed by firm name. On top of that, you can index firms by industry. Thus, industry becomes an index on top of firms. You can then perform analyses either on individual firm, or on group of firms in an industry, or on the whole dataset."
     ]
    },
    {
     "cell_type": "code",
     "collapsed": false,
     "input": [
      "h_i_data = pd.Series(np.random.randn(10),index=[['Ind1','Ind1','Ind1','Ind1','Ind2','Ind2','Ind2','Ind3','Ind3','Ind3'],\n",
      "                                              [1,2,3,4,1,2,3,1,2,3]])\n",
      "h_i_data"
     ],
     "language": "python",
     "metadata": {},
     "outputs": [
      {
       "metadata": {},
       "output_type": "pyout",
       "prompt_number": 155,
       "text": [
        "Ind1  1    0.566608\n",
        "      2    0.783251\n",
        "      3   -0.059250\n",
        "      4    1.229944\n",
        "Ind2  1   -1.176949\n",
        "      2   -0.756008\n",
        "      3    0.373003\n",
        "Ind3  1   -0.066543\n",
        "      2    0.763293\n",
        "      3    0.070827\n",
        "dtype: float64"
       ]
      }
     ],
     "prompt_number": 155
    },
    {
     "cell_type": "code",
     "collapsed": false,
     "input": [
      "h_i_data['Ind3']"
     ],
     "language": "python",
     "metadata": {},
     "outputs": [
      {
       "metadata": {},
       "output_type": "pyout",
       "prompt_number": 156,
       "text": [
        "1   -0.066543\n",
        "2    0.763293\n",
        "3    0.070827\n",
        "dtype: float64"
       ]
      }
     ],
     "prompt_number": 156
    },
    {
     "cell_type": "code",
     "collapsed": false,
     "input": [
      "h_i_data['Ind1':'Ind3']"
     ],
     "language": "python",
     "metadata": {},
     "outputs": [
      {
       "metadata": {},
       "output_type": "pyout",
       "prompt_number": 157,
       "text": [
        "Ind1  1    0.566608\n",
        "      2    0.783251\n",
        "      3   -0.059250\n",
        "      4    1.229944\n",
        "Ind2  1   -1.176949\n",
        "      2   -0.756008\n",
        "      3    0.373003\n",
        "Ind3  1   -0.066543\n",
        "      2    0.763293\n",
        "      3    0.070827\n",
        "dtype: float64"
       ]
      }
     ],
     "prompt_number": 157
    },
    {
     "cell_type": "code",
     "collapsed": false,
     "input": [
      "h_i_data[['Ind1','Ind3']]"
     ],
     "language": "python",
     "metadata": {},
     "outputs": [
      {
       "metadata": {},
       "output_type": "pyout",
       "prompt_number": 158,
       "text": [
        "Ind1  1    0.566608\n",
        "      2    0.783251\n",
        "      3   -0.059250\n",
        "      4    1.229944\n",
        "Ind3  1   -0.066543\n",
        "      2    0.763293\n",
        "      3    0.070827\n",
        "dtype: float64"
       ]
      }
     ],
     "prompt_number": 158
    },
    {
     "cell_type": "code",
     "collapsed": false,
     "input": [
      "h_i_data[:,3]  #all data for outermost indexes , and innermost index is 3"
     ],
     "language": "python",
     "metadata": {},
     "outputs": [
      {
       "metadata": {},
       "output_type": "pyout",
       "prompt_number": 159,
       "text": [
        "Ind1   -0.059250\n",
        "Ind2    0.373003\n",
        "Ind3    0.070827\n",
        "dtype: float64"
       ]
      }
     ],
     "prompt_number": 159
    },
    {
     "cell_type": "code",
     "collapsed": false,
     "input": [
      "h_i_data[:,4] "
     ],
     "language": "python",
     "metadata": {},
     "outputs": [
      {
       "metadata": {},
       "output_type": "pyout",
       "prompt_number": 160,
       "text": [
        "Ind1    1.229944\n",
        "dtype: float64"
       ]
      }
     ],
     "prompt_number": 160
    },
    {
     "cell_type": "code",
     "collapsed": false,
     "input": [
      "h_i_data.unstack()"
     ],
     "language": "python",
     "metadata": {},
     "outputs": [
      {
       "html": [
        "<div style=\"max-width:1500px;overflow:auto;\">\n",
        "<table border=\"1\" class=\"dataframe\">\n",
        "  <thead>\n",
        "    <tr style=\"text-align: right;\">\n",
        "      <th></th>\n",
        "      <th>1</th>\n",
        "      <th>2</th>\n",
        "      <th>3</th>\n",
        "      <th>4</th>\n",
        "    </tr>\n",
        "  </thead>\n",
        "  <tbody>\n",
        "    <tr>\n",
        "      <th>Ind1</th>\n",
        "      <td>0.566608</td>\n",
        "      <td>0.783251</td>\n",
        "      <td>-0.059250</td>\n",
        "      <td>1.229944</td>\n",
        "    </tr>\n",
        "    <tr>\n",
        "      <th>Ind2</th>\n",
        "      <td>-1.176949</td>\n",
        "      <td>-0.756008</td>\n",
        "      <td>0.373003</td>\n",
        "      <td>NaN</td>\n",
        "    </tr>\n",
        "    <tr>\n",
        "      <th>Ind3</th>\n",
        "      <td>-0.066543</td>\n",
        "      <td>0.763293</td>\n",
        "      <td>0.070827</td>\n",
        "      <td>NaN</td>\n",
        "    </tr>\n",
        "  </tbody>\n",
        "</table>\n",
        "</div>"
       ],
       "metadata": {},
       "output_type": "pyout",
       "prompt_number": 161,
       "text": [
        "             1         2         3         4\n",
        "Ind1  0.566608  0.783251 -0.059250  1.229944\n",
        "Ind2 -1.176949 -0.756008  0.373003       NaN\n",
        "Ind3 -0.066543  0.763293  0.070827       NaN"
       ]
      }
     ],
     "prompt_number": 161
    },
    {
     "cell_type": "code",
     "collapsed": false,
     "input": [
      "h_i_data.unstack().stack()"
     ],
     "language": "python",
     "metadata": {},
     "outputs": [
      {
       "metadata": {},
       "output_type": "pyout",
       "prompt_number": 162,
       "text": [
        "Ind1  1    0.566608\n",
        "      2    0.783251\n",
        "      3   -0.059250\n",
        "      4    1.229944\n",
        "Ind2  1   -1.176949\n",
        "      2   -0.756008\n",
        "      3    0.373003\n",
        "Ind3  1   -0.066543\n",
        "      2    0.763293\n",
        "      3    0.070827\n",
        "dtype: float64"
       ]
      }
     ],
     "prompt_number": 162
    },
    {
     "cell_type": "code",
     "collapsed": false,
     "input": [
      "h_i_data.sum()"
     ],
     "language": "python",
     "metadata": {},
     "outputs": [
      {
       "metadata": {},
       "output_type": "pyout",
       "prompt_number": 163,
       "text": [
        "1.7281762041569484"
       ]
      }
     ],
     "prompt_number": 163
    },
    {
     "cell_type": "code",
     "collapsed": false,
     "input": [
      "h_i_data.sum(level=1)"
     ],
     "language": "python",
     "metadata": {},
     "outputs": [
      {
       "metadata": {},
       "output_type": "pyout",
       "prompt_number": 164,
       "text": [
        "1   -0.676884\n",
        "2    0.790536\n",
        "3    0.384580\n",
        "4    1.229944\n",
        "dtype: float64"
       ]
      }
     ],
     "prompt_number": 164
    },
    {
     "cell_type": "code",
     "collapsed": false,
     "input": [
      "h_i_data.sum(level=0)"
     ],
     "language": "python",
     "metadata": {},
     "outputs": [
      {
       "metadata": {},
       "output_type": "pyout",
       "prompt_number": 165,
       "text": [
        "Ind1    2.520553\n",
        "Ind2   -1.559954\n",
        "Ind3    0.767577\n",
        "dtype: float64"
       ]
      }
     ],
     "prompt_number": 165
    },
    {
     "cell_type": "code",
     "collapsed": false,
     "input": [
      "h_i_data"
     ],
     "language": "python",
     "metadata": {},
     "outputs": [
      {
       "metadata": {},
       "output_type": "pyout",
       "prompt_number": 166,
       "text": [
        "Ind1  1    0.566608\n",
        "      2    0.783251\n",
        "      3   -0.059250\n",
        "      4    1.229944\n",
        "Ind2  1   -1.176949\n",
        "      2   -0.756008\n",
        "      3    0.373003\n",
        "Ind3  1   -0.066543\n",
        "      2    0.763293\n",
        "      3    0.070827\n",
        "dtype: float64"
       ]
      }
     ],
     "prompt_number": 166
    },
    {
     "cell_type": "markdown",
     "metadata": {},
     "source": [
      "**IO in pandas**\n",
      "\n",
      "In this section, we will focus on I/O from text files, csv, excel, and sql files as well as getting data from web such as Yahoo! Finance. Using functions in pandas, you can read data as a DataFrame object. \n",
      "\n",
      "**Reading a csv file**"
     ]
    },
    {
     "cell_type": "code",
     "collapsed": false,
     "input": [
      "import pandas as pd\n",
      "import numpy as np"
     ],
     "language": "python",
     "metadata": {},
     "outputs": []
    },
    {
     "cell_type": "code",
     "collapsed": false,
     "input": [
      "roedatacsv = pd.read_csv('/Users/abhishekraj/Desktop/roedata.csv')  #it was read.csv() in R\n",
      "#roedatacsv\n",
      "roedatacsv.head()"
     ],
     "language": "python",
     "metadata": {},
     "outputs": []
    },
    {
     "cell_type": "markdown",
     "metadata": {},
     "source": [
      "If the file does not have a header, then you can either let pandas assign default headers or you can specify custom headers. If you want industry name to be the index of DataFrame, you can achieve that."
     ]
    },
    {
     "cell_type": "code",
     "collapsed": false,
     "input": [
      "roedatacsv = pd.read_csv('roedata.csv', index_col = 'Industry Name' )\n",
      "print type(roedatacsv)\n",
      "print roedatacsv.head()\n"
     ],
     "language": "python",
     "metadata": {},
     "outputs": [
      {
       "output_type": "stream",
       "stream": "stdout",
       "text": [
        "<class 'pandas.core.frame.DataFrame'>\n",
        "                   Number of firms     ROE\n",
        "Industry Name                             \n",
        "Advertising                     65  16.51%\n",
        "Aerospace/Defense               95  21.60%\n",
        "Air Transport                   25  42.68%\n",
        "Apparel                         70  17.87%\n",
        "Auto & Truck                    26  22.05%\n"
       ]
      }
     ],
     "prompt_number": 170
    },
    {
     "cell_type": "code",
     "collapsed": false,
     "input": [
      "roedatacsv = pd.read_csv('roedata.csv', usecols = ['Industry Name','ROE'] )\n",
      "#roedatacsv"
     ],
     "language": "python",
     "metadata": {},
     "outputs": [],
     "prompt_number": 173
    },
    {
     "cell_type": "code",
     "collapsed": false,
     "input": [
      "capm_dem_data = pd.read_table('capm_dem.dat', delimiter=' ',header = None)\n",
      "capm_dem_data.head()"
     ],
     "language": "python",
     "metadata": {},
     "outputs": [
      {
       "html": [
        "<div style=\"max-width:1500px;overflow:auto;\">\n",
        "<table border=\"1\" class=\"dataframe\">\n",
        "  <thead>\n",
        "    <tr style=\"text-align: right;\">\n",
        "      <th></th>\n",
        "      <th>0</th>\n",
        "      <th>1</th>\n",
        "      <th>2</th>\n",
        "      <th>3</th>\n",
        "    </tr>\n",
        "  </thead>\n",
        "  <tbody>\n",
        "    <tr>\n",
        "      <th>0</th>\n",
        "      <td>195710</td>\n",
        "      <td>880211</td>\n",
        "      <td>-0.012605</td>\n",
        "      <td>0.003871</td>\n",
        "    </tr>\n",
        "    <tr>\n",
        "      <th>1</th>\n",
        "      <td>195710</td>\n",
        "      <td>880212</td>\n",
        "      <td>-0.008511</td>\n",
        "      <td>0.007406</td>\n",
        "    </tr>\n",
        "    <tr>\n",
        "      <th>2</th>\n",
        "      <td>195710</td>\n",
        "      <td>880216</td>\n",
        "      <td>0.008584</td>\n",
        "      <td>0.001411</td>\n",
        "    </tr>\n",
        "    <tr>\n",
        "      <th>3</th>\n",
        "      <td>195710</td>\n",
        "      <td>880217</td>\n",
        "      <td>-0.004255</td>\n",
        "      <td>0.002414</td>\n",
        "    </tr>\n",
        "    <tr>\n",
        "      <th>4</th>\n",
        "      <td>195710</td>\n",
        "      <td>880218</td>\n",
        "      <td>0.000000</td>\n",
        "      <td>0.002845</td>\n",
        "    </tr>\n",
        "  </tbody>\n",
        "</table>\n",
        "</div>"
       ],
       "metadata": {},
       "output_type": "pyout",
       "prompt_number": 175,
       "text": [
        "        0       1         2         3\n",
        "0  195710  880211 -0.012605  0.003871\n",
        "1  195710  880212 -0.008511  0.007406\n",
        "2  195710  880216  0.008584  0.001411\n",
        "3  195710  880217 -0.004255  0.002414\n",
        "4  195710  880218  0.000000  0.002845"
       ]
      }
     ],
     "prompt_number": 175
    },
    {
     "cell_type": "code",
     "collapsed": false,
     "input": [
      "compustatdata = pd.read_csv('compustat.csv', index_col = ['ggroup','gvkey'] ) #Hierarchial indexing\n",
      "compustatdata = compustatdata.sort_index(0,ascending=False)\n",
      "compustatdata.head()"
     ],
     "language": "python",
     "metadata": {},
     "outputs": [
      {
       "html": [
        "<div style=\"max-width:1500px;overflow:auto;\">\n",
        "<table border=\"1\" class=\"dataframe\">\n",
        "  <thead>\n",
        "    <tr style=\"text-align: right;\">\n",
        "      <th></th>\n",
        "      <th></th>\n",
        "      <th>datadate</th>\n",
        "      <th>fyear</th>\n",
        "      <th>indfmt</th>\n",
        "      <th>consol</th>\n",
        "      <th>popsrc</th>\n",
        "      <th>datafmt</th>\n",
        "      <th>tic</th>\n",
        "      <th>conm</th>\n",
        "      <th>curcd</th>\n",
        "      <th>fyr</th>\n",
        "      <th>act</th>\n",
        "      <th>artfs</th>\n",
        "      <th>at</th>\n",
        "      <th>ebitda</th>\n",
        "      <th>epsfi</th>\n",
        "      <th>ni</th>\n",
        "      <th>costat</th>\n",
        "    </tr>\n",
        "    <tr>\n",
        "      <th>ggroup</th>\n",
        "      <th>gvkey</th>\n",
        "      <th></th>\n",
        "      <th></th>\n",
        "      <th></th>\n",
        "      <th></th>\n",
        "      <th></th>\n",
        "      <th></th>\n",
        "      <th></th>\n",
        "      <th></th>\n",
        "      <th></th>\n",
        "      <th></th>\n",
        "      <th></th>\n",
        "      <th></th>\n",
        "      <th></th>\n",
        "      <th></th>\n",
        "      <th></th>\n",
        "      <th></th>\n",
        "      <th></th>\n",
        "    </tr>\n",
        "  </thead>\n",
        "  <tbody>\n",
        "    <tr>\n",
        "      <th rowspan=\"5\" valign=\"top\">5510</th>\n",
        "      <th>273902</th>\n",
        "      <td>20101231</td>\n",
        "      <td>2010</td>\n",
        "      <td>INDL</td>\n",
        "      <td>C</td>\n",
        "      <td>D</td>\n",
        "      <td>STD</td>\n",
        "      <td>PENGF</td>\n",
        "      <td>PRIMARY ENERGY RECYCLING CP</td>\n",
        "      <td>CAD</td>\n",
        "      <td>12</td>\n",
        "      <td>34.821</td>\n",
        "      <td>NaN</td>\n",
        "      <td>329.365</td>\n",
        "      <td>34.071</td>\n",
        "      <td>0.10</td>\n",
        "      <td>13.382</td>\n",
        "      <td>A</td>\n",
        "    </tr>\n",
        "    <tr>\n",
        "      <th>273902</th>\n",
        "      <td>20111231</td>\n",
        "      <td>2011</td>\n",
        "      <td>INDL</td>\n",
        "      <td>C</td>\n",
        "      <td>D</td>\n",
        "      <td>STD</td>\n",
        "      <td>PENGF</td>\n",
        "      <td>PRIMARY ENERGY RECYCLING CP</td>\n",
        "      <td>CAD</td>\n",
        "      <td>12</td>\n",
        "      <td>31.385</td>\n",
        "      <td>NaN</td>\n",
        "      <td>309.250</td>\n",
        "      <td>28.511</td>\n",
        "      <td>0.00</td>\n",
        "      <td>0.037</td>\n",
        "      <td>A</td>\n",
        "    </tr>\n",
        "    <tr>\n",
        "      <th>273902</th>\n",
        "      <td>20121231</td>\n",
        "      <td>2012</td>\n",
        "      <td>INDL</td>\n",
        "      <td>C</td>\n",
        "      <td>D</td>\n",
        "      <td>STD</td>\n",
        "      <td>PENGF</td>\n",
        "      <td>PRIMARY ENERGY RECYCLING CP</td>\n",
        "      <td>CAD</td>\n",
        "      <td>12</td>\n",
        "      <td>41.333</td>\n",
        "      <td>NaN</td>\n",
        "      <td>300.047</td>\n",
        "      <td>23.890</td>\n",
        "      <td>0.20</td>\n",
        "      <td>9.042</td>\n",
        "      <td>A</td>\n",
        "    </tr>\n",
        "    <tr>\n",
        "      <th>273902</th>\n",
        "      <td>20131231</td>\n",
        "      <td>2013</td>\n",
        "      <td>INDL</td>\n",
        "      <td>C</td>\n",
        "      <td>D</td>\n",
        "      <td>STD</td>\n",
        "      <td>PENGF</td>\n",
        "      <td>PRIMARY ENERGY RECYCLING CP</td>\n",
        "      <td>CAD</td>\n",
        "      <td>12</td>\n",
        "      <td>34.165</td>\n",
        "      <td>NaN</td>\n",
        "      <td>293.968</td>\n",
        "      <td>21.166</td>\n",
        "      <td>-0.04</td>\n",
        "      <td>-2.026</td>\n",
        "      <td>A</td>\n",
        "    </tr>\n",
        "    <tr>\n",
        "      <th>269005</th>\n",
        "      <td>20101231</td>\n",
        "      <td>2010</td>\n",
        "      <td>INDL</td>\n",
        "      <td>C</td>\n",
        "      <td>D</td>\n",
        "      <td>STD</td>\n",
        "      <td>CPL</td>\n",
        "      <td>CPFL ENERGIA SA</td>\n",
        "      <td>USD</td>\n",
        "      <td>12</td>\n",
        "      <td>2343.929</td>\n",
        "      <td>NaN</td>\n",
        "      <td>12059.891</td>\n",
        "      <td>1953.276</td>\n",
        "      <td>5.77</td>\n",
        "      <td>924.948</td>\n",
        "      <td>A</td>\n",
        "    </tr>\n",
        "  </tbody>\n",
        "</table>\n",
        "</div>"
       ],
       "metadata": {},
       "output_type": "pyout",
       "prompt_number": 179,
       "text": [
        "               datadate  fyear indfmt consol popsrc datafmt    tic  \\\n",
        "ggroup gvkey                                                         \n",
        "5510   273902  20101231   2010   INDL      C      D     STD  PENGF   \n",
        "       273902  20111231   2011   INDL      C      D     STD  PENGF   \n",
        "       273902  20121231   2012   INDL      C      D     STD  PENGF   \n",
        "       273902  20131231   2013   INDL      C      D     STD  PENGF   \n",
        "       269005  20101231   2010   INDL      C      D     STD    CPL   \n",
        "\n",
        "                                      conm curcd  fyr       act  artfs  \\\n",
        "ggroup gvkey                                                             \n",
        "5510   273902  PRIMARY ENERGY RECYCLING CP   CAD   12    34.821    NaN   \n",
        "       273902  PRIMARY ENERGY RECYCLING CP   CAD   12    31.385    NaN   \n",
        "       273902  PRIMARY ENERGY RECYCLING CP   CAD   12    41.333    NaN   \n",
        "       273902  PRIMARY ENERGY RECYCLING CP   CAD   12    34.165    NaN   \n",
        "       269005              CPFL ENERGIA SA   USD   12  2343.929    NaN   \n",
        "\n",
        "                      at    ebitda  epsfi       ni costat  \n",
        "ggroup gvkey                                               \n",
        "5510   273902    329.365    34.071   0.10   13.382      A  \n",
        "       273902    309.250    28.511   0.00    0.037      A  \n",
        "       273902    300.047    23.890   0.20    9.042      A  \n",
        "       273902    293.968    21.166  -0.04   -2.026      A  \n",
        "       269005  12059.891  1953.276   5.77  924.948      A  "
       ]
      }
     ],
     "prompt_number": 179
    },
    {
     "cell_type": "code",
     "collapsed": false,
     "input": [
      "crsp_data = pd.read_table('/Users/suppi/abhishekraj/crsp.output', sep='\\s+',header = None)\n",
      "crsp_data"
     ],
     "language": "python",
     "metadata": {},
     "outputs": []
    },
    {
     "cell_type": "markdown",
     "metadata": {},
     "source": [
      "**Reading Files in Chunks**\n",
      "\n",
      "When dealing with very large files, sometimes it is handy to work with a subset of file or to work on file iteratively in smaller chunks. This can be done in pandas using chunksize and nrows."
     ]
    },
    {
     "cell_type": "code",
     "collapsed": false,
     "input": [
      "#chunksize reduces data in memory at a particular point of time (very powerfull tool)\n",
      "altdata = pd.read_csv('abcd.csv', chunksize=1000000 )\n",
      "altdata"
     ],
     "language": "python",
     "metadata": {},
     "outputs": []
    },
    {
     "cell_type": "code",
     "collapsed": false,
     "input": [
      "#Try not to run this\n",
      "altdata1 = pd.read_csv('abcd.csv')\n",
      "altdata1.count()"
     ],
     "language": "python",
     "metadata": {},
     "outputs": []
    },
    {
     "cell_type": "markdown",
     "metadata": {},
     "source": [
      "Note that in previous case, you did not receive a table as output. Instead you were given an object. This is called a TextParser object. This object allows you to iterate over the complete compustat file according to the chunksize you mentioned. Let us suppose we want to aggregate ebitda values of the entire dataset. "
     ]
    },
    {
     "cell_type": "code",
     "collapsed": false,
     "input": [
      "total = 0\n",
      "for chunks in altdata:\n",
      "    total += chunks['ESTIMATOR'].sum()\n",
      "    print total\n",
      "total"
     ],
     "language": "python",
     "metadata": {},
     "outputs": []
    },
    {
     "cell_type": "markdown",
     "metadata": {},
     "source": [
      "** Handling missing values**\n",
      "\n",
      "Some types of missing values are automatically identified by pandas as NaN while importing the data. Those types are NA, NULL, -1.#IND. Additionally, you can also specify a list of missing values. "
     ]
    },
    {
     "cell_type": "code",
     "collapsed": false,
     "input": [
      "roemissing = pd.read_csv('roemissing.csv', na_values=['NULL',-999] )   #specify your own garbage values\n",
      "roemissing.head()"
     ],
     "language": "python",
     "metadata": {},
     "outputs": [
      {
       "html": [
        "<div style=\"max-width:1500px;overflow:auto;\">\n",
        "<table border=\"1\" class=\"dataframe\">\n",
        "  <thead>\n",
        "    <tr style=\"text-align: right;\">\n",
        "      <th></th>\n",
        "      <th>Industry Name</th>\n",
        "      <th>Number of firms</th>\n",
        "      <th>ROE</th>\n",
        "    </tr>\n",
        "  </thead>\n",
        "  <tbody>\n",
        "    <tr>\n",
        "      <th>0</th>\n",
        "      <td>Advertising</td>\n",
        "      <td>65</td>\n",
        "      <td>16.51%</td>\n",
        "    </tr>\n",
        "    <tr>\n",
        "      <th>1</th>\n",
        "      <td>Aerospace/Defense</td>\n",
        "      <td>95</td>\n",
        "      <td>21.60%</td>\n",
        "    </tr>\n",
        "    <tr>\n",
        "      <th>2</th>\n",
        "      <td>Air Transport</td>\n",
        "      <td>25</td>\n",
        "      <td>42.68%</td>\n",
        "    </tr>\n",
        "    <tr>\n",
        "      <th>3</th>\n",
        "      <td>Apparel</td>\n",
        "      <td>70</td>\n",
        "      <td>17.87%</td>\n",
        "    </tr>\n",
        "    <tr>\n",
        "      <th>4</th>\n",
        "      <td>Auto &amp; Truck</td>\n",
        "      <td>26</td>\n",
        "      <td>22.05%</td>\n",
        "    </tr>\n",
        "  </tbody>\n",
        "</table>\n",
        "</div>"
       ],
       "metadata": {},
       "output_type": "pyout",
       "prompt_number": 182,
       "text": [
        "       Industry Name  Number of firms     ROE\n",
        "0        Advertising               65  16.51%\n",
        "1  Aerospace/Defense               95  21.60%\n",
        "2      Air Transport               25  42.68%\n",
        "3            Apparel               70  17.87%\n",
        "4       Auto & Truck               26  22.05%"
       ]
      }
     ],
     "prompt_number": 182
    },
    {
     "cell_type": "code",
     "collapsed": false,
     "input": [
      "roemissing = pd.read_csv('roemissing.csv', na_values={'Number of firms':['NULL',-999],'ROE':['10000.00%']} )\n",
      "roemissing"
     ],
     "language": "python",
     "metadata": {},
     "outputs": [
      {
       "html": [
        "<div style=\"max-width:1500px;overflow:auto;\">\n",
        "<table border=\"1\" class=\"dataframe\">\n",
        "  <thead>\n",
        "    <tr style=\"text-align: right;\">\n",
        "      <th></th>\n",
        "      <th>Industry Name</th>\n",
        "      <th>Number of firms</th>\n",
        "      <th>ROE</th>\n",
        "    </tr>\n",
        "  </thead>\n",
        "  <tbody>\n",
        "    <tr>\n",
        "      <th>0</th>\n",
        "      <td>Advertising</td>\n",
        "      <td>65</td>\n",
        "      <td>16.51%</td>\n",
        "    </tr>\n",
        "    <tr>\n",
        "      <th>1</th>\n",
        "      <td>Aerospace/Defense</td>\n",
        "      <td>95</td>\n",
        "      <td>21.60%</td>\n",
        "    </tr>\n",
        "    <tr>\n",
        "      <th>2</th>\n",
        "      <td>Air Transport</td>\n",
        "      <td>25</td>\n",
        "      <td>42.68%</td>\n",
        "    </tr>\n",
        "    <tr>\n",
        "      <th>3</th>\n",
        "      <td>Apparel</td>\n",
        "      <td>70</td>\n",
        "      <td>17.87%</td>\n",
        "    </tr>\n",
        "    <tr>\n",
        "      <th>4</th>\n",
        "      <td>Auto &amp; Truck</td>\n",
        "      <td>26</td>\n",
        "      <td>22.05%</td>\n",
        "    </tr>\n",
        "  </tbody>\n",
        "</table>\n",
        "</div>"
       ],
       "metadata": {},
       "output_type": "pyout",
       "prompt_number": 184,
       "text": [
        "       Industry Name  Number of firms     ROE\n",
        "0        Advertising               65  16.51%\n",
        "1  Aerospace/Defense               95  21.60%\n",
        "2      Air Transport               25  42.68%\n",
        "3            Apparel               70  17.87%\n",
        "4       Auto & Truck               26  22.05%"
       ]
      }
     ],
     "prompt_number": 184
    },
    {
     "cell_type": "markdown",
     "metadata": {},
     "source": [
      "**Writing Data**"
     ]
    },
    {
     "cell_type": "code",
     "collapsed": false,
     "input": [
      "roedata = pd.read_csv('roedata.csv')\n",
      "roedata.to_csv('roedatawrite.csv')"
     ],
     "language": "python",
     "metadata": {},
     "outputs": [],
     "prompt_number": 185
    },
    {
     "cell_type": "code",
     "collapsed": false,
     "input": [
      "roedata = pd.read_csv('roedata.csv')\n",
      "roedata.to_csv('roedatawrite2.csv', index=False, cols=['Industry Name','ROE'])"
     ],
     "language": "python",
     "metadata": {},
     "outputs": [],
     "prompt_number": 186
    },
    {
     "cell_type": "markdown",
     "metadata": {},
     "source": [
      "**Merging Data**"
     ]
    },
    {
     "cell_type": "code",
     "collapsed": false,
     "input": [
      "import pandas as pd"
     ],
     "language": "python",
     "metadata": {},
     "outputs": [],
     "prompt_number": 187
    },
    {
     "cell_type": "code",
     "collapsed": false,
     "input": [
      "left_frame = pd.DataFrame({'key': range(5), \n",
      "                           'left_value': ['a', 'b', 'c', 'd', 'e']})\n",
      "right_frame = pd.DataFrame({'key': range(2, 7), \n",
      "                           'right_value': ['f', 'g', 'h', 'i', 'j']})\n",
      "print(left_frame)\n",
      "print('\\n')\n",
      "print(right_frame)"
     ],
     "language": "python",
     "metadata": {},
     "outputs": [
      {
       "output_type": "stream",
       "stream": "stdout",
       "text": [
        "   key left_value\n",
        "0    0          a\n",
        "1    1          b\n",
        "2    2          c\n",
        "3    3          d\n",
        "4    4          e\n",
        "\n",
        "\n",
        "   key right_value\n",
        "0    2           f\n",
        "1    3           g\n",
        "2    4           h\n",
        "3    5           i\n",
        "4    6           j\n"
       ]
      }
     ],
     "prompt_number": 189
    },
    {
     "cell_type": "code",
     "collapsed": false,
     "input": [
      "pd.merge(left_frame, right_frame, on='key', how='inner')"
     ],
     "language": "python",
     "metadata": {},
     "outputs": [
      {
       "html": [
        "<div style=\"max-width:1500px;overflow:auto;\">\n",
        "<table border=\"1\" class=\"dataframe\">\n",
        "  <thead>\n",
        "    <tr style=\"text-align: right;\">\n",
        "      <th></th>\n",
        "      <th>key</th>\n",
        "      <th>left_value</th>\n",
        "      <th>right_value</th>\n",
        "    </tr>\n",
        "  </thead>\n",
        "  <tbody>\n",
        "    <tr>\n",
        "      <th>0</th>\n",
        "      <td>2</td>\n",
        "      <td>c</td>\n",
        "      <td>f</td>\n",
        "    </tr>\n",
        "    <tr>\n",
        "      <th>1</th>\n",
        "      <td>3</td>\n",
        "      <td>d</td>\n",
        "      <td>g</td>\n",
        "    </tr>\n",
        "    <tr>\n",
        "      <th>2</th>\n",
        "      <td>4</td>\n",
        "      <td>e</td>\n",
        "      <td>h</td>\n",
        "    </tr>\n",
        "  </tbody>\n",
        "</table>\n",
        "</div>"
       ],
       "metadata": {},
       "output_type": "pyout",
       "prompt_number": 190,
       "text": [
        "   key left_value right_value\n",
        "0    2          c           f\n",
        "1    3          d           g\n",
        "2    4          e           h"
       ]
      }
     ],
     "prompt_number": 190
    },
    {
     "cell_type": "code",
     "collapsed": false,
     "input": [
      "pd.merge(left_frame, right_frame, on='key', how='left')"
     ],
     "language": "python",
     "metadata": {},
     "outputs": []
    },
    {
     "cell_type": "code",
     "collapsed": false,
     "input": [
      "pd.merge(left_frame, right_frame, on='key', how='right')"
     ],
     "language": "python",
     "metadata": {},
     "outputs": []
    },
    {
     "cell_type": "code",
     "collapsed": false,
     "input": [
      "pd.merge(left_frame, right_frame, on='key', how='outer')"
     ],
     "language": "python",
     "metadata": {},
     "outputs": []
    },
    {
     "cell_type": "code",
     "collapsed": false,
     "input": [
      "pd.concat([left_frame, right_frame])"
     ],
     "language": "python",
     "metadata": {},
     "outputs": []
    },
    {
     "cell_type": "code",
     "collapsed": false,
     "input": [
      "pd.concat([left_frame, right_frame], axis=1)"
     ],
     "language": "python",
     "metadata": {},
     "outputs": []
    },
    {
     "cell_type": "code",
     "collapsed": false,
     "input": [],
     "language": "python",
     "metadata": {},
     "outputs": []
    }
   ],
   "metadata": {}
  }
 ]
}